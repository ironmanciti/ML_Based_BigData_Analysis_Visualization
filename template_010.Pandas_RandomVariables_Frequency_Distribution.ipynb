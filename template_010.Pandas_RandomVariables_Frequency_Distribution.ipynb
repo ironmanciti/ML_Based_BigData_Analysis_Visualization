{
 "cells": [
  {
   "cell_type": "markdown",
   "metadata": {},
   "source": [
    "# Pandas를 활용한 통계 기초 및 시각화"
   ]
  },
  {
   "cell_type": "markdown",
   "metadata": {},
   "source": [
    "## Discrete Random Variables (이산 확률 변수)"
   ]
  },
  {
   "cell_type": "markdown",
   "metadata": {},
   "source": [
    "### 주사위 게임\n",
    "\n",
    "2개의 주사위를 굴린 결과를 모방하므로 다른 결과를 얻을 수 있지만 범위는 2에서 12 사이로 제한되어야 합니다."
   ]
  },
  {
   "cell_type": "markdown",
   "metadata": {},
   "source": [
    "두개의 주사위를 던진다 -> 1~6 숫자를 두번 복원 추출."
   ]
  },
  {
   "cell_type": "markdown",
   "metadata": {},
   "source": [
    "# Frequency and Distribution (빈도 및 분포)"
   ]
  },
  {
   "cell_type": "markdown",
   "metadata": {},
   "source": [
    "### 여러 번 주사위 던지기 게임을 모방\n",
    "\n",
    "- 다음 코드는 50번 반복하는 주사위 게임을 모방합니다. 그리고 결과는 모두 `results` 에 저장됩니다."
   ]
  },
  {
   "cell_type": "markdown",
   "metadata": {},
   "source": [
    "- 합계를 빈도수별로 정리한 코드입니다.\n",
    "- value_counts() - 고유한 값의 개수를 포함하는 시리즈를 반환합니다."
   ]
  },
  {
   "cell_type": "markdown",
   "metadata": {},
   "source": [
    "## Relative Frequency (상대 빈도)\n",
    "\n",
    "- 상대 빈도를 사용하여 다른 시도 횟수의 결과를 비교할 수 있도록 빈도를 재조정할 수 있습니다."
   ]
  },
  {
   "cell_type": "markdown",
   "metadata": {},
   "source": [
    "- 시도 횟수를 10,000으로 늘리면 정규 분포 형태를 보입니다."
   ]
  },
  {
   "cell_type": "markdown",
   "metadata": {},
   "source": [
    "## Distribution (분포)의 평균과 분산\n",
    "\n",
    "$$mean (expectation) = \\sum_{i}x_i p_i$$\n",
    "$$variance = \\sum_{i}(x_i - mean)^2 p_i$$\n",
    "\n",
    "- 분포의 평균과 분산을 출력합니다. 평균과 분산을 사용하여 분포를 설명할 수 있습니다."
   ]
  },
  {
   "cell_type": "markdown",
   "metadata": {},
   "source": [
    "## 평균\n",
    "\n",
    "$$mean (expectation) = \\sum_{i}x_i p_i$$"
   ]
  },
  {
   "cell_type": "markdown",
   "metadata": {},
   "source": [
    "**평균 7 은 histogram 에서 나타난 평균 7 과 일치**"
   ]
  },
  {
   "cell_type": "markdown",
   "metadata": {},
   "source": [
    "## 분산\n",
    "- 기댓값 $\\displaystyle \\mu =\\operatorname {E} [X]$$\\displaystyle \\mu =\\operatorname {E} [X]$로부터 확률변수가 얼마나 떨어져있는지 그 정도를 제곱한 것의 기댓값\n",
    "$$variance = \\sum_{i}(x_i -\\mu)^2 p_i$$"
   ]
  },
  {
   "cell_type": "markdown",
   "metadata": {},
   "source": [
    "- 표준 편차"
   ]
  },
  {
   "cell_type": "markdown",
   "metadata": {},
   "source": [
    "- kde plot 시각화로 평균, 표준 편차 확인"
   ]
  },
  {
   "cell_type": "markdown",
   "metadata": {},
   "source": [
    "- 계산한 평균, 표준 편차와 시각화 내용이 일치"
   ]
  },
  {
   "cell_type": "markdown",
   "metadata": {},
   "source": [
    "# 모집단, 표본집단, 신뢰구간"
   ]
  },
  {
   "cell_type": "markdown",
   "metadata": {},
   "source": [
    "## Population and Sample (모집단, 표본집단)"
   ]
  },
  {
   "cell_type": "markdown",
   "metadata": {},
   "source": [
    "- 복원 추출법"
   ]
  },
  {
   "cell_type": "markdown",
   "metadata": {},
   "source": [
    "- 비복원 추출법"
   ]
  },
  {
   "cell_type": "markdown",
   "metadata": {},
   "source": [
    "# Parameters and Statistics (모수와 통계치)"
   ]
  },
  {
   "cell_type": "markdown",
   "metadata": {},
   "source": [
    "# Variation of Sample (표본의 분산)\n",
    "\n",
    "- 표본 평균은 자유도가 1 감소하므로 `ddof=1`로 지정"
   ]
  }
 ],
 "metadata": {
  "kernelspec": {
   "display_name": "Python 3",
   "language": "python",
   "name": "python3"
  },
  "language_info": {
   "codemirror_mode": {
    "name": "ipython",
    "version": 3
   },
   "file_extension": ".py",
   "mimetype": "text/x-python",
   "name": "python",
   "nbconvert_exporter": "python",
   "pygments_lexer": "ipython3",
   "version": "3.7.3"
  }
 },
 "nbformat": 4,
 "nbformat_minor": 2
}
