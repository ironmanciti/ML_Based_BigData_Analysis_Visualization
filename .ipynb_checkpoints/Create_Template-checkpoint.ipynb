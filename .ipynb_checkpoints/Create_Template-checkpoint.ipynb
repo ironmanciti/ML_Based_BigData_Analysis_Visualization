{
 "cells": [
  {
   "cell_type": "code",
   "execution_count": 1,
   "id": "e522c1a0",
   "metadata": {},
   "outputs": [
    {
     "name": "stdout",
     "output_type": "stream",
     "text": [
      "['000_Crash0_Python Crash Course.ipynb', '002_Numpy and Linear Algebra.ipynb', '004.Pandas Basic.ipynb', '005.Pandas-Advanced.ipynb', '008. Matplolib Basic WordCloud.ipynb', '009. Pandas Visualization.ipynb', '010.Pandas_RandomVariables_Frequency_Distribution.ipynb', '012.Seaborn Introduction.ipynb', '013.Seaborn Advanced.ipynb', '070.exploratory_data_analysis_CarPrice.ipynb', '071.exploratory_data_analysis_McDonal.ipynb', '072.FeatureScaling.ipynb', '073.meshgrid_3D Visualization.ipynb', '074.Simple_Linear_Regression_diabetes.ipynb', '075.LinearRegression_CapstoneProject_DataWrangling-MPG.ipynb', '110.Logistic_Regression.ipynb', '120.KNN.ipynb', '130.DecisionTree.ipynb', '150.SVM.ipynb', '151_Binary Classification_CapstoneProject_Spam Filtering .ipynb', '160.RandomForest and Gradient Boosting.ipynb', '170.Boston Regression with XGBoost.ipynb', '175. Feature Engineering - Titanic.ipynb', '180.kmeans_and_DBSCAN.ipynb', '181.kmeans_Customer_Segmentation.ipynb', '190. PCA.ipynb', '200_Classification_CapstoneProject_1_Biased_creditCard.ipynb', '210_Classification_CapstoneProject_2_XGBoost_Churn_Data.ipynb', 'Solution_110_Logistic_Regression.ipynb', 'Solution_150_SVM.ipynb']\n"
     ]
    }
   ],
   "source": [
    "import nbformat as nbf\n",
    "import os\n",
    "\n",
    "notebooks = [file for file in os.listdir(os.getcwd())  if file.endswith('.ipynb') and \n",
    "                    file not in ['Merging_Notebooks.ipynb', 'empty_page.ipynb', 'Untitled.ipynb',  \n",
    "                                 'Create_Template.ipynb'] and not file.startswith('combine') and\n",
    "                                 not file.startswith('Solution')]\n",
    "\n",
    "print(notebooks)\n",
    "\n",
    "for note in notebooks:\n",
    "    ntbk = nbf.read(note, nbf.NO_CONVERT)\n",
    "    new_ntbk = ntbk\n",
    "    new_ntbk.cells = [cell for cell in ntbk.cells if cell.cell_type == \"markdown\"]\n",
    "    nbf.write(new_ntbk, \"template_\" + note, version=nbf.NO_CONVERT)"
   ]
  },
  {
   "cell_type": "code",
   "execution_count": null,
   "id": "dd58875a",
   "metadata": {},
   "outputs": [],
   "source": []
  }
 ],
 "metadata": {
  "kernelspec": {
   "display_name": "Python 3",
   "language": "python",
   "name": "python3"
  },
  "language_info": {
   "codemirror_mode": {
    "name": "ipython",
    "version": 3
   },
   "file_extension": ".py",
   "mimetype": "text/x-python",
   "name": "python",
   "nbconvert_exporter": "python",
   "pygments_lexer": "ipython3",
   "version": "3.7.3"
  }
 },
 "nbformat": 4,
 "nbformat_minor": 5
}
