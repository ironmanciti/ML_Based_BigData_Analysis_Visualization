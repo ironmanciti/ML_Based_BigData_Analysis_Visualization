{
 "cells": [
  {
   "cell_type": "markdown",
   "metadata": {
    "id": "og3XGhHiQ8NR"
   },
   "source": [
    "# Advanced Feature Engineering in Keras \n",
    "\n",
    "1. Keras에서 시간 특성 열 처리\n",
    "2. Lambda layer를 사용하여 지리적 위치 feature에 대한 Feature Engineering 수행\n",
    "3. bucketized and crossed feature columns 만들기\n",
    " \n",
    "\n",
    "## 택시 요금 예측 모델 구축\n",
    "\n",
    "- Feature Engineering을 활용하여 NYC 택시 승차시 요금 예측을 개선"
   ]
  },
  {
   "cell_type": "code",
   "execution_count": 1,
   "metadata": {
    "id": "gUsALpLZQ8NT"
   },
   "outputs": [],
   "source": [
    "import matplotlib.pyplot as plt\n",
    "import numpy as np\n",
    "import tensorflow as tf\n",
    "\n",
    "from tensorflow import feature_column as fc\n",
    "from tensorflow.keras.layers import Dense, Input, DenseFeatures, Lambda\n",
    "from tensorflow.keras.models import Model"
   ]
  },
  {
   "cell_type": "markdown",
   "metadata": {
    "id": "GUx8GpTmQ8NU"
   },
   "source": [
    "## Load taxifare dataset\n",
    "- Taxi Fare 데이터 세트는 106,545 행이며 사전 처리 및 분할되어 있다. \n",
    "\n",
    "\n",
    "- fare_amount는 예측할 모델을 학습시킬 연속 값인 target"
   ]
  },
  {
   "cell_type": "code",
   "execution_count": 51,
   "metadata": {
    "colab": {
     "base_uri": "https://localhost:8080/"
    },
    "id": "kk4FTFSzQ8NV",
    "outputId": "c2c08a58-c4c3-4e48-d3fd-7932ececc30a"
   },
   "outputs": [
    {
     "name": "stdout",
     "output_type": "stream",
     "text": [
      "-rw-r--r-- 1 root root 123590 May 29 17:56 ./data/taxi-test.csv\n",
      "-rw-r--r-- 1 root root 579055 May 29 17:56 ./data/taxi-train.csv\n",
      "-rw-r--r-- 1 root root 123114 May 29 17:56 ./data/taxi-valid.csv\n"
     ]
    }
   ],
   "source": [
    "!ls -l ./data/*.csv"
   ]
  },
  {
   "cell_type": "code",
   "execution_count": 52,
   "metadata": {
    "colab": {
     "base_uri": "https://localhost:8080/"
    },
    "id": "voE-xpxBQ8NV",
    "outputId": "ff813e63-70b2-4edc-ce23-b613c64311bc"
   },
   "outputs": [
    {
     "name": "stdout",
     "output_type": "stream",
     "text": [
      "==> ./data/taxi-test.csv <==\n",
      "6.0,2013-03-27 03:35:00 UTC,-73.977672,40.784052,-73.965332,40.801025,2,0\n",
      "19.3,2012-05-10 18:43:16 UTC,-73.954366,40.778924,-74.004094,40.723104,1,1\n",
      "7.5,2014-05-20 23:09:00 UTC,-73.999165,40.738377,-74.003473,40.723862,2,2\n",
      "\n",
      "==> ./data/taxi-train.csv <==\n",
      "11.3,2011-01-28 20:42:59 UTC,-73.999022,40.739146,-73.990369,40.717866,1,0\n",
      "7.7,2011-06-27 04:28:06 UTC,-73.987443,40.729221,-73.979013,40.758641,1,1\n",
      "10.5,2011-04-03 00:54:53 UTC,-73.982539,40.735725,-73.954797,40.778388,1,2\n",
      "\n",
      "==> ./data/taxi-valid.csv <==\n",
      "5.3,2012-01-03 19:21:35 UTC,-73.962627,40.763214,-73.973485,40.753353,1,0\n",
      "25.3,2010-09-27 07:30:15 UTC,-73.965799,40.794243,-73.927134,40.852261,3,1\n",
      "27.5,2015-05-19 00:40:02 UTC,-73.86344146728516,40.76899719238281,-73.96058654785156,40.76129913330078,1,2\n"
     ]
    }
   ],
   "source": [
    "!head -n3 ./data/taxi*.csv"
   ]
  },
  {
   "cell_type": "markdown",
   "metadata": {
    "id": "SM1e86bkQ8NW"
   },
   "source": [
    "## Create an input pipeline   \n",
    "\n",
    "일반적으로 파이프 라인을 빌드하려면 2 단계 프로세스를 사용합니다. \n",
    "\n",
    "- 1 단계 : 데이터 열 정의   \n",
    "- 2 단계 : 사용할 feature 및 label을 정의하는 함수와 훈련 데이터를 로드하는 두 가지 함수를 정의 \n",
    "\n",
    "또한 `pickup_datetime`은 문자열이며 feature engineering을 한 model에서 이를 처리."
   ]
  },
  {
   "cell_type": "code",
   "execution_count": 53,
   "metadata": {
    "id": "oW2eImDDQ8NW"
   },
   "outputs": [],
   "source": [
    "# 1 단계 - Data 열 정의\n",
    "CSV_COLUMNS = [\n",
    "    'fare_amount',\n",
    "    'pickup_datetime',\n",
    "    'pickup_longitude',\n",
    "    'pickup_latitude',\n",
    "    'dropoff_longitude',\n",
    "    'dropoff_latitude',\n",
    "    'passenger_count',\n",
    "    'key',\n",
    "]\n",
    "\n",
    "LABEL_COLUMN = 'fare_amount'\n",
    "\n",
    "STRING_COLS = ['pickup_datetime']\n",
    "\n",
    "NUMERIC_COLS = ['pickup_longitude', 'pickup_latitude',\n",
    "                'dropoff_longitude', 'dropoff_latitude',\n",
    "                'passenger_count']\n",
    "\n",
    "DEFAULTS = [[0.0], ['na'], [0.0], [0.0], [0.0], [0.0], [0.0], ['na']]\n",
    "\n",
    "DAYS = ['Sun', 'Mon', 'Tue', 'Wed', 'Thu', 'Fri', 'Sat']"
   ]
  },
  {
   "cell_type": "code",
   "execution_count": 54,
   "metadata": {
    "id": "u3U0QJR9Q8NW"
   },
   "outputs": [],
   "source": [
    "# 2 단계 - features and label 정의 함수\n",
    "def features_and_labels(row_data):\n",
    "    for unwanted_col in ['key']:\n",
    "        row_data.pop(unwanted_col)\n",
    "        \n",
    "    label = row_data.pop(LABEL_COLUMN)\n",
    "    \n",
    "    return row_data, label\n",
    "\n",
    "\n",
    "# Dataframe 에서 tf.data 데이터 세트를 만드는 유틸리티 method\n",
    "def load_dataset(pattern, batch_size=1, mode='eval'):\n",
    "    dataset = tf.data.experimental.make_csv_dataset(pattern,\n",
    "                                                    batch_size,\n",
    "                                                    CSV_COLUMNS,\n",
    "                                                    DEFAULTS)\n",
    "    dataset = dataset.map(features_and_labels)  # features, label\n",
    "    \n",
    "    if mode == 'train':\n",
    "        dataset = dataset.shuffle(1000).repeat() #데이터 셋을 반복\n",
    "        dataset = dataset.prefetch(1)  #1=AUTOTUNE\n",
    "    return dataset"
   ]
  },
  {
   "cell_type": "markdown",
   "metadata": {
    "id": "Ee13IsSBQ8NX"
   },
   "source": [
    "## Create a Baseline DNN Model in Keras\n",
    "\n",
    "이제 functional API를 사용하여 Keras에서 심층 신경망 (DNN) 모델을 구축해 보겠습니다. feature engineering이 없는 선형 회귀 baseline model을 생성합니다. "
   ]
  },
  {
   "cell_type": "code",
   "execution_count": 55,
   "metadata": {
    "id": "bkF_SuV2Q8NX"
   },
   "outputs": [],
   "source": [
    "def rmse(y_true, y_pred):  # Root mean square error\n",
    "    return tf.sqrt(tf.reduce_mean(tf.square(y_pred - y_true)))"
   ]
  },
  {
   "cell_type": "code",
   "execution_count": 56,
   "metadata": {
    "colab": {
     "base_uri": "https://localhost:8080/"
    },
    "id": "_i-61To9Q8NX",
    "outputId": "aa43b275-1708-405f-fdf6-2be9878bca82"
   },
   "outputs": [
    {
     "data": {
      "text/plain": [
       "{'dropoff_latitude': <KerasTensor: shape=(None,) dtype=float32 (created by layer 'dropoff_latitude')>,\n",
       " 'dropoff_longitude': <KerasTensor: shape=(None,) dtype=float32 (created by layer 'dropoff_longitude')>,\n",
       " 'passenger_count': <KerasTensor: shape=(None,) dtype=float32 (created by layer 'passenger_count')>,\n",
       " 'pickup_datetime': <KerasTensor: shape=(None,) dtype=string (created by layer 'pickup_datetime')>,\n",
       " 'pickup_latitude': <KerasTensor: shape=(None,) dtype=float32 (created by layer 'pickup_latitude')>,\n",
       " 'pickup_longitude': <KerasTensor: shape=(None,) dtype=float32 (created by layer 'pickup_longitude')>}"
      ]
     },
     "execution_count": 56,
     "metadata": {
      "tags": []
     },
     "output_type": "execute_result"
    }
   ],
   "source": [
    "# input layer\n",
    "inputs = {\n",
    "    col: Input(name=col, shape=(), dtype='float32') for col in NUMERIC_COLS\n",
    "}\n",
    "\n",
    "inputs.update({\n",
    "    col: Input(name=col, shape=(), dtype='string') for col in STRING_COLS\n",
    "    })\n",
    "\n",
    "inputs"
   ]
  },
  {
   "cell_type": "code",
   "execution_count": 57,
   "metadata": {
    "colab": {
     "base_uri": "https://localhost:8080/"
    },
    "id": "ck_GW3LFQ8NX",
    "outputId": "1b7a6689-404f-45f5-8760-637790e4a76e"
   },
   "outputs": [
    {
     "data": {
      "text/plain": [
       "{'dropoff_latitude': NumericColumn(key='dropoff_latitude', shape=(1,), default_value=None, dtype=tf.float32, normalizer_fn=None),\n",
       " 'dropoff_longitude': NumericColumn(key='dropoff_longitude', shape=(1,), default_value=None, dtype=tf.float32, normalizer_fn=None),\n",
       " 'passenger_count': NumericColumn(key='passenger_count', shape=(1,), default_value=None, dtype=tf.float32, normalizer_fn=None),\n",
       " 'pickup_latitude': NumericColumn(key='pickup_latitude', shape=(1,), default_value=None, dtype=tf.float32, normalizer_fn=None),\n",
       " 'pickup_longitude': NumericColumn(key='pickup_longitude', shape=(1,), default_value=None, dtype=tf.float32, normalizer_fn=None)}"
      ]
     },
     "execution_count": 57,
     "metadata": {
      "tags": []
     },
     "output_type": "execute_result"
    }
   ],
   "source": [
    "# feature_columns\n",
    "feature_columns = {\n",
    "    col: fc.numeric_column(col) for col in NUMERIC_COLS\n",
    "}\n",
    "\n",
    "feature_columns"
   ]
  },
  {
   "cell_type": "code",
   "execution_count": 58,
   "metadata": {
    "id": "SRvPMfLiQ8NY"
   },
   "outputs": [],
   "source": [
    "# DenseFeatures의 생성자는 숫자 열 목록을 사용\n",
    "dnn_inputs = DenseFeatures(feature_columns.values())(inputs)\n",
    "\n",
    "h1 = Dense(32, activation='relu', name='h1')(dnn_inputs)\n",
    "h2 = Dense(8, activation='relu', name='h2')(h1)\n",
    "\n",
    "output = Dense(1, name='fare')(h2)\n",
    "model = Model(inputs, output)\n",
    "\n",
    "model.compile(optimizer='adam', loss='mse', metrics=[rmse, 'mse'])"
   ]
  },
  {
   "cell_type": "code",
   "execution_count": 59,
   "metadata": {
    "colab": {
     "base_uri": "https://localhost:8080/",
     "height": 324
    },
    "id": "qQhCH0B5Q8NY",
    "outputId": "1511076a-d118-4a75-a4a6-0ac4d9cfb68c"
   },
   "outputs": [
    {
     "data": {
      "image/png": "[encoded data removed]",
      "text/plain": [
       "<IPython.core.display.Image object>"
      ]
     },
     "execution_count": 59,
     "metadata": {
      "tags": []
     },
     "output_type": "execute_result"
    }
   ],
   "source": [
    "tf.keras.utils.plot_model(model, show_shapes=False)"
   ]
  },
  {
   "cell_type": "markdown",
   "metadata": {
    "id": "9gHSWLX5Q8NY"
   },
   "source": [
    "## Train the model"
   ]
  },
  {
   "cell_type": "code",
   "execution_count": 60,
   "metadata": {
    "id": "bkQ5zxcSQ8NY"
   },
   "outputs": [],
   "source": [
    "TRAIN_BATCH_SIZE = 32 \n",
    "NUM_TRAIN_EXAMPLES = 59621 * 5\n",
    "EPOCHS = 5\n",
    "NUM_EVAL_EXAMPLES = 14906"
   ]
  },
  {
   "cell_type": "code",
   "execution_count": 61,
   "metadata": {
    "colab": {
     "base_uri": "https://localhost:8080/"
    },
    "id": "l1qBYDVKQ8NZ",
    "outputId": "7df58fbf-df05-43ea-f1cd-45825697f8ae"
   },
   "outputs": [
    {
     "data": {
      "text/plain": [
       "<PrefetchDataset shapes: (OrderedDict([(pickup_datetime, (32,)), (pickup_longitude, (32,)), (pickup_latitude, (32,)), (dropoff_longitude, (32,)), (dropoff_latitude, (32,)), (passenger_count, (32,))]), (32,)), types: (OrderedDict([(pickup_datetime, tf.string), (pickup_longitude, tf.float32), (pickup_latitude, tf.float32), (dropoff_longitude, tf.float32), (dropoff_latitude, tf.float32), (passenger_count, tf.float32)]), tf.float32)>"
      ]
     },
     "execution_count": 61,
     "metadata": {
      "tags": []
     },
     "output_type": "execute_result"
    }
   ],
   "source": [
    "# `load_dataset` method is used to load the dataset.\n",
    "trainds = load_dataset('./data/taxi-train*', TRAIN_BATCH_SIZE, 'train')\n",
    "evalds = load_dataset('./data/taxi-valid*', 1000, 'eval').take(NUM_EVAL_EXAMPLES//1000)\n",
    "\n",
    "trainds"
   ]
  },
  {
   "cell_type": "code",
   "execution_count": 62,
   "metadata": {
    "colab": {
     "base_uri": "https://localhost:8080/"
    },
    "id": "_yJuaXFlQ8NZ",
    "outputId": "f4810bc9-f467-4e4a-beb8-1f4704726043"
   },
   "outputs": [
    {
     "name": "stdout",
     "output_type": "stream",
     "text": [
      "Epoch 1/5\n",
      "1863/1863 [==============================] - 6s 3ms/step - loss: 96.9587 - rmse: 9.2003 - mse: 96.9587 - val_loss: 110.8028 - val_rmse: 10.5213 - val_mse: 110.8028\n",
      "Epoch 2/5\n",
      "1863/1863 [==============================] - 5s 2ms/step - loss: 96.1233 - rmse: 9.1522 - mse: 96.1233 - val_loss: 110.7127 - val_rmse: 10.5031 - val_mse: 110.7127\n",
      "Epoch 3/5\n",
      "1863/1863 [==============================] - 5s 3ms/step - loss: 94.7027 - rmse: 9.1232 - mse: 94.7027 - val_loss: 110.5704 - val_rmse: 10.4928 - val_mse: 110.5704\n",
      "Epoch 4/5\n",
      "1863/1863 [==============================] - 5s 3ms/step - loss: 97.4769 - rmse: 9.2526 - mse: 97.4769 - val_loss: 110.8017 - val_rmse: 10.5075 - val_mse: 110.8017\n",
      "Epoch 5/5\n",
      "1863/1863 [==============================] - 5s 2ms/step - loss: 94.2745 - rmse: 9.1495 - mse: 94.2745 - val_loss: 110.5710 - val_rmse: 10.5030 - val_mse: 110.5710\n"
     ]
    }
   ],
   "source": [
    "steps_per_epoch = NUM_TRAIN_EXAMPLES // (TRAIN_BATCH_SIZE * NUM_EVALS)\n",
    "\n",
    "history = model.fit(trainds,\n",
    "                    validation_data=evalds,\n",
    "                    epochs=EPOCHS,\n",
    "                    steps_per_epoch=steps_per_epoch)"
   ]
  },
  {
   "cell_type": "code",
   "execution_count": 63,
   "metadata": {
    "id": "rzcjb7FDQ8NZ"
   },
   "outputs": [],
   "source": [
    "# A function to define plot_curves.\n",
    "def plot_curves(history, metrics):\n",
    "    nrows = 1\n",
    "    ncols = 2\n",
    "    fig = plt.figure(figsize=(10, 5))\n",
    "    for idx, key in enumerate(metrics):  \n",
    "        ax = fig.add_subplot(nrows, ncols, idx+1)\n",
    "        plt.plot(history.history[key])\n",
    "        plt.plot(history.history['val_{}'.format(key)])\n",
    "        plt.title(f'model {key}')\n",
    "        plt.ylabel(key)\n",
    "        plt.xlabel('epoch')\n",
    "        plt.legend(['train', 'validation']);    "
   ]
  },
  {
   "cell_type": "code",
   "execution_count": 64,
   "metadata": {
    "colab": {
     "base_uri": "https://localhost:8080/",
     "height": 350
    },
    "id": "dcGRCa11Q8Na",
    "outputId": "f001914e-0a9d-425f-cd06-5b55d5931255"
   },
   "outputs": [
    {
     "data": {
      "image/png": "[encoded data removed]",
      "text/plain": [
       "<Figure size 720x360 with 2 Axes>"
      ]
     },
     "metadata": {
      "needs_background": "light",
      "tags": []
     },
     "output_type": "display_data"
    }
   ],
   "source": [
    "plot_curves(history, ['loss', 'mse'])"
   ]
  },
  {
   "cell_type": "markdown",
   "metadata": {
    "id": "KqywNoEsQ8Na"
   },
   "source": [
    "### Predict with the model"
   ]
  },
  {
   "cell_type": "code",
   "execution_count": 65,
   "metadata": {
    "colab": {
     "base_uri": "https://localhost:8080/"
    },
    "id": "Jjf4Ay2MQ8Na",
    "outputId": "85044a47-9d0a-4669-971e-16e8bec14e56"
   },
   "outputs": [
    {
     "data": {
      "text/plain": [
       "array([[11.447929]], dtype=float32)"
      ]
     },
     "execution_count": 65,
     "metadata": {
      "tags": []
     },
     "output_type": "execute_result"
    }
   ],
   "source": [
    "model.predict({\n",
    "    'pickup_longitude': tf.convert_to_tensor([-73.982683]),\n",
    "    'pickup_latitude': tf.convert_to_tensor([40.742104]),\n",
    "    'dropoff_longitude': tf.convert_to_tensor([-73.983766]),\n",
    "    'dropoff_latitude': tf.convert_to_tensor([40.755174]),\n",
    "    'passenger_count': tf.convert_to_tensor([3.0]),\n",
    "    'pickup_datetime': tf.convert_to_tensor(['2010-02-08 09:17:00 UTC'], dtype=tf.string),\n",
    "})"
   ]
  },
  {
   "cell_type": "markdown",
   "metadata": {
    "id": "vM5q3UoJQ8Na"
   },
   "source": [
    "## Feature Engineering 을 이용하여 Model Performance 개선"
   ]
  },
  {
   "cell_type": "markdown",
   "metadata": {
    "id": "8WBwS6z2Q8Nb"
   },
   "source": [
    "### Temporal Feature Columns"
   ]
  },
  {
   "cell_type": "markdown",
   "metadata": {
    "id": "zwDvuprZQ8Nb"
   },
   "source": [
    "- temporal feature `pickup_datetime`을 통합.  \n",
    "- `pickup_datetime`은 문자열이며 모델 내에서 이를 처리해야한다. \n",
    "- 먼저 `pickup_datetime`을 feature로 포함시킨 다음 모델을 수정하여 문자열 feature를 처리해야 한다."
   ]
  },
  {
   "cell_type": "code",
   "execution_count": 66,
   "metadata": {
    "id": "c1CPcwXIQ8Nb"
   },
   "outputs": [],
   "source": [
    "def parse_datetime(s):\n",
    "    if type(s) is not str:\n",
    "        s = s.numpy().decode('utf-8')\n",
    "    return datetime.datetime.strptime(s, \"%Y-%m-%d %H:%M:%S %Z\")\n",
    "\n",
    "def get_dayofweek(s):\n",
    "    ts = parse_datetime(s)\n",
    "    return DAYS[ts.weekday()]\n",
    "\n",
    "@tf.function\n",
    "def dayofweek(ts_in):\n",
    "    return tf.map_fn(\n",
    "        lambda s: tf.py_function(get_dayofweek, inp=[s], Tout=tf.string), ts_in)"
   ]
  },
  {
   "cell_type": "markdown",
   "metadata": {
    "id": "oA2Lh4lBQ8Nb"
   },
   "source": [
    "### Geolocation/Coordinate Feature Columns\n",
    "\n",
    "픽업/하차 경도 및 위도 데이터는 NYC 택시의 요금 금액이 이동 거리에 따라 크게 결정되므로 요금 금액을 예측하는 데 중요합니다. 따라서 픽업 지점과 하차 지점 사이의 유클리드 거리를 모델에 학습시켜야 합니다.\n",
    "\n",
    "위도와 경도를 사용하면 좌표 집합을 사용하여 지구상의 모든 위치를 지정할 수 있습니다. 훈련 데이터 세트에서 데이터 포인트를 NYC 내 픽업 및 하차로만 제한했습니다. 뉴욕시의 대략적인 경도 범위는 -74.05 ~ -73.75이고 위도 범위는 40.63 ~ 40.85입니다.\n",
    "\n",
    "#### Computing Euclidean distance\n",
    "\n",
    "데이터 세트에는 픽업 및 하차 좌표에 대한 정보가 포함되어 있습니다. 그러나 픽업 지점과 하차 지점 사이의 거리에 대한 정보는 없습니다. 따라서 우리는 각 픽업 및 드롭 지점 쌍 사이의 거리를 계산하는 새로운 기능을 만듭니다. 두 좌표 점 사이의 직선 거리인 유클리드 거리를 사용하여 이를 수행 할 수 있습니다."
   ]
  },
  {
   "cell_type": "code",
   "execution_count": 67,
   "metadata": {
    "id": "RJ6rBJwWQ8Nb"
   },
   "outputs": [],
   "source": [
    "def euclidean(params):\n",
    "    lon1, lat1, lon2, lat2 = params\n",
    "    londiff = lon2 - lon1\n",
    "    latdiff = lat2 - lat1\n",
    "    return tf.sqrt(londiff*londiff + latdiff*latdiff)"
   ]
  },
  {
   "cell_type": "markdown",
   "metadata": {
    "id": "Q4PmCpckQ8Nc"
   },
   "source": [
    "#### Scaling latitude and longitude\n",
    "\n",
    "`scale_longitude`라는 함수를 생성합니다. 여기서 모든 경도 값을 전달하고 각 값에 78을 더합니다. 스케일링 경도의 범위는 -70에서 -78입니다. 따라서 값 78은 최대 세로 값입니다. -70과 -78 사이의 델타 또는 차이는 8입니다. 각 세로 값에 78을 더한 다음 8로 나누어 배율 값을 반환합니다."
   ]
  },
  {
   "cell_type": "code",
   "execution_count": 68,
   "metadata": {
    "colab": {
     "base_uri": "https://localhost:8080/"
    },
    "id": "oWRGDekEQ8Nc",
    "outputId": "ce219fd3-e67a-4c3c-f80f-1805f6ed6cb1"
   },
   "outputs": [
    {
     "name": "stdout",
     "output_type": "stream",
     "text": [
      "0.0 1.0\n"
     ]
    }
   ],
   "source": [
    "def scale_longitude(lon_column):\n",
    "    return (lon_column + 78)/8.\n",
    "\n",
    "print(scale_longitude(-78), scale_longitude(-70))"
   ]
  },
  {
   "cell_type": "markdown",
   "metadata": {
    "id": "B9aqUuLUQ8Nc"
   },
   "source": [
    "다음으로 모든 위도 값을 전달하고 각 값에서 37을 빼는 'scale_latitude'라는 함수를 만듭니다. 스케일링 경도의 범위는 37에서 45입니다. 따라서 값 37은 최소 위도 값입니다. 37과 45 사이의 델타 또는 차이는 8입니다. 각 위도 값에서 37을 뺀 다음 8로 나누어 스케일 값을 반환합니다."
   ]
  },
  {
   "cell_type": "code",
   "execution_count": 69,
   "metadata": {
    "colab": {
     "base_uri": "https://localhost:8080/"
    },
    "id": "AqTFefAkQ8Nc",
    "outputId": "1a15c95d-73d7-4150-9f89-4480e3867685"
   },
   "outputs": [
    {
     "name": "stdout",
     "output_type": "stream",
     "text": [
      "0.0 1.0\n"
     ]
    }
   ],
   "source": [
    "def scale_latitude(lat_column):\n",
    "    return (lat_column - 37)/8.\n",
    "\n",
    "print(scale_latitude(37), scale_latitude(45))"
   ]
  },
  {
   "cell_type": "markdown",
   "metadata": {
    "id": "yp_Tx38GQ8Nc"
   },
   "source": [
    "### Putting it all together\n",
    "\n",
    "- transform 함수는 숫자 및 문자열 열 feature를 모델에 대한 입력으로 전달하고 지리적 위치 feature를 조정한 다음 지리적 위치 특성을 사용하여 변환된 변수로 유클리드 거리를 생성  \n",
    "\n",
    "- 마지막으로 위도 및 경도 feature를 버킷화"
   ]
  },
  {
   "cell_type": "code",
   "execution_count": 70,
   "metadata": {
    "colab": {
     "base_uri": "https://localhost:8080/"
    },
    "id": "63sbT7M-Q8Nd",
    "outputId": "53ad56cc-2bdc-4320-9ef6-bfa88b7ac3c6"
   },
   "outputs": [
    {
     "data": {
      "text/plain": [
       "{'dropoff_latitude': <KerasTensor: shape=(None,) dtype=float32 (created by layer 'dropoff_latitude')>,\n",
       " 'dropoff_longitude': <KerasTensor: shape=(None,) dtype=float32 (created by layer 'dropoff_longitude')>,\n",
       " 'passenger_count': <KerasTensor: shape=(None,) dtype=float32 (created by layer 'passenger_count')>,\n",
       " 'pickup_datetime': <KerasTensor: shape=(None,) dtype=string (created by layer 'pickup_datetime')>,\n",
       " 'pickup_latitude': <KerasTensor: shape=(None,) dtype=float32 (created by layer 'pickup_latitude')>,\n",
       " 'pickup_longitude': <KerasTensor: shape=(None,) dtype=float32 (created by layer 'pickup_longitude')>}"
      ]
     },
     "execution_count": 70,
     "metadata": {
      "tags": []
     },
     "output_type": "execute_result"
    }
   ],
   "source": [
    "inputs"
   ]
  },
  {
   "cell_type": "code",
   "execution_count": 71,
   "metadata": {
    "colab": {
     "base_uri": "https://localhost:8080/"
    },
    "id": "M-ZVKoEgQ8Nd",
    "outputId": "5e3b5225-ac52-4db9-9773-debf8c50b1ca"
   },
   "outputs": [
    {
     "data": {
      "text/plain": [
       "(['pickup_longitude',\n",
       "  'pickup_latitude',\n",
       "  'dropoff_longitude',\n",
       "  'dropoff_latitude',\n",
       "  'passenger_count'],\n",
       " ['pickup_datetime'])"
      ]
     },
     "execution_count": 71,
     "metadata": {
      "tags": []
     },
     "output_type": "execute_result"
    }
   ],
   "source": [
    "NUMERIC_COLS, STRING_COLS"
   ]
  },
  {
   "cell_type": "code",
   "execution_count": 81,
   "metadata": {
    "id": "yL8i5PgMQ8Nd"
   },
   "outputs": [],
   "source": [
    "def transform(inputs, numeric_cols, string_cols, nbuckets):\n",
    "    print(\"특성 변환 전 입력: {}\".format(inputs.keys()))\n",
    "\n",
    "    transformed = inputs.copy()\n",
    "    del transformed['pickup_datetime']\n",
    "\n",
    "    feature_columns = {\n",
    "        col: tf.feature_column.numeric_column(col) for col in numeric_cols\n",
    "    }\n",
    "\n",
    "    # Scaling longitude from range [-70, -78] to [0, 1]\n",
    "    for lon_col in ['pickup_longitude', 'dropoff_longitude']:\n",
    "        transformed[lon_col] = Lambda(\n",
    "            scale_longitude,\n",
    "            name=\"scale_{}\".format(lon_col))(inputs[lon_col])\n",
    "\n",
    "    # Scaling latitude from range [37, 45] to [0, 1]\n",
    "    for lat_col in ['pickup_latitude', 'dropoff_latitude']:\n",
    "        transformed[lat_col] = Lambda(\n",
    "            scale_latitude,\n",
    "            name='scale_{}'.format(lat_col))(inputs[lat_col])\n",
    "\n",
    "    # add Euclidean distance\n",
    "    transformed['euclidean'] = Lambda(\n",
    "        euclidean,\n",
    "        name='euclidean')([inputs['pickup_longitude'],\n",
    "                           inputs['pickup_latitude'],\n",
    "                           inputs['dropoff_longitude'],\n",
    "                           inputs['dropoff_latitude']])\n",
    "    feature_columns['euclidean'] = fc.numeric_column('euclidean')\n",
    "\n",
    "    # create bucketized features\n",
    "    latbuckets = np.linspace(0, 1, nbuckets).tolist()\n",
    "    lonbuckets = np.linspace(0, 1, nbuckets).tolist()\n",
    "    b_plat = fc.bucketized_column(\n",
    "        feature_columns['pickup_latitude'], latbuckets)\n",
    "    b_dlat = fc.bucketized_column(\n",
    "        feature_columns['dropoff_latitude'], latbuckets)\n",
    "    b_plon = fc.bucketized_column(\n",
    "        feature_columns['pickup_longitude'], lonbuckets)\n",
    "    b_dlon = fc.bucketized_column(\n",
    "        feature_columns['dropoff_longitude'], lonbuckets)\n",
    "\n",
    "    # create crossed columns\n",
    "    ploc = fc.crossed_column([b_plat, b_plon], nbuckets * nbuckets)\n",
    "    dloc = fc.crossed_column([b_dlat, b_dlon], nbuckets * nbuckets)\n",
    "    pd_pair = fc.crossed_column([ploc, dloc], nbuckets ** 4)\n",
    "\n",
    "    # create embedding columns\n",
    "    feature_columns['pickup_and_dropoff'] = fc.embedding_column(pd_pair, 100)\n",
    "\n",
    "    print(\"Transformed features: {}\".format(transformed.keys()))\n",
    "    print(\"Feature columns: {}\".format(feature_columns.keys()))\n",
    "    return transformed, feature_columns"
   ]
  },
  {
   "cell_type": "markdown",
   "metadata": {
    "id": "SwcZzttSQ8Nd"
   },
   "source": [
    "다음으로, feature engineering 된 기능으로 DNN 모델을 만듭니다. 위도와 경도를 버킷화할 때 버킷 10 개를 지정하기 위해`NBUCKETS = 10`을 설정합니다."
   ]
  },
  {
   "cell_type": "code",
   "execution_count": 82,
   "metadata": {
    "colab": {
     "base_uri": "https://localhost:8080/"
    },
    "id": "ZTfERJPfQ8Nd",
    "outputId": "284df712-60d7-4035-9d7e-04b4f1bb9c16"
   },
   "outputs": [
    {
     "name": "stdout",
     "output_type": "stream",
     "text": [
      "특성 변환 전 입력: dict_keys(['pickup_longitude', 'pickup_latitude', 'dropoff_longitude', 'dropoff_latitude', 'passenger_count', 'pickup_datetime'])\n",
      "Transformed features: dict_keys(['pickup_longitude', 'pickup_latitude', 'dropoff_longitude', 'dropoff_latitude', 'passenger_count', 'euclidean'])\n",
      "Feature columns: dict_keys(['pickup_longitude', 'pickup_latitude', 'dropoff_longitude', 'dropoff_latitude', 'passenger_count', 'euclidean', 'pickup_and_dropoff'])\n"
     ]
    }
   ],
   "source": [
    "NBUCKETS = 10\n",
    "\n",
    "transformed, feature_columns = \\\n",
    "    transform(inputs,\n",
    "             numeric_cols=NUMERIC_COLS,\n",
    "             string_cols=STRING_COLS,\n",
    "             nbuckets=NBUCKETS)"
   ]
  },
  {
   "cell_type": "code",
   "execution_count": 74,
   "metadata": {
    "colab": {
     "base_uri": "https://localhost:8080/"
    },
    "id": "tCKzBZ4fQ8Ne",
    "outputId": "4e76658b-d5cb-444d-cfc2-22d801efaf1e"
   },
   "outputs": [
    {
     "data": {
      "text/plain": [
       "{'dropoff_latitude': <KerasTensor: shape=(None,) dtype=float32 (created by layer 'scale_dropoff_latitude')>,\n",
       " 'dropoff_longitude': <KerasTensor: shape=(None,) dtype=float32 (created by layer 'scale_dropoff_longitude')>,\n",
       " 'euclidean': <KerasTensor: shape=(None,) dtype=float32 (created by layer 'euclidean')>,\n",
       " 'passenger_count': <KerasTensor: shape=(None,) dtype=float32 (created by layer 'passenger_count')>,\n",
       " 'pickup_latitude': <KerasTensor: shape=(None,) dtype=float32 (created by layer 'scale_pickup_latitude')>,\n",
       " 'pickup_longitude': <KerasTensor: shape=(None,) dtype=float32 (created by layer 'scale_pickup_longitude')>}"
      ]
     },
     "execution_count": 74,
     "metadata": {
      "tags": []
     },
     "output_type": "execute_result"
    }
   ],
   "source": [
    "transformed"
   ]
  },
  {
   "cell_type": "code",
   "execution_count": 75,
   "metadata": {
    "colab": {
     "base_uri": "https://localhost:8080/"
    },
    "id": "X3yHufNwQ8Ne",
    "outputId": "ea1249a2-5dcd-4742-a10a-690a7f21912a"
   },
   "outputs": [
    {
     "data": {
      "text/plain": [
       "{'dropoff_latitude': NumericColumn(key='dropoff_latitude', shape=(1,), default_value=None, dtype=tf.float32, normalizer_fn=None),\n",
       " 'dropoff_longitude': NumericColumn(key='dropoff_longitude', shape=(1,), default_value=None, dtype=tf.float32, normalizer_fn=None),\n",
       " 'euclidean': NumericColumn(key='euclidean', shape=(1,), default_value=None, dtype=tf.float32, normalizer_fn=None),\n",
       " 'passenger_count': NumericColumn(key='passenger_count', shape=(1,), default_value=None, dtype=tf.float32, normalizer_fn=None),\n",
       " 'pickup_and_dropoff': EmbeddingColumn(categorical_column=CrossedColumn(keys=(CrossedColumn(keys=(BucketizedColumn(source_column=NumericColumn(key='pickup_latitude', shape=(1,), default_value=None, dtype=tf.float32, normalizer_fn=None), boundaries=(0.0, 0.1111111111111111, 0.2222222222222222, 0.3333333333333333, 0.4444444444444444, 0.5555555555555556, 0.6666666666666666, 0.7777777777777777, 0.8888888888888888, 1.0)), BucketizedColumn(source_column=NumericColumn(key='pickup_longitude', shape=(1,), default_value=None, dtype=tf.float32, normalizer_fn=None), boundaries=(0.0, 0.1111111111111111, 0.2222222222222222, 0.3333333333333333, 0.4444444444444444, 0.5555555555555556, 0.6666666666666666, 0.7777777777777777, 0.8888888888888888, 1.0))), hash_bucket_size=100, hash_key=None), CrossedColumn(keys=(BucketizedColumn(source_column=NumericColumn(key='dropoff_latitude', shape=(1,), default_value=None, dtype=tf.float32, normalizer_fn=None), boundaries=(0.0, 0.1111111111111111, 0.2222222222222222, 0.3333333333333333, 0.4444444444444444, 0.5555555555555556, 0.6666666666666666, 0.7777777777777777, 0.8888888888888888, 1.0)), BucketizedColumn(source_column=NumericColumn(key='dropoff_longitude', shape=(1,), default_value=None, dtype=tf.float32, normalizer_fn=None), boundaries=(0.0, 0.1111111111111111, 0.2222222222222222, 0.3333333333333333, 0.4444444444444444, 0.5555555555555556, 0.6666666666666666, 0.7777777777777777, 0.8888888888888888, 1.0))), hash_bucket_size=100, hash_key=None)), hash_bucket_size=10000, hash_key=None), dimension=100, combiner='mean', initializer=<tensorflow.python.ops.init_ops.TruncatedNormal object at 0x7fb5ed273390>, ckpt_to_load_from=None, tensor_name_in_ckpt=None, max_norm=None, trainable=True, use_safe_embedding_lookup=True),\n",
       " 'pickup_latitude': NumericColumn(key='pickup_latitude', shape=(1,), default_value=None, dtype=tf.float32, normalizer_fn=None),\n",
       " 'pickup_longitude': NumericColumn(key='pickup_longitude', shape=(1,), default_value=None, dtype=tf.float32, normalizer_fn=None)}"
      ]
     },
     "execution_count": 75,
     "metadata": {
      "tags": []
     },
     "output_type": "execute_result"
    }
   ],
   "source": [
    "feature_columns"
   ]
  },
  {
   "cell_type": "code",
   "execution_count": 76,
   "metadata": {
    "id": "LpX1mR6iQ8Ne"
   },
   "outputs": [],
   "source": [
    "dnn_inputs = DenseFeatures(feature_columns.values())(transformed)\n",
    "\n",
    "h1 = Dense(32, activation='relu', name='h1')(dnn_inputs)\n",
    "h2 = Dense(8, activation='relu', name='h2')(h1)\n",
    "\n",
    "output = Dense(1, name='fare')(h2)\n",
    "model = Model(inputs, output)\n",
    "\n",
    "model.compile(optimizer='adam', loss='mse', metrics=[rmse, 'mse'])"
   ]
  },
  {
   "cell_type": "code",
   "execution_count": 77,
   "metadata": {
    "colab": {
     "base_uri": "https://localhost:8080/",
     "height": 348
    },
    "id": "3REFQa14Q8Ne",
    "outputId": "0585b803-63af-43fd-cf98-266b1bb2ce6d"
   },
   "outputs": [
    {
     "data": {
      "image/png": "[encoded data removed]",
      "text/plain": [
       "<IPython.core.display.Image object>"
      ]
     },
     "execution_count": 77,
     "metadata": {
      "tags": []
     },
     "output_type": "execute_result"
    }
   ],
   "source": [
    "tf.keras.utils.plot_model(model, show_shapes=False)"
   ]
  },
  {
   "cell_type": "code",
   "execution_count": 78,
   "metadata": {
    "colab": {
     "base_uri": "https://localhost:8080/"
    },
    "id": "beuPPLEtQ8Ne",
    "outputId": "fe8318db-cb5a-442b-cc38-34b7294bfe95"
   },
   "outputs": [
    {
     "name": "stdout",
     "output_type": "stream",
     "text": [
      "Epoch 1/8\n",
      "1863/1863 [==============================] - 11s 5ms/step - loss: 94.4851 - rmse: 9.0788 - mse: 94.4851 - val_loss: 92.4671 - val_rmse: 9.6058 - val_mse: 92.4671\n",
      "Epoch 2/8\n",
      "1863/1863 [==============================] - 9s 5ms/step - loss: 49.8058 - rmse: 6.2175 - mse: 49.8058 - val_loss: 31.0915 - val_rmse: 5.5692 - val_mse: 31.0915\n",
      "Epoch 3/8\n",
      "1863/1863 [==============================] - 9s 5ms/step - loss: 27.1526 - rmse: 4.1408 - mse: 27.1526 - val_loss: 26.9298 - val_rmse: 5.1087 - val_mse: 26.9298\n",
      "Epoch 4/8\n",
      "1863/1863 [==============================] - 9s 5ms/step - loss: 24.8210 - rmse: 4.0011 - mse: 24.8210 - val_loss: 26.5081 - val_rmse: 5.1154 - val_mse: 26.5081\n",
      "Epoch 5/8\n",
      "1863/1863 [==============================] - 9s 5ms/step - loss: 26.8820 - rmse: 4.1192 - mse: 26.8820 - val_loss: 26.8653 - val_rmse: 5.1544 - val_mse: 26.8653\n",
      "Epoch 6/8\n",
      "1863/1863 [==============================] - 9s 5ms/step - loss: 24.5693 - rmse: 4.0365 - mse: 24.5693 - val_loss: 26.6189 - val_rmse: 5.1255 - val_mse: 26.6189\n",
      "Epoch 7/8\n",
      "1863/1863 [==============================] - 9s 5ms/step - loss: 23.4852 - rmse: 3.9637 - mse: 23.4852 - val_loss: 26.5672 - val_rmse: 5.1314 - val_mse: 26.5672\n",
      "Epoch 8/8\n",
      "1863/1863 [==============================] - 9s 5ms/step - loss: 25.2355 - rmse: 4.0584 - mse: 25.2355 - val_loss: 26.8505 - val_rmse: 5.1058 - val_mse: 26.8505\n"
     ]
    }
   ],
   "source": [
    "trainds = load_dataset('./data/taxi-train*', TRAIN_BATCH_SIZE, 'train')\n",
    "evalds = load_dataset('./data/taxi-valid*', 1000, 'eval').take(NUM_EVAL_EXAMPLES//1000)\n",
    "\n",
    "steps_per_epoch = NUM_TRAIN_EXAMPLES // (TRAIN_BATCH_SIZE * NUM_EVALS)\n",
    "\n",
    "history = model.fit(trainds,\n",
    "                    validation_data=evalds,\n",
    "                    epochs=EPOCHS + 3,\n",
    "                    steps_per_epoch=steps_per_epoch)"
   ]
  },
  {
   "cell_type": "code",
   "execution_count": 79,
   "metadata": {
    "colab": {
     "base_uri": "https://localhost:8080/",
     "height": 350
    },
    "id": "IfGWHAXYQ8Nf",
    "outputId": "dff62e90-e7e7-4dfd-fdef-2331fe55c33f"
   },
   "outputs": [
    {
     "data": {
      "image/png": "[encoded data removed]",
      "text/plain": [
       "<Figure size 720x360 with 2 Axes>"
      ]
     },
     "metadata": {
      "needs_background": "light",
      "tags": []
     },
     "output_type": "display_data"
    }
   ],
   "source": [
    "plot_curves(history, ['loss', 'mse'])"
   ]
  },
  {
   "cell_type": "code",
   "execution_count": 80,
   "metadata": {
    "colab": {
     "base_uri": "https://localhost:8080/"
    },
    "id": "L0OQsGF_Q8Nf",
    "outputId": "13a30949-b3a6-4a7b-cf9f-4727e0f78e3f"
   },
   "outputs": [
    {
     "data": {
      "text/plain": [
       "array([[6.1053677]], dtype=float32)"
      ]
     },
     "execution_count": 80,
     "metadata": {
      "tags": []
     },
     "output_type": "execute_result"
    }
   ],
   "source": [
    "model.predict({\n",
    "    'pickup_longitude': tf.convert_to_tensor([-73.982683]),\n",
    "    'pickup_latitude': tf.convert_to_tensor([40.742104]),\n",
    "    'dropoff_longitude': tf.convert_to_tensor([-73.983766]),\n",
    "    'dropoff_latitude': tf.convert_to_tensor([40.755174]),\n",
    "    'passenger_count': tf.convert_to_tensor([3.0]),\n",
    "    'pickup_datetime': tf.convert_to_tensor(['2010-02-08 09:17:00 UTC'], dtype=tf.string),\n",
    "})"
   ]
  },
  {
   "cell_type": "markdown",
   "metadata": {
    "id": "v7eAZCEzQ8Nf"
   },
   "source": [
    "아래에서는 기본 모델과 엔지니어링된 기능이 있는 모델을 비교한 학습 결과를 요약합니다."
   ]
  },
  {
   "cell_type": "markdown",
   "metadata": {
    "id": "i_xdCAtjQ8Nf"
   },
   "source": [
    "| Model              | Taxi Fare | Description                               |\n",
    "|--------------------|-----------|-------------------------------------------|\n",
    "| Baseline           | 11.36     | Baseline model - no feature engineering |\n",
    "| Feature Engineered | 6.54      | Feature Engineered Model                |"
   ]
  },
  {
   "cell_type": "code",
   "execution_count": 80,
   "metadata": {
    "id": "FFb7hnXaQ8Nf"
   },
   "outputs": [],
   "source": []
  }
 ],
 "metadata": {
  "accelerator": "GPU",
  "colab": {
   "name": "131_keras_adv_feat_eng.ipynb",
   "provenance": []
  },
  "kernelspec": {
   "display_name": "Python 3",
   "language": "python",
   "name": "python3"
  },
  "language_info": {
   "codemirror_mode": {
    "name": "ipython",
    "version": 3
   },
   "file_extension": ".py",
   "mimetype": "text/x-python",
   "name": "python",
   "nbconvert_exporter": "python",
   "pygments_lexer": "ipython3",
   "version": "3.7.10"
  }
 },
 "nbformat": 4,
 "nbformat_minor": 1
}
