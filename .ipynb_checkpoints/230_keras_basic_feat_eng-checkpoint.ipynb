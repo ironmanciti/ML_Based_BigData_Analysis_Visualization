{
 "cells": [
  {
   "cell_type": "markdown",
   "metadata": {
    "id": "rNdWfPXCjTjY"
   },
   "source": [
    "# Keras 를 이용한 Feature Engineering 기초 - 정형 데이터 다루기\n",
    "\n",
    "1. tf.data를 사용하여 입력 파이프 라인 만들기\n",
    "2. Feature engineering 을 통해 범주형, 교차형 및 숫자형 특성 열을 생성"
   ]
  },
  {
   "cell_type": "code",
   "execution_count": 1,
   "metadata": {
    "id": "9dEreb4QKizj"
   },
   "outputs": [],
   "source": [
    "import os\n",
    "import tensorflow.keras\n",
    "import matplotlib.pyplot as plt\n",
    "import pandas as pd\n",
    "import tensorflow as tf\n",
    "\n",
    "from tensorflow import feature_column as fc\n",
    "from tensorflow.keras.models import Sequential\n",
    "from tensorflow.keras.layers import DenseFeatures, Dense\n",
    "from sklearn.model_selection import train_test_split\n",
    "from tensorflow.keras.utils import plot_model"
   ]
  },
  {
   "cell_type": "markdown",
   "metadata": {
    "id": "-u6tTOBMT6O5"
   },
   "source": [
    "[California Housing Dataset](https://developers.google.com/machine-learning/crash-course/california-housing-data-description)을 사용합니다. 여기에는 1990 년 미국 인구 조사에서 가져온 데이터가 포함됩니다. 실습 데이터세트는 누락된 값이 없도록 사전 처리되었습니다."
   ]
  },
  {
   "cell_type": "code",
   "execution_count": 2,
   "metadata": {
    "colab": {
     "base_uri": "https://localhost:8080/",
     "height": 218
    },
    "id": "REZ57BXCLdfG",
    "outputId": "925108f2-db20-4620-aec8-88d58a9ad991"
   },
   "outputs": [
    {
     "data": {
      "text/html": [
       "<div>\n",
       "<style scoped>\n",
       "    .dataframe tbody tr th:only-of-type {\n",
       "        vertical-align: middle;\n",
       "    }\n",
       "\n",
       "    .dataframe tbody tr th {\n",
       "        vertical-align: top;\n",
       "    }\n",
       "\n",
       "    .dataframe thead th {\n",
       "        text-align: right;\n",
       "    }\n",
       "</style>\n",
       "<table border=\"1\" class=\"dataframe\">\n",
       "  <thead>\n",
       "    <tr style=\"text-align: right;\">\n",
       "      <th></th>\n",
       "      <th>longitude</th>\n",
       "      <th>latitude</th>\n",
       "      <th>housing_median_age</th>\n",
       "      <th>total_rooms</th>\n",
       "      <th>total_bedrooms</th>\n",
       "      <th>population</th>\n",
       "      <th>households</th>\n",
       "      <th>median_income</th>\n",
       "      <th>median_house_value</th>\n",
       "      <th>ocean_proximity</th>\n",
       "    </tr>\n",
       "  </thead>\n",
       "  <tbody>\n",
       "    <tr>\n",
       "      <th>0</th>\n",
       "      <td>-122.23</td>\n",
       "      <td>37.88</td>\n",
       "      <td>41.0</td>\n",
       "      <td>880.0</td>\n",
       "      <td>129.0</td>\n",
       "      <td>322.0</td>\n",
       "      <td>126.0</td>\n",
       "      <td>8.3252</td>\n",
       "      <td>452600.0</td>\n",
       "      <td>NEAR BAY</td>\n",
       "    </tr>\n",
       "    <tr>\n",
       "      <th>1</th>\n",
       "      <td>-122.22</td>\n",
       "      <td>37.86</td>\n",
       "      <td>21.0</td>\n",
       "      <td>7099.0</td>\n",
       "      <td>1106.0</td>\n",
       "      <td>2401.0</td>\n",
       "      <td>1138.0</td>\n",
       "      <td>8.3014</td>\n",
       "      <td>358500.0</td>\n",
       "      <td>NEAR BAY</td>\n",
       "    </tr>\n",
       "    <tr>\n",
       "      <th>2</th>\n",
       "      <td>-122.24</td>\n",
       "      <td>37.85</td>\n",
       "      <td>52.0</td>\n",
       "      <td>1467.0</td>\n",
       "      <td>190.0</td>\n",
       "      <td>496.0</td>\n",
       "      <td>177.0</td>\n",
       "      <td>7.2574</td>\n",
       "      <td>352100.0</td>\n",
       "      <td>NEAR BAY</td>\n",
       "    </tr>\n",
       "    <tr>\n",
       "      <th>3</th>\n",
       "      <td>-122.25</td>\n",
       "      <td>37.85</td>\n",
       "      <td>52.0</td>\n",
       "      <td>1274.0</td>\n",
       "      <td>235.0</td>\n",
       "      <td>558.0</td>\n",
       "      <td>219.0</td>\n",
       "      <td>5.6431</td>\n",
       "      <td>341300.0</td>\n",
       "      <td>NEAR BAY</td>\n",
       "    </tr>\n",
       "    <tr>\n",
       "      <th>4</th>\n",
       "      <td>-122.25</td>\n",
       "      <td>37.85</td>\n",
       "      <td>52.0</td>\n",
       "      <td>1627.0</td>\n",
       "      <td>280.0</td>\n",
       "      <td>565.0</td>\n",
       "      <td>259.0</td>\n",
       "      <td>3.8462</td>\n",
       "      <td>342200.0</td>\n",
       "      <td>NEAR BAY</td>\n",
       "    </tr>\n",
       "  </tbody>\n",
       "</table>\n",
       "</div>"
      ],
      "text/plain": [
       "   longitude  latitude  housing_median_age  total_rooms  total_bedrooms  \\\n",
       "0    -122.23     37.88                41.0        880.0           129.0   \n",
       "1    -122.22     37.86                21.0       7099.0          1106.0   \n",
       "2    -122.24     37.85                52.0       1467.0           190.0   \n",
       "3    -122.25     37.85                52.0       1274.0           235.0   \n",
       "4    -122.25     37.85                52.0       1627.0           280.0   \n",
       "\n",
       "   population  households  median_income  median_house_value ocean_proximity  \n",
       "0       322.0       126.0         8.3252            452600.0        NEAR BAY  \n",
       "1      2401.0      1138.0         8.3014            358500.0        NEAR BAY  \n",
       "2       496.0       177.0         7.2574            352100.0        NEAR BAY  \n",
       "3       558.0       219.0         5.6431            341300.0        NEAR BAY  \n",
       "4       565.0       259.0         3.8462            342200.0        NEAR BAY  "
      ]
     },
     "execution_count": 2,
     "metadata": {},
     "output_type": "execute_result"
    }
   ],
   "source": [
    "housing_df = pd.read_csv('data/housing_pre-proc.csv', index_col=0)\n",
    "housing_df.head()"
   ]
  },
  {
   "cell_type": "code",
   "execution_count": 3,
   "metadata": {
    "colab": {
     "base_uri": "https://localhost:8080/",
     "height": 308
    },
    "id": "8BtWZInmT6O7",
    "outputId": "53937f08-182c-4988-eb87-4b63c340ed9a"
   },
   "outputs": [
    {
     "data": {
      "text/html": [
       "<div>\n",
       "<style scoped>\n",
       "    .dataframe tbody tr th:only-of-type {\n",
       "        vertical-align: middle;\n",
       "    }\n",
       "\n",
       "    .dataframe tbody tr th {\n",
       "        vertical-align: top;\n",
       "    }\n",
       "\n",
       "    .dataframe thead th {\n",
       "        text-align: right;\n",
       "    }\n",
       "</style>\n",
       "<table border=\"1\" class=\"dataframe\">\n",
       "  <thead>\n",
       "    <tr style=\"text-align: right;\">\n",
       "      <th></th>\n",
       "      <th>longitude</th>\n",
       "      <th>latitude</th>\n",
       "      <th>housing_median_age</th>\n",
       "      <th>total_rooms</th>\n",
       "      <th>total_bedrooms</th>\n",
       "      <th>population</th>\n",
       "      <th>households</th>\n",
       "      <th>median_income</th>\n",
       "      <th>median_house_value</th>\n",
       "    </tr>\n",
       "  </thead>\n",
       "  <tbody>\n",
       "    <tr>\n",
       "      <th>count</th>\n",
       "      <td>20433.000000</td>\n",
       "      <td>20433.000000</td>\n",
       "      <td>20433.000000</td>\n",
       "      <td>20433.000000</td>\n",
       "      <td>20433.000000</td>\n",
       "      <td>20433.000000</td>\n",
       "      <td>20433.000000</td>\n",
       "      <td>20433.000000</td>\n",
       "      <td>20433.000000</td>\n",
       "    </tr>\n",
       "    <tr>\n",
       "      <th>mean</th>\n",
       "      <td>-119.570689</td>\n",
       "      <td>35.633221</td>\n",
       "      <td>28.633094</td>\n",
       "      <td>2636.504233</td>\n",
       "      <td>537.870553</td>\n",
       "      <td>1424.946949</td>\n",
       "      <td>499.433465</td>\n",
       "      <td>3.871162</td>\n",
       "      <td>206864.413155</td>\n",
       "    </tr>\n",
       "    <tr>\n",
       "      <th>std</th>\n",
       "      <td>2.003578</td>\n",
       "      <td>2.136348</td>\n",
       "      <td>12.591805</td>\n",
       "      <td>2185.269567</td>\n",
       "      <td>421.385070</td>\n",
       "      <td>1133.208490</td>\n",
       "      <td>382.299226</td>\n",
       "      <td>1.899291</td>\n",
       "      <td>115435.667099</td>\n",
       "    </tr>\n",
       "    <tr>\n",
       "      <th>min</th>\n",
       "      <td>-124.350000</td>\n",
       "      <td>32.540000</td>\n",
       "      <td>1.000000</td>\n",
       "      <td>2.000000</td>\n",
       "      <td>1.000000</td>\n",
       "      <td>3.000000</td>\n",
       "      <td>1.000000</td>\n",
       "      <td>0.499900</td>\n",
       "      <td>14999.000000</td>\n",
       "    </tr>\n",
       "    <tr>\n",
       "      <th>25%</th>\n",
       "      <td>-121.800000</td>\n",
       "      <td>33.930000</td>\n",
       "      <td>18.000000</td>\n",
       "      <td>1450.000000</td>\n",
       "      <td>296.000000</td>\n",
       "      <td>787.000000</td>\n",
       "      <td>280.000000</td>\n",
       "      <td>2.563700</td>\n",
       "      <td>119500.000000</td>\n",
       "    </tr>\n",
       "    <tr>\n",
       "      <th>50%</th>\n",
       "      <td>-118.490000</td>\n",
       "      <td>34.260000</td>\n",
       "      <td>29.000000</td>\n",
       "      <td>2127.000000</td>\n",
       "      <td>435.000000</td>\n",
       "      <td>1166.000000</td>\n",
       "      <td>409.000000</td>\n",
       "      <td>3.536500</td>\n",
       "      <td>179700.000000</td>\n",
       "    </tr>\n",
       "    <tr>\n",
       "      <th>75%</th>\n",
       "      <td>-118.010000</td>\n",
       "      <td>37.720000</td>\n",
       "      <td>37.000000</td>\n",
       "      <td>3143.000000</td>\n",
       "      <td>647.000000</td>\n",
       "      <td>1722.000000</td>\n",
       "      <td>604.000000</td>\n",
       "      <td>4.744000</td>\n",
       "      <td>264700.000000</td>\n",
       "    </tr>\n",
       "    <tr>\n",
       "      <th>max</th>\n",
       "      <td>-114.310000</td>\n",
       "      <td>41.950000</td>\n",
       "      <td>52.000000</td>\n",
       "      <td>39320.000000</td>\n",
       "      <td>6445.000000</td>\n",
       "      <td>35682.000000</td>\n",
       "      <td>6082.000000</td>\n",
       "      <td>15.000100</td>\n",
       "      <td>500001.000000</td>\n",
       "    </tr>\n",
       "  </tbody>\n",
       "</table>\n",
       "</div>"
      ],
      "text/plain": [
       "          longitude      latitude  housing_median_age   total_rooms  \\\n",
       "count  20433.000000  20433.000000        20433.000000  20433.000000   \n",
       "mean    -119.570689     35.633221           28.633094   2636.504233   \n",
       "std        2.003578      2.136348           12.591805   2185.269567   \n",
       "min     -124.350000     32.540000            1.000000      2.000000   \n",
       "25%     -121.800000     33.930000           18.000000   1450.000000   \n",
       "50%     -118.490000     34.260000           29.000000   2127.000000   \n",
       "75%     -118.010000     37.720000           37.000000   3143.000000   \n",
       "max     -114.310000     41.950000           52.000000  39320.000000   \n",
       "\n",
       "       total_bedrooms    population    households  median_income  \\\n",
       "count    20433.000000  20433.000000  20433.000000   20433.000000   \n",
       "mean       537.870553   1424.946949    499.433465       3.871162   \n",
       "std        421.385070   1133.208490    382.299226       1.899291   \n",
       "min          1.000000      3.000000      1.000000       0.499900   \n",
       "25%        296.000000    787.000000    280.000000       2.563700   \n",
       "50%        435.000000   1166.000000    409.000000       3.536500   \n",
       "75%        647.000000   1722.000000    604.000000       4.744000   \n",
       "max       6445.000000  35682.000000   6082.000000      15.000100   \n",
       "\n",
       "       median_house_value  \n",
       "count        20433.000000  \n",
       "mean        206864.413155  \n",
       "std         115435.667099  \n",
       "min          14999.000000  \n",
       "25%         119500.000000  \n",
       "50%         179700.000000  \n",
       "75%         264700.000000  \n",
       "max         500001.000000  "
      ]
     },
     "execution_count": 3,
     "metadata": {},
     "output_type": "execute_result"
    }
   ],
   "source": [
    "housing_df.describe()"
   ]
  },
  {
   "cell_type": "code",
   "execution_count": 4,
   "metadata": {
    "colab": {
     "base_uri": "https://localhost:8080/",
     "height": 168
    },
    "id": "zzQ7bLFJCdQ9",
    "outputId": "d008b22b-81f4-42ad-c94c-81afbf36befe"
   },
   "outputs": [
    {
     "data": {
      "text/html": [
       "<div>\n",
       "<style scoped>\n",
       "    .dataframe tbody tr th:only-of-type {\n",
       "        vertical-align: middle;\n",
       "    }\n",
       "\n",
       "    .dataframe tbody tr th {\n",
       "        vertical-align: top;\n",
       "    }\n",
       "\n",
       "    .dataframe thead th {\n",
       "        text-align: right;\n",
       "    }\n",
       "</style>\n",
       "<table border=\"1\" class=\"dataframe\">\n",
       "  <thead>\n",
       "    <tr style=\"text-align: right;\">\n",
       "      <th></th>\n",
       "      <th>ocean_proximity</th>\n",
       "    </tr>\n",
       "  </thead>\n",
       "  <tbody>\n",
       "    <tr>\n",
       "      <th>count</th>\n",
       "      <td>20433</td>\n",
       "    </tr>\n",
       "    <tr>\n",
       "      <th>unique</th>\n",
       "      <td>5</td>\n",
       "    </tr>\n",
       "    <tr>\n",
       "      <th>top</th>\n",
       "      <td>&lt;1H OCEAN</td>\n",
       "    </tr>\n",
       "    <tr>\n",
       "      <th>freq</th>\n",
       "      <td>9034</td>\n",
       "    </tr>\n",
       "  </tbody>\n",
       "</table>\n",
       "</div>"
      ],
      "text/plain": [
       "       ocean_proximity\n",
       "count            20433\n",
       "unique               5\n",
       "top          <1H OCEAN\n",
       "freq              9034"
      ]
     },
     "execution_count": 4,
     "metadata": {},
     "output_type": "execute_result"
    }
   ],
   "source": [
    "housing_df.describe(include='O')"
   ]
  },
  {
   "cell_type": "markdown",
   "metadata": {
    "id": "u0zhLtQqMPem"
   },
   "source": [
    "####  Train, Test set 분할"
   ]
  },
  {
   "cell_type": "code",
   "execution_count": 5,
   "metadata": {
    "colab": {
     "base_uri": "https://localhost:8080/"
    },
    "id": "YEOpw7LhMYsI",
    "outputId": "20726b8b-daff-4de6-a54f-845fbbea1fc8"
   },
   "outputs": [
    {
     "name": "stdout",
     "output_type": "stream",
     "text": [
      "13076 train examples\n",
      "3270 validation examples\n",
      "4087 test examples\n"
     ]
    }
   ],
   "source": [
    "train, test = train_test_split(housing_df, test_size=0.2)\n",
    "train, val = train_test_split(train, test_size=0.2)\n",
    "\n",
    "print(len(train), 'train examples')\n",
    "print(len(val), 'validation examples')\n",
    "print(len(test), 'test examples')"
   ]
  },
  {
   "cell_type": "markdown",
   "metadata": {
    "id": "dz9kfjOMBX9U"
   },
   "source": [
    "나중에 테스트를 위해 test.csv가 필요합니다. "
   ]
  },
  {
   "cell_type": "code",
   "execution_count": 6,
   "metadata": {
    "id": "ADX23QUu_Wiu"
   },
   "outputs": [],
   "source": [
    "train.to_csv('data/housing-train.csv', encoding='utf-8', index=False)\n",
    "val.to_csv('data/housing-val.csv', encoding='utf-8', index=False)\n",
    "test.to_csv('data/housing-test.csv', encoding='utf-8', index=False)"
   ]
  },
  {
   "cell_type": "code",
   "execution_count": 7,
   "metadata": {
    "colab": {
     "base_uri": "https://localhost:8080/"
    },
    "id": "W3puDuWYT6O9",
    "outputId": "a0f2267c-c43c-4362-afa1-3229cfa61daa"
   },
   "outputs": [
    {
     "name": "stderr",
     "output_type": "stream",
     "text": [
      "'head'은(는) 내부 또는 외부 명령, 실행할 수 있는 프로그램, 또는\n",
      "배치 파일이 아닙니다.\n"
     ]
    }
   ],
   "source": [
    "!head -n3 data/housing*.csv"
   ]
  },
  {
   "cell_type": "markdown",
   "metadata": {
    "id": "Aj35eYy_lutI"
   },
   "source": [
    "## tf.data 를 이용하여 input pipeline 생성\n",
    "\n",
    "- tf.data를 사용하여 데이터프레임을 감싼다.  \n",
    "- 판다스 데이터프레임의 열을 모델 훈련에 필요한 특성으로 매핑   "
   ]
  },
  {
   "cell_type": "code",
   "execution_count": 10,
   "metadata": {
    "id": "QcHHU-tgT6O9"
   },
   "outputs": [],
   "source": [
    "# 판다스 데이터프레임으로부터 tf.data 데이터셋을 만들기 위한 함수\n",
    "def df_to_dataset(dataframe, shuffle=True, batch_size=32):\n",
    "    dataframe = dataframe.copy()\n",
    "    labels = dataframe.pop('median_house_value')\n",
    "    \n",
    "    ds = tf.data.Dataset.from_tensor_slices((dict(dataframe), labels))\n",
    "    \n",
    "    if shuffle:\n",
    "        ds = ds.shuffle(buffer_size=len(dataframe))\n",
    "    ds = ds.batch(batch_size)\n",
    "    return ds"
   ]
  },
  {
   "cell_type": "markdown",
   "metadata": {
    "id": "eRK1wCYCT6O9"
   },
   "source": [
    "- 훈련 및 검증 데이터 세트를 초기화"
   ]
  },
  {
   "cell_type": "code",
   "execution_count": 30,
   "metadata": {
    "id": "InzCl6NcT6O-"
   },
   "outputs": [],
   "source": [
    "batch_size = 32\n",
    "train_ds = df_to_dataset(train)\n",
    "val_ds   = df_to_dataset(val, shuffle=False, batch_size=batch_size)\n",
    "test_ds  = df_to_dataset(test, shuffle=False, batch_size=batch_size)"
   ]
  },
  {
   "cell_type": "code",
   "execution_count": 12,
   "metadata": {
    "colab": {
     "base_uri": "https://localhost:8080/"
    },
    "id": "FedBJLy_T6O-",
    "outputId": "b8ed6e96-2084-42bc-a458-6ed4e4893854"
   },
   "outputs": [
    {
     "data": {
      "text/plain": [
       "<BatchDataset shapes: ({longitude: (None,), latitude: (None,), housing_median_age: (None,), total_rooms: (None,), total_bedrooms: (None,), population: (None,), households: (None,), median_income: (None,), ocean_proximity: (None,)}, (None,)), types: ({longitude: tf.float64, latitude: tf.float64, housing_median_age: tf.float64, total_rooms: tf.float64, total_bedrooms: tf.float64, population: tf.float64, households: tf.float64, median_income: tf.float64, ocean_proximity: tf.string}, tf.float64)>"
      ]
     },
     "execution_count": 12,
     "metadata": {
      "tags": []
     },
     "output_type": "execute_result"
    }
   ],
   "source": [
    "train_ds"
   ]
  },
  {
   "cell_type": "markdown",
   "metadata": {
    "id": "feHn9rpR5D6g"
   },
   "source": [
    "- dataframe 의 column 값에 mapping된 column names dictionary 확인"
   ]
  },
  {
   "cell_type": "code",
   "execution_count": 13,
   "metadata": {
    "colab": {
     "base_uri": "https://localhost:8080/"
    },
    "id": "CSBo3dUVNFc9",
    "outputId": "0557e5a5-9aa0-40ed-dcbb-03ead8c60446"
   },
   "outputs": [
    {
     "name": "stdout",
     "output_type": "stream",
     "text": [
      "전체 feature : ['longitude', 'latitude', 'housing_median_age', 'total_rooms', 'total_bedrooms', 'population', 'households', 'median_income', 'ocean_proximity']\n",
      "households batch: tf.Tensor(\n",
      "[ 805.  373.  210.  590.  395.  829.  305.   90.  363.    9.  249.  568.\n",
      "  255.  359.  765. 1202.  659.  380.  145.  273.  287.   75.  515.  281.\n",
      "  384.  143. 1455. 1858.  568.  254.  615.  759.], shape=(32,), dtype=float64)\n",
      "ocean_proximity batch: tf.Tensor(\n",
      "[b'NEAR OCEAN' b'NEAR BAY' b'INLAND' b'NEAR BAY' b'<1H OCEAN' b'<1H OCEAN'\n",
      " b'INLAND' b'INLAND' b'NEAR BAY' b'NEAR OCEAN' b'INLAND' b'INLAND'\n",
      " b'<1H OCEAN' b'<1H OCEAN' b'<1H OCEAN' b'<1H OCEAN' b'INLAND'\n",
      " b'NEAR OCEAN' b'<1H OCEAN' b'<1H OCEAN' b'<1H OCEAN' b'<1H OCEAN'\n",
      " b'<1H OCEAN' b'NEAR BAY' b'NEAR OCEAN' b'<1H OCEAN' b'<1H OCEAN'\n",
      " b'NEAR OCEAN' b'<1H OCEAN' b'<1H OCEAN' b'INLAND' b'INLAND'], shape=(32,), dtype=string)\n",
      "targets batch: tf.Tensor(\n",
      "[331100. 206300. 274100. 265000. 350400. 245600.  56700. 102100. 435700.\n",
      " 275000.  60400. 127000. 211700. 169400. 125800. 140600. 277000. 348700.\n",
      " 500001. 206300. 342400. 420500. 296800. 323100. 268400. 142500. 168300.\n",
      " 281300. 400700. 110000. 122600.  60600.], shape=(32,), dtype=float64)\n"
     ]
    }
   ],
   "source": [
    "for feature_batch, label_batch in train_ds.take(1):\n",
    "    print('전체 feature :', list(feature_batch.keys()))\n",
    "    print('households batch:', feature_batch['households'])\n",
    "    print('ocean_proximity batch:', feature_batch['ocean_proximity'])\n",
    "    print('targets batch:', label_batch)"
   ]
  },
  {
   "cell_type": "markdown",
   "metadata": {
    "id": "YEGEAqaziwfC"
   },
   "source": [
    "### Numeric columns\n",
    "\n",
    "- 수치형 열은 가장 간단한 종류의 열입니다. `feature_column.numeric_column`을 사용하면 모델은 데이터프레임 열의 값을 변형시키지 않고 그대로 전달 받습니다.  \n",
    "- 캘리포니아 주택 가격 데이터 세트에서 데이터 프레임의 대부분의 열은 숫자이므로, \n",
    "숫자 특성 열만 포함하는 **numeric_cols** 라는 list를 만듭니다."
   ]
  },
  {
   "cell_type": "code",
   "execution_count": 14,
   "metadata": {
    "id": "wifpg01PT6O_"
   },
   "outputs": [],
   "source": [
    "numeric_cols = ['longitude', 'latitude', 'housing_median_age', 'total_rooms',\n",
    "                'total_bedrooms', 'population', 'households', 'median_income']"
   ]
  },
  {
   "cell_type": "markdown",
   "metadata": {
    "id": "EwMEcH_52JT8"
   },
   "source": [
    "### Scaling"
   ]
  },
  {
   "cell_type": "code",
   "execution_count": 15,
   "metadata": {
    "id": "yIK1jOIwT6PA"
   },
   "outputs": [],
   "source": [
    "def get_scale(feature):\n",
    "    def minmax(x):\n",
    "        mini = train[feature].min()\n",
    "        maxi = train[feature].max()\n",
    "        return (x - mini)/(maxi-mini)\n",
    "    return(minmax)"
   ]
  },
  {
   "cell_type": "code",
   "execution_count": 16,
   "metadata": {
    "colab": {
     "base_uri": "https://localhost:8080/"
    },
    "id": "Y8IUfcuVaS_g",
    "outputId": "730148c2-edd6-494d-8cf8-c61a9b7b1414"
   },
   "outputs": [
    {
     "data": {
      "text/plain": [
       "[NumericColumn(key='longitude', shape=(1,), default_value=None, dtype=tf.float32, normalizer_fn=<function get_scale.<locals>.minmax at 0x7ff4f04a9680>),\n",
       " NumericColumn(key='latitude', shape=(1,), default_value=None, dtype=tf.float32, normalizer_fn=<function get_scale.<locals>.minmax at 0x7ff4f04c60e0>),\n",
       " NumericColumn(key='housing_median_age', shape=(1,), default_value=None, dtype=tf.float32, normalizer_fn=<function get_scale.<locals>.minmax at 0x7ff4f04c6170>),\n",
       " NumericColumn(key='total_rooms', shape=(1,), default_value=None, dtype=tf.float32, normalizer_fn=<function get_scale.<locals>.minmax at 0x7ff4f04c6200>),\n",
       " NumericColumn(key='total_bedrooms', shape=(1,), default_value=None, dtype=tf.float32, normalizer_fn=<function get_scale.<locals>.minmax at 0x7ff4f04c6290>),\n",
       " NumericColumn(key='population', shape=(1,), default_value=None, dtype=tf.float32, normalizer_fn=<function get_scale.<locals>.minmax at 0x7ff4f04c6320>),\n",
       " NumericColumn(key='households', shape=(1,), default_value=None, dtype=tf.float32, normalizer_fn=<function get_scale.<locals>.minmax at 0x7ff4f04c63b0>),\n",
       " NumericColumn(key='median_income', shape=(1,), default_value=None, dtype=tf.float32, normalizer_fn=<function get_scale.<locals>.minmax at 0x7ff4f04c6440>)]"
      ]
     },
     "execution_count": 16,
     "metadata": {
      "tags": []
     },
     "output_type": "execute_result"
    }
   ],
   "source": [
    "feature_columns = []\n",
    "\n",
    "for col in numeric_cols:\n",
    "    scal_input_fn = get_scale(col)\n",
    "    feature_columns.append(\n",
    "        fc.numeric_column(col, normalizer_fn=scal_input_fn))\n",
    "    \n",
    "feature_columns"
   ]
  },
  {
   "cell_type": "code",
   "execution_count": 28,
   "metadata": {
    "colab": {
     "base_uri": "https://localhost:8080/"
    },
    "id": "8rMdDeGDCwpT",
    "outputId": "e20d2e91-f9af-4056-b0d8-4467b14f1d0e"
   },
   "outputs": [
    {
     "data": {
      "text/plain": [
       "<BatchDataset shapes: {longitude: (None,), latitude: (None,), housing_median_age: (None,), total_rooms: (None,), total_bedrooms: (None,), population: (None,), households: (None,), median_income: (None,), median_house_value: (None,), ocean_proximity: (None,)}, types: {longitude: tf.float64, latitude: tf.float64, housing_median_age: tf.float64, total_rooms: tf.float64, total_bedrooms: tf.float64, population: tf.float64, households: tf.float64, median_income: tf.float64, median_house_value: tf.float64, ocean_proximity: tf.string}>"
      ]
     },
     "execution_count": 28,
     "metadata": {
      "tags": []
     },
     "output_type": "execute_result"
    }
   ],
   "source": [
    "def predict_input_fn(features, batch_size=256):\n",
    "    \"\"\"prediction을 위한 input function\"\"\"\n",
    "    # 입력을 레이블이없는 데이터 세트로 변환\n",
    "    return tf.data.Dataset.from_tensor_slices(dict(features)).batch(batch_size)\n",
    "\n",
    "predict_ds = test_input_fn(dict(test_data))\n",
    "predict_ds"
   ]
  },
  {
   "cell_type": "markdown",
   "metadata": {
    "id": "vdx370A0T6PE"
   },
   "source": [
    "## Feature Engineering \n",
    "\n",
    "- categorical and numerical features 생성"
   ]
  },
  {
   "cell_type": "markdown",
   "metadata": {
    "id": "78F1XH1Qwvbt"
   },
   "source": [
    "- `housing_median_age`를 버킷화\n",
    "\n",
    "- `ocean_proximity`를 one-hot 인코딩하여 범주화 "
   ]
  },
  {
   "cell_type": "code",
   "execution_count": 19,
   "metadata": {
    "id": "ZxSatLUxUmvI"
   },
   "outputs": [],
   "source": [
    "# numerical columns\n",
    "numeric_cols = ['longitude', 'latitude', 'housing_median_age', 'total_rooms',\n",
    "                'total_bedrooms', 'population', 'households', 'median_income']\n",
    "\n",
    "# bucketized columns\n",
    "bucketized_cols = ['housing_median_age']\n",
    "\n",
    "# indicator columns, Categorical features\n",
    "categorical_cols = ['ocean_proximity']"
   ]
  },
  {
   "cell_type": "markdown",
   "metadata": {
    "id": "yYUpUZvgwrPe"
   },
   "source": [
    "### Categorical Feature\n",
    "\n",
    "- `ocean_proximity`는 문자열로 표시되므로 숫자 값에 매핑하고 one-hot-encoding "
   ]
  },
  {
   "cell_type": "code",
   "execution_count": 20,
   "metadata": {
    "colab": {
     "base_uri": "https://localhost:8080/"
    },
    "id": "5cfLs-VTCvKc",
    "outputId": "27468cc9-65c5-4b82-c324-3c015b206109"
   },
   "outputs": [
    {
     "data": {
      "text/plain": [
       "array(['NEAR BAY', '<1H OCEAN', 'INLAND', 'NEAR OCEAN', 'ISLAND'],\n",
       "      dtype=object)"
      ]
     },
     "execution_count": 20,
     "metadata": {
      "tags": []
     },
     "output_type": "execute_result"
    }
   ],
   "source": [
    "housing_df['ocean_proximity'].unique()"
   ]
  },
  {
   "cell_type": "code",
   "execution_count": 21,
   "metadata": {
    "colab": {
     "base_uri": "https://localhost:8080/"
    },
    "id": "3Cf6SoFTUnc6",
    "outputId": "aaf15ede-ef88-4893-8531-acaf4687c510"
   },
   "outputs": [
    {
     "data": {
      "text/plain": [
       "[NumericColumn(key='longitude', shape=(1,), default_value=None, dtype=tf.float32, normalizer_fn=<function get_scale.<locals>.minmax at 0x7ff4f04a9680>),\n",
       " NumericColumn(key='latitude', shape=(1,), default_value=None, dtype=tf.float32, normalizer_fn=<function get_scale.<locals>.minmax at 0x7ff4f04c60e0>),\n",
       " NumericColumn(key='housing_median_age', shape=(1,), default_value=None, dtype=tf.float32, normalizer_fn=<function get_scale.<locals>.minmax at 0x7ff4f04c6170>),\n",
       " NumericColumn(key='total_rooms', shape=(1,), default_value=None, dtype=tf.float32, normalizer_fn=<function get_scale.<locals>.minmax at 0x7ff4f04c6200>),\n",
       " NumericColumn(key='total_bedrooms', shape=(1,), default_value=None, dtype=tf.float32, normalizer_fn=<function get_scale.<locals>.minmax at 0x7ff4f04c6290>),\n",
       " NumericColumn(key='population', shape=(1,), default_value=None, dtype=tf.float32, normalizer_fn=<function get_scale.<locals>.minmax at 0x7ff4f04c6320>),\n",
       " NumericColumn(key='households', shape=(1,), default_value=None, dtype=tf.float32, normalizer_fn=<function get_scale.<locals>.minmax at 0x7ff4f04c63b0>),\n",
       " NumericColumn(key='median_income', shape=(1,), default_value=None, dtype=tf.float32, normalizer_fn=<function get_scale.<locals>.minmax at 0x7ff4f04c6440>),\n",
       " IndicatorColumn(categorical_column=VocabularyListCategoricalColumn(key='ocean_proximity', vocabulary_list=('NEAR BAY', '<1H OCEAN', 'INLAND', 'NEAR OCEAN', 'ISLAND'), dtype=tf.string, default_value=-1, num_oov_buckets=0))]"
      ]
     },
     "execution_count": 21,
     "metadata": {
      "tags": []
     },
     "output_type": "execute_result"
    }
   ],
   "source": [
    "for col in categorical_cols:\n",
    "    vocabulary = housing_df[col].unique()\n",
    "    categorical_c = fc.categorical_column_with_vocabulary_list(col, vocabulary)\n",
    "    one_hot = fc.indicator_column(categorical_c)\n",
    "    feature_columns.append(one_hot)\n",
    "    \n",
    "feature_columns"
   ]
  },
  {
   "cell_type": "markdown",
   "metadata": {
    "id": "qnGyWaijzShj"
   },
   "source": [
    "### Bucketized Feature\n",
    "\n",
    "주택 연령을 Numeric Column으로 표시하는 대신 [bucketized column](https://www.tensorflow.org/api_docs/python/tf/feature_column/bucketized_column)을 사용하여 주택 연령을 여러 버킷으로 분할할 수 있습니다."
   ]
  },
  {
   "cell_type": "markdown",
   "metadata": {
    "id": "7ZRlFyP7fOw-"
   },
   "source": [
    "- `housing_median_age`를 사용하여 버킷화 된 열을 만듭니다."
   ]
  },
  {
   "cell_type": "code",
   "execution_count": 22,
   "metadata": {
    "colab": {
     "base_uri": "https://localhost:8080/"
    },
    "id": "xB-yiVLmUnXp",
    "outputId": "d10bd152-3349-40ba-9706-1786976a8b1c"
   },
   "outputs": [
    {
     "data": {
      "text/plain": [
       "[NumericColumn(key='longitude', shape=(1,), default_value=None, dtype=tf.float32, normalizer_fn=<function get_scale.<locals>.minmax at 0x7ff4f04a9680>),\n",
       " NumericColumn(key='latitude', shape=(1,), default_value=None, dtype=tf.float32, normalizer_fn=<function get_scale.<locals>.minmax at 0x7ff4f04c60e0>),\n",
       " NumericColumn(key='housing_median_age', shape=(1,), default_value=None, dtype=tf.float32, normalizer_fn=<function get_scale.<locals>.minmax at 0x7ff4f04c6170>),\n",
       " NumericColumn(key='total_rooms', shape=(1,), default_value=None, dtype=tf.float32, normalizer_fn=<function get_scale.<locals>.minmax at 0x7ff4f04c6200>),\n",
       " NumericColumn(key='total_bedrooms', shape=(1,), default_value=None, dtype=tf.float32, normalizer_fn=<function get_scale.<locals>.minmax at 0x7ff4f04c6290>),\n",
       " NumericColumn(key='population', shape=(1,), default_value=None, dtype=tf.float32, normalizer_fn=<function get_scale.<locals>.minmax at 0x7ff4f04c6320>),\n",
       " NumericColumn(key='households', shape=(1,), default_value=None, dtype=tf.float32, normalizer_fn=<function get_scale.<locals>.minmax at 0x7ff4f04c63b0>),\n",
       " NumericColumn(key='median_income', shape=(1,), default_value=None, dtype=tf.float32, normalizer_fn=<function get_scale.<locals>.minmax at 0x7ff4f04c6440>),\n",
       " IndicatorColumn(categorical_column=VocabularyListCategoricalColumn(key='ocean_proximity', vocabulary_list=('NEAR BAY', '<1H OCEAN', 'INLAND', 'NEAR OCEAN', 'ISLAND'), dtype=tf.string, default_value=-1, num_oov_buckets=0)),\n",
       " BucketizedColumn(source_column=NumericColumn(key='housing_median_age', shape=(1,), default_value=None, dtype=tf.float32, normalizer_fn=None), boundaries=(10, 20, 30, 40, 50, 60, 80, 100))]"
      ]
     },
     "execution_count": 22,
     "metadata": {
      "tags": []
     },
     "output_type": "execute_result"
    }
   ],
   "source": [
    "age = fc.numeric_column(\"housing_median_age\")\n",
    "\n",
    "# Bucketized cols\n",
    "age_buckets = fc.bucketized_column(age, boundaries=[10, 20, 30, 40, 50, 60, 80, 100])\n",
    "\n",
    "feature_columns.append(age_buckets)\n",
    "feature_columns"
   ]
  },
  {
   "cell_type": "markdown",
   "metadata": {
    "id": "Ri4_wssOg943"
   },
   "source": [
    "### Feature Cross\n",
    "\n",
    "- [Feature Cross](https://developers.google.com/machine-learning/glossary/#feature_cross)하여 단일 기능으로 결합하면 모델이 각 기능 조합에 대해 별도의 가중치를 학습할 수 있습니다."
   ]
  },
  {
   "cell_type": "markdown",
   "metadata": {
    "id": "a6HHJl3J0j0T"
   },
   "source": [
    "- `housing_median_age`와 `ocean_proximity`의 특성 교차를 생성합니다."
   ]
  },
  {
   "cell_type": "code",
   "execution_count": 23,
   "metadata": {
    "colab": {
     "base_uri": "https://localhost:8080/"
    },
    "id": "JVLnG0WbUnkl",
    "outputId": "6d58746e-e3dd-4579-c14e-b97a73d757ec"
   },
   "outputs": [
    {
     "data": {
      "text/plain": [
       "[NumericColumn(key='longitude', shape=(1,), default_value=None, dtype=tf.float32, normalizer_fn=<function get_scale.<locals>.minmax at 0x7ff4f04a9680>),\n",
       " NumericColumn(key='latitude', shape=(1,), default_value=None, dtype=tf.float32, normalizer_fn=<function get_scale.<locals>.minmax at 0x7ff4f04c60e0>),\n",
       " NumericColumn(key='housing_median_age', shape=(1,), default_value=None, dtype=tf.float32, normalizer_fn=<function get_scale.<locals>.minmax at 0x7ff4f04c6170>),\n",
       " NumericColumn(key='total_rooms', shape=(1,), default_value=None, dtype=tf.float32, normalizer_fn=<function get_scale.<locals>.minmax at 0x7ff4f04c6200>),\n",
       " NumericColumn(key='total_bedrooms', shape=(1,), default_value=None, dtype=tf.float32, normalizer_fn=<function get_scale.<locals>.minmax at 0x7ff4f04c6290>),\n",
       " NumericColumn(key='population', shape=(1,), default_value=None, dtype=tf.float32, normalizer_fn=<function get_scale.<locals>.minmax at 0x7ff4f04c6320>),\n",
       " NumericColumn(key='households', shape=(1,), default_value=None, dtype=tf.float32, normalizer_fn=<function get_scale.<locals>.minmax at 0x7ff4f04c63b0>),\n",
       " NumericColumn(key='median_income', shape=(1,), default_value=None, dtype=tf.float32, normalizer_fn=<function get_scale.<locals>.minmax at 0x7ff4f04c6440>),\n",
       " IndicatorColumn(categorical_column=VocabularyListCategoricalColumn(key='ocean_proximity', vocabulary_list=('NEAR BAY', '<1H OCEAN', 'INLAND', 'NEAR OCEAN', 'ISLAND'), dtype=tf.string, default_value=-1, num_oov_buckets=0)),\n",
       " BucketizedColumn(source_column=NumericColumn(key='housing_median_age', shape=(1,), default_value=None, dtype=tf.float32, normalizer_fn=None), boundaries=(10, 20, 30, 40, 50, 60, 80, 100)),\n",
       " IndicatorColumn(categorical_column=CrossedColumn(keys=(BucketizedColumn(source_column=NumericColumn(key='housing_median_age', shape=(1,), default_value=None, dtype=tf.float32, normalizer_fn=None), boundaries=(10, 20, 30, 40, 50, 60, 80, 100)), VocabularyListCategoricalColumn(key='ocean_proximity', vocabulary_list=('NEAR BAY', '<1H OCEAN', 'INLAND', 'NEAR OCEAN', 'ISLAND'), dtype=tf.string, default_value=-1, num_oov_buckets=0)), hash_bucket_size=1000, hash_key=None))]"
      ]
     },
     "execution_count": 23,
     "metadata": {
      "tags": []
     },
     "output_type": "execute_result"
    }
   ],
   "source": [
    "vocabulary = housing_df['ocean_proximity'].unique()\n",
    "ocean_proximity = fc.categorical_column_with_vocabulary_list('ocean_proximity', vocabulary)\n",
    "\n",
    "crossed_feature = fc.crossed_column([age_buckets, ocean_proximity], hash_bucket_size=1000)\n",
    "crossed_feature = fc.indicator_column(crossed_feature)\n",
    "feature_columns.append(crossed_feature)\n",
    "\n",
    "feature_columns"
   ]
  },
  {
   "cell_type": "code",
   "execution_count": null,
   "metadata": {
    "colab": {
     "base_uri": "https://localhost:8080/"
    },
    "id": "4Dwal3oxUoCe",
    "outputId": "dc4b3745-ab03-4be5-83b8-5789d44856ab",
    "scrolled": true
   },
   "outputs": [],
   "source": [
    "feature_layer = DenseFeatures(feature_columns, dtype='float64')\n",
    "\n",
    "model = Sequential([\n",
    "  feature_layer,\n",
    "  Dense(32, input_dim=8, activation='relu'),\n",
    "  Dense(8, activation='relu'),\n",
    "  Dense(1, activation='linear',  name='median_house_value')\n",
    "])\n",
    "\n",
    "model.compile(optimizer='adam', loss='mse', metrics=['mse'])\n",
    "\n",
    "history = model.fit(train_ds, validation_data=val_ds, epochs=50)"
   ]
  },
  {
   "cell_type": "code",
   "execution_count": 31,
   "metadata": {
    "colab": {
     "base_uri": "https://localhost:8080/"
    },
    "id": "ZtFSpkd9UoAW",
    "outputId": "111c4dcd-2d33-475f-c240-2bc6846a415c"
   },
   "outputs": [
    {
     "name": "stdout",
     "output_type": "stream",
     "text": [
      "Mean Squared Error 7931456512.0\n"
     ]
    }
   ],
   "source": [
    "loss, mse = model.evaluate(test_ds, verbose=0)\n",
    "print(\"Mean Squared Error\", mse)"
   ]
  },
  {
   "cell_type": "code",
   "execution_count": 32,
   "metadata": {
    "id": "936EKUT6GKrK"
   },
   "outputs": [],
   "source": [
    "def plot_curves(history, metrics):\n",
    "    fig = plt.figure(figsize=(10, 5))\n",
    "\n",
    "    for idx, key in enumerate(metrics):  \n",
    "        ax = fig.add_subplot(1, 2, idx+1)\n",
    "        plt.plot(history.history[key])\n",
    "        plt.plot(history.history['val_{}'.format(key)])\n",
    "        plt.title(f'{key}')\n",
    "        plt.ylabel(key)\n",
    "        plt.xlabel('epoch')\n",
    "        plt.legend(['train', 'validation']);  "
   ]
  },
  {
   "cell_type": "code",
   "execution_count": 33,
   "metadata": {
    "colab": {
     "base_uri": "https://localhost:8080/",
     "height": 350
    },
    "id": "O8kWMa6xUn-M",
    "outputId": "2d8c03ec-ba75-4f1b-f806-33a7adee8c65"
   },
   "outputs": [
    {
     "data": {
      "image/png": "[encoded data removed]",
      "text/plain": [
       "<Figure size 720x360 with 2 Axes>"
      ]
     },
     "metadata": {
      "needs_background": "light",
      "tags": []
     },
     "output_type": "display_data"
    }
   ],
   "source": [
    "plot_curves(history, ['loss', 'mse'])"
   ]
  },
  {
   "cell_type": "code",
   "execution_count": 34,
   "metadata": {
    "colab": {
     "base_uri": "https://localhost:8080/"
    },
    "id": "R2banTWHT6PH",
    "outputId": "6b0ec55b-c631-4c89-a21d-4f9014941320"
   },
   "outputs": [
    {
     "name": "stdout",
     "output_type": "stream",
     "text": [
      "WARNING:tensorflow:Layers in a Sequential model should only have a single input tensor, but we receive a <class 'dict'> input: {'longitude': <tf.Tensor 'ExpandDims_3:0' shape=(None, 1) dtype=float32>, 'latitude': <tf.Tensor 'ExpandDims_2:0' shape=(None, 1) dtype=float32>, 'housing_median_age': <tf.Tensor 'ExpandDims_1:0' shape=(None, 1) dtype=float32>, 'total_rooms': <tf.Tensor 'ExpandDims_8:0' shape=(None, 1) dtype=float32>, 'total_bedrooms': <tf.Tensor 'ExpandDims_7:0' shape=(None, 1) dtype=float32>, 'population': <tf.Tensor 'ExpandDims_6:0' shape=(None, 1) dtype=float32>, 'households': <tf.Tensor 'ExpandDims:0' shape=(None, 1) dtype=float32>, 'median_income': <tf.Tensor 'ExpandDims_4:0' shape=(None, 1) dtype=float32>, 'ocean_proximity': <tf.Tensor 'ExpandDims_5:0' shape=(None, 1) dtype=string>}\n",
      "Consider rewriting this model with the Functional API.\n"
     ]
    },
    {
     "data": {
      "text/plain": [
       "array([[281132.97]], dtype=float32)"
      ]
     },
     "execution_count": 34,
     "metadata": {
      "tags": []
     },
     "output_type": "execute_result"
    }
   ],
   "source": [
    "# Median_house_value is $249,000 for NEAR OCEAN\n",
    "model.predict({\n",
    "    'longitude': tf.convert_to_tensor([-122.43]),\n",
    "    'latitude': tf.convert_to_tensor([37.63]),\n",
    "    'housing_median_age': tf.convert_to_tensor([34.0]),\n",
    "    'total_rooms': tf.convert_to_tensor([4135.0]),\n",
    "    'total_bedrooms': tf.convert_to_tensor([687.0]),\n",
    "    'population': tf.convert_to_tensor([2154.0]),\n",
    "    'households': tf.convert_to_tensor([742.0]),\n",
    "    'median_income': tf.convert_to_tensor([4.9732]),\n",
    "    'ocean_proximity': tf.convert_to_tensor(['NEAR OCEAN'])\n",
    "})"
   ]
  },
  {
   "cell_type": "code",
   "execution_count": 35,
   "metadata": {
    "colab": {
     "base_uri": "https://localhost:8080/"
    },
    "id": "ElkT7ArKPqS5",
    "outputId": "849b7bbd-b2b4-425b-9ef2-b562d85a8fc6"
   },
   "outputs": [
    {
     "name": "stdout",
     "output_type": "stream",
     "text": [
      "WARNING:tensorflow:Layers in a Sequential model should only have a single input tensor, but we receive a <class 'dict'> input: {'longitude': <tf.Tensor 'ExpandDims_3:0' shape=(None, 1) dtype=float64>, 'latitude': <tf.Tensor 'ExpandDims_2:0' shape=(None, 1) dtype=float64>, 'housing_median_age': <tf.Tensor 'ExpandDims_1:0' shape=(None, 1) dtype=float64>, 'total_rooms': <tf.Tensor 'ExpandDims_9:0' shape=(None, 1) dtype=float64>, 'total_bedrooms': <tf.Tensor 'ExpandDims_8:0' shape=(None, 1) dtype=float64>, 'population': <tf.Tensor 'ExpandDims_7:0' shape=(None, 1) dtype=float64>, 'households': <tf.Tensor 'ExpandDims:0' shape=(None, 1) dtype=float64>, 'median_income': <tf.Tensor 'ExpandDims_5:0' shape=(None, 1) dtype=float64>, 'median_house_value': <tf.Tensor 'ExpandDims_4:0' shape=(None, 1) dtype=float64>, 'ocean_proximity': <tf.Tensor 'ExpandDims_6:0' shape=(None, 1) dtype=string>}\n",
      "Consider rewriting this model with the Functional API.\n"
     ]
    },
    {
     "data": {
      "text/plain": [
       "array([[235831.67],\n",
       "       [234507.64],\n",
       "       [252735.17],\n",
       "       ...,\n",
       "       [120069.05],\n",
       "       [233102.6 ],\n",
       "       [147536.7 ]], dtype=float32)"
      ]
     },
     "execution_count": 35,
     "metadata": {
      "tags": []
     },
     "output_type": "execute_result"
    }
   ],
   "source": [
    "model.predict(predict_ds)"
   ]
  },
  {
   "cell_type": "markdown",
   "metadata": {
    "id": "rcbdA3arXkej"
   },
   "source": [
    "### Analysis \n",
    "\n",
    "이제 \"feature engineering 템플릿\" 설정이 완료되었으므로 추가 feature를 만들어 실험할 수 있습니다. 예를 들어, 인구당 가구와 같은 파생 피쳐를 생성하고 모델에 미치는 영향을 확인할 수 있습니다. 특성 교차를 생성하는 데 사용한 특성을 대체하는 실험을 할 수도 있습니다."
   ]
  },
  {
   "cell_type": "code",
   "execution_count": null,
   "metadata": {
    "id": "4tKBdzGKFVV7"
   },
   "outputs": [],
   "source": []
  }
 ],
 "metadata": {
  "accelerator": "GPU",
  "colab": {
   "collapsed_sections": [],
   "machine_shape": "hm",
   "name": "130_keras_basic_feat_eng.ipynb",
   "provenance": []
  },
  "kernelspec": {
   "display_name": "Python 3",
   "language": "python",
   "name": "python3"
  },
  "language_info": {
   "codemirror_mode": {
    "name": "ipython",
    "version": 3
   },
   "file_extension": ".py",
   "mimetype": "text/x-python",
   "name": "python",
   "nbconvert_exporter": "python",
   "pygments_lexer": "ipython3",
   "version": "3.7.10"
  }
 },
 "nbformat": 4,
 "nbformat_minor": 1
}
