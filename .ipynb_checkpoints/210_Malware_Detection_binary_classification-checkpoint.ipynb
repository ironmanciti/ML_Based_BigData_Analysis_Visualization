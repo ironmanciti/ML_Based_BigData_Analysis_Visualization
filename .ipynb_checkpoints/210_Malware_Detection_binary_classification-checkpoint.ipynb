{
 "cells": [
  {
   "cell_type": "markdown",
   "id": "cutting-glenn",
   "metadata": {
    "id": "diverse-links"
   },
   "source": [
    "# Malware Detection - binary classification"
   ]
  },
  {
   "cell_type": "code",
   "execution_count": 1,
   "id": "serious-january",
   "metadata": {
    "colab": {
     "base_uri": "https://localhost:8080/",
     "height": 218
    },
    "id": "respected-property",
    "outputId": "0982d772-b909-4762-f2b9-5473b4736288"
   },
   "outputs": [
    {
     "data": {
      "text/html": [
       "<div>\n",
       "<style scoped>\n",
       "    .dataframe tbody tr th:only-of-type {\n",
       "        vertical-align: middle;\n",
       "    }\n",
       "\n",
       "    .dataframe tbody tr th {\n",
       "        vertical-align: top;\n",
       "    }\n",
       "\n",
       "    .dataframe thead th {\n",
       "        text-align: right;\n",
       "    }\n",
       "</style>\n",
       "<table border=\"1\" class=\"dataframe\">\n",
       "  <thead>\n",
       "    <tr style=\"text-align: right;\">\n",
       "      <th></th>\n",
       "      <th>Name</th>\n",
       "      <th>md5</th>\n",
       "      <th>Machine</th>\n",
       "      <th>SizeOfOptionalHeader</th>\n",
       "      <th>Characteristics</th>\n",
       "      <th>MajorLinkerVersion</th>\n",
       "      <th>MinorLinkerVersion</th>\n",
       "      <th>SizeOfCode</th>\n",
       "      <th>SizeOfInitializedData</th>\n",
       "      <th>SizeOfUninitializedData</th>\n",
       "      <th>...</th>\n",
       "      <th>ResourcesNb</th>\n",
       "      <th>ResourcesMeanEntropy</th>\n",
       "      <th>ResourcesMinEntropy</th>\n",
       "      <th>ResourcesMaxEntropy</th>\n",
       "      <th>ResourcesMeanSize</th>\n",
       "      <th>ResourcesMinSize</th>\n",
       "      <th>ResourcesMaxSize</th>\n",
       "      <th>LoadConfigurationSize</th>\n",
       "      <th>VersionInformationSize</th>\n",
       "      <th>legitimate</th>\n",
       "    </tr>\n",
       "  </thead>\n",
       "  <tbody>\n",
       "    <tr>\n",
       "      <th>26978</th>\n",
       "      <td>iexplore.exe</td>\n",
       "      <td>ff484b9824dcc3580e244a85352b425a</td>\n",
       "      <td>332</td>\n",
       "      <td>224</td>\n",
       "      <td>258</td>\n",
       "      <td>9</td>\n",
       "      <td>0</td>\n",
       "      <td>44544</td>\n",
       "      <td>624640</td>\n",
       "      <td>0</td>\n",
       "      <td>...</td>\n",
       "      <td>180</td>\n",
       "      <td>4.384464</td>\n",
       "      <td>2.186408</td>\n",
       "      <td>7.990925</td>\n",
       "      <td>3386.7000</td>\n",
       "      <td>20</td>\n",
       "      <td>67585</td>\n",
       "      <td>72</td>\n",
       "      <td>16</td>\n",
       "      <td>1</td>\n",
       "    </tr>\n",
       "    <tr>\n",
       "      <th>71368</th>\n",
       "      <td>VirusShare_aba338aa279d2edc208ea8c3adc2cdb4</td>\n",
       "      <td>aba338aa279d2edc208ea8c3adc2cdb4</td>\n",
       "      <td>332</td>\n",
       "      <td>224</td>\n",
       "      <td>258</td>\n",
       "      <td>10</td>\n",
       "      <td>0</td>\n",
       "      <td>120320</td>\n",
       "      <td>385024</td>\n",
       "      <td>0</td>\n",
       "      <td>...</td>\n",
       "      <td>6</td>\n",
       "      <td>3.671986</td>\n",
       "      <td>2.458492</td>\n",
       "      <td>5.317552</td>\n",
       "      <td>2739.5000</td>\n",
       "      <td>48</td>\n",
       "      <td>9640</td>\n",
       "      <td>72</td>\n",
       "      <td>15</td>\n",
       "      <td>0</td>\n",
       "    </tr>\n",
       "    <tr>\n",
       "      <th>106224</th>\n",
       "      <td>VirusShare_c8b22b719bcf452e61df803c55476327</td>\n",
       "      <td>c8b22b719bcf452e61df803c55476327</td>\n",
       "      <td>332</td>\n",
       "      <td>224</td>\n",
       "      <td>258</td>\n",
       "      <td>10</td>\n",
       "      <td>0</td>\n",
       "      <td>118784</td>\n",
       "      <td>383488</td>\n",
       "      <td>0</td>\n",
       "      <td>...</td>\n",
       "      <td>16</td>\n",
       "      <td>6.378131</td>\n",
       "      <td>2.458492</td>\n",
       "      <td>7.992688</td>\n",
       "      <td>20821.9375</td>\n",
       "      <td>48</td>\n",
       "      <td>33945</td>\n",
       "      <td>72</td>\n",
       "      <td>14</td>\n",
       "      <td>0</td>\n",
       "    </tr>\n",
       "    <tr>\n",
       "      <th>10238</th>\n",
       "      <td>mcstoredb.ni.dll</td>\n",
       "      <td>fcf892732a5d81c2e88a2bf3c7d04ebe</td>\n",
       "      <td>34404</td>\n",
       "      <td>240</td>\n",
       "      <td>8226</td>\n",
       "      <td>8</td>\n",
       "      <td>0</td>\n",
       "      <td>0</td>\n",
       "      <td>0</td>\n",
       "      <td>0</td>\n",
       "      <td>...</td>\n",
       "      <td>1</td>\n",
       "      <td>3.543663</td>\n",
       "      <td>3.543663</td>\n",
       "      <td>3.543663</td>\n",
       "      <td>968.0000</td>\n",
       "      <td>968</td>\n",
       "      <td>968</td>\n",
       "      <td>0</td>\n",
       "      <td>16</td>\n",
       "      <td>1</td>\n",
       "    </tr>\n",
       "    <tr>\n",
       "      <th>75450</th>\n",
       "      <td>VirusShare_6770aaaf853db1ace6f7b0ed3fc5ce9c</td>\n",
       "      <td>6770aaaf853db1ace6f7b0ed3fc5ce9c</td>\n",
       "      <td>332</td>\n",
       "      <td>224</td>\n",
       "      <td>258</td>\n",
       "      <td>10</td>\n",
       "      <td>0</td>\n",
       "      <td>120320</td>\n",
       "      <td>385024</td>\n",
       "      <td>0</td>\n",
       "      <td>...</td>\n",
       "      <td>6</td>\n",
       "      <td>3.729824</td>\n",
       "      <td>2.458492</td>\n",
       "      <td>5.317552</td>\n",
       "      <td>2739.5000</td>\n",
       "      <td>48</td>\n",
       "      <td>9640</td>\n",
       "      <td>72</td>\n",
       "      <td>15</td>\n",
       "      <td>0</td>\n",
       "    </tr>\n",
       "  </tbody>\n",
       "</table>\n",
       "<p>5 rows × 57 columns</p>\n",
       "</div>"
      ],
      "text/plain": [
       "                                               Name  \\\n",
       "26978                                  iexplore.exe   \n",
       "71368   VirusShare_aba338aa279d2edc208ea8c3adc2cdb4   \n",
       "106224  VirusShare_c8b22b719bcf452e61df803c55476327   \n",
       "10238                              mcstoredb.ni.dll   \n",
       "75450   VirusShare_6770aaaf853db1ace6f7b0ed3fc5ce9c   \n",
       "\n",
       "                                     md5  Machine  SizeOfOptionalHeader  \\\n",
       "26978   ff484b9824dcc3580e244a85352b425a      332                   224   \n",
       "71368   aba338aa279d2edc208ea8c3adc2cdb4      332                   224   \n",
       "106224  c8b22b719bcf452e61df803c55476327      332                   224   \n",
       "10238   fcf892732a5d81c2e88a2bf3c7d04ebe    34404                   240   \n",
       "75450   6770aaaf853db1ace6f7b0ed3fc5ce9c      332                   224   \n",
       "\n",
       "        Characteristics  MajorLinkerVersion  MinorLinkerVersion  SizeOfCode  \\\n",
       "26978               258                   9                   0       44544   \n",
       "71368               258                  10                   0      120320   \n",
       "106224              258                  10                   0      118784   \n",
       "10238              8226                   8                   0           0   \n",
       "75450               258                  10                   0      120320   \n",
       "\n",
       "        SizeOfInitializedData  SizeOfUninitializedData  ...  ResourcesNb  \\\n",
       "26978                  624640                        0  ...          180   \n",
       "71368                  385024                        0  ...            6   \n",
       "106224                 383488                        0  ...           16   \n",
       "10238                       0                        0  ...            1   \n",
       "75450                  385024                        0  ...            6   \n",
       "\n",
       "        ResourcesMeanEntropy  ResourcesMinEntropy  ResourcesMaxEntropy  \\\n",
       "26978               4.384464             2.186408             7.990925   \n",
       "71368               3.671986             2.458492             5.317552   \n",
       "106224              6.378131             2.458492             7.992688   \n",
       "10238               3.543663             3.543663             3.543663   \n",
       "75450               3.729824             2.458492             5.317552   \n",
       "\n",
       "        ResourcesMeanSize  ResourcesMinSize  ResourcesMaxSize  \\\n",
       "26978           3386.7000                20             67585   \n",
       "71368           2739.5000                48              9640   \n",
       "106224         20821.9375                48             33945   \n",
       "10238            968.0000               968               968   \n",
       "75450           2739.5000                48              9640   \n",
       "\n",
       "        LoadConfigurationSize  VersionInformationSize  legitimate  \n",
       "26978                      72                      16           1  \n",
       "71368                      72                      15           0  \n",
       "106224                     72                      14           0  \n",
       "10238                       0                      16           1  \n",
       "75450                      72                      15           0  \n",
       "\n",
       "[5 rows x 57 columns]"
      ]
     },
     "execution_count": 1,
     "metadata": {},
     "output_type": "execute_result"
    }
   ],
   "source": [
    "import pandas as pd\n",
    "import numpy as np\n",
    "from sklearn.model_selection import train_test_split\n",
    "from sklearn.preprocessing import StandardScaler\n",
    "import tensorflow as tf\n",
    "from tensorflow.keras.layers import Dense\n",
    "import matplotlib.pyplot as plt\n",
    "\n",
    "df = pd.read_csv('security_data/malware.csv', index_col=0)\n",
    "df.head()"
   ]
  },
  {
   "cell_type": "code",
   "execution_count": 2,
   "id": "humanitarian-doctrine",
   "metadata": {
    "colab": {
     "base_uri": "https://localhost:8080/"
    },
    "id": "polished-flush",
    "outputId": "aef0b5d2-2d35-496d-ed90-b7e0b5799566"
   },
   "outputs": [
    {
     "data": {
      "text/plain": [
       "(100000, 57)"
      ]
     },
     "execution_count": 2,
     "metadata": {},
     "output_type": "execute_result"
    }
   ],
   "source": [
    "df.shape"
   ]
  },
  {
   "cell_type": "code",
   "execution_count": 3,
   "id": "criminal-comparison",
   "metadata": {
    "colab": {
     "base_uri": "https://localhost:8080/"
    },
    "id": "differential-south",
    "outputId": "eb8a45af-d539-4df4-cc24-862adfe52c12"
   },
   "outputs": [
    {
     "data": {
      "text/plain": [
       "0    69881\n",
       "1    30119\n",
       "Name: legitimate, dtype: int64"
      ]
     },
     "execution_count": 3,
     "metadata": {},
     "output_type": "execute_result"
    }
   ],
   "source": [
    "df['legitimate'].value_counts()"
   ]
  },
  {
   "cell_type": "code",
   "execution_count": 4,
   "id": "dressed-river",
   "metadata": {
    "colab": {
     "base_uri": "https://localhost:8080/"
    },
    "id": "civilian-johnson",
    "outputId": "5524dea8-d6b6-4f4c-f06d-12609216ecf3"
   },
   "outputs": [
    {
     "data": {
      "text/plain": [
       "Index(['Name', 'md5', 'Machine', 'SizeOfOptionalHeader', 'Characteristics',\n",
       "       'MajorLinkerVersion', 'MinorLinkerVersion', 'SizeOfCode',\n",
       "       'SizeOfInitializedData', 'SizeOfUninitializedData',\n",
       "       'AddressOfEntryPoint', 'BaseOfCode', 'BaseOfData', 'ImageBase',\n",
       "       'SectionAlignment', 'FileAlignment', 'MajorOperatingSystemVersion',\n",
       "       'MinorOperatingSystemVersion', 'MajorImageVersion', 'MinorImageVersion',\n",
       "       'MajorSubsystemVersion', 'MinorSubsystemVersion', 'SizeOfImage',\n",
       "       'SizeOfHeaders', 'CheckSum', 'Subsystem', 'DllCharacteristics',\n",
       "       'SizeOfStackReserve', 'SizeOfStackCommit', 'SizeOfHeapReserve',\n",
       "       'SizeOfHeapCommit', 'LoaderFlags', 'NumberOfRvaAndSizes', 'SectionsNb',\n",
       "       'SectionsMeanEntropy', 'SectionsMinEntropy', 'SectionsMaxEntropy',\n",
       "       'SectionsMeanRawsize', 'SectionsMinRawsize', 'SectionMaxRawsize',\n",
       "       'SectionsMeanVirtualsize', 'SectionsMinVirtualsize',\n",
       "       'SectionMaxVirtualsize', 'ImportsNbDLL', 'ImportsNb',\n",
       "       'ImportsNbOrdinal', 'ExportNb', 'ResourcesNb', 'ResourcesMeanEntropy',\n",
       "       'ResourcesMinEntropy', 'ResourcesMaxEntropy', 'ResourcesMeanSize',\n",
       "       'ResourcesMinSize', 'ResourcesMaxSize', 'LoadConfigurationSize',\n",
       "       'VersionInformationSize', 'legitimate'],\n",
       "      dtype='object')"
      ]
     },
     "execution_count": 4,
     "metadata": {},
     "output_type": "execute_result"
    }
   ],
   "source": [
    "df.columns"
   ]
  },
  {
   "cell_type": "markdown",
   "id": "parallel-asthma",
   "metadata": {
    "id": "casual-snapshot"
   },
   "source": [
    "- Name : 제외\n",
    "- md5 : hash value 제외"
   ]
  },
  {
   "cell_type": "code",
   "execution_count": 35,
   "id": "formed-spouse",
   "metadata": {
    "id": "authentic-nurse"
   },
   "outputs": [],
   "source": [
    "df = df.iloc[:, 2:]"
   ]
  },
  {
   "cell_type": "code",
   "execution_count": 36,
   "id": "agricultural-sentence",
   "metadata": {
    "colab": {
     "base_uri": "https://localhost:8080/"
    },
    "id": "single-walker",
    "outputId": "017491b1-06ab-4ab0-a02c-45ad62453ed3"
   },
   "outputs": [
    {
     "data": {
      "text/plain": [
       "(100000, 55)"
      ]
     },
     "execution_count": 36,
     "metadata": {
      "tags": []
     },
     "output_type": "execute_result"
    }
   ],
   "source": [
    "df.shape"
   ]
  },
  {
   "cell_type": "code",
   "execution_count": 37,
   "id": "experimental-latest",
   "metadata": {
    "id": "unlike-avenue"
   },
   "outputs": [],
   "source": [
    "y = df.pop('legitimate').values\n",
    "X = df.values"
   ]
  },
  {
   "cell_type": "code",
   "execution_count": 38,
   "id": "wooden-afghanistan",
   "metadata": {
    "colab": {
     "base_uri": "https://localhost:8080/"
    },
    "id": "amino-globe",
    "outputId": "f08a2560-29f3-4bfc-f1dc-ead63901a6d7"
   },
   "outputs": [
    {
     "data": {
      "text/plain": [
       "((100000, 54), (100000,))"
      ]
     },
     "execution_count": 38,
     "metadata": {
      "tags": []
     },
     "output_type": "execute_result"
    }
   ],
   "source": [
    "X.shape, y.shape"
   ]
  },
  {
   "cell_type": "code",
   "execution_count": 39,
   "id": "answering-feeling",
   "metadata": {
    "colab": {
     "base_uri": "https://localhost:8080/"
    },
    "id": "retired-organization",
    "outputId": "755a7099-9dcd-4dda-f1bf-96d821c5f3bd"
   },
   "outputs": [
    {
     "data": {
      "text/plain": [
       "((80000, 54), (20000, 54), (80000,), (20000,))"
      ]
     },
     "execution_count": 39,
     "metadata": {
      "tags": []
     },
     "output_type": "execute_result"
    }
   ],
   "source": [
    "X_train, X_test, y_train, y_test = train_test_split(X, y, test_size=0.2, random_state=0)\n",
    "\n",
    "X_train.shape, X_test.shape, y_train.shape, y_test.shape"
   ]
  },
  {
   "cell_type": "code",
   "execution_count": 40,
   "id": "comfortable-ideal",
   "metadata": {
    "id": "hispanic-platinum"
   },
   "outputs": [],
   "source": [
    "sc = StandardScaler()\n",
    "X_train = sc.fit_transform(X_train)\n",
    "X_test  = sc.transform(X_test)"
   ]
  },
  {
   "cell_type": "code",
   "execution_count": 41,
   "id": "exterior-guyana",
   "metadata": {
    "id": "commercial-gilbert"
   },
   "outputs": [],
   "source": [
    "model = tf.keras.Sequential()\n",
    "\n",
    "model.add(Dense(64, input_shape=(54,), activation=\"relu\"))\n",
    "model.add(Dense(32, activation=\"relu\"))\n",
    "model.add(Dense(1, activation=\"sigmoid\"))"
   ]
  },
  {
   "cell_type": "code",
   "execution_count": 42,
   "id": "frank-divide",
   "metadata": {
    "colab": {
     "base_uri": "https://localhost:8080/"
    },
    "id": "charitable-flight",
    "outputId": "e177580f-57b0-4dc2-a5b4-8b5796ff26e0"
   },
   "outputs": [
    {
     "name": "stdout",
     "output_type": "stream",
     "text": [
      "Model: \"sequential_1\"\n",
      "_________________________________________________________________\n",
      "Layer (type)                 Output Shape              Param #   \n",
      "=================================================================\n",
      "dense_3 (Dense)              (None, 64)                3520      \n",
      "_________________________________________________________________\n",
      "dense_4 (Dense)              (None, 32)                2080      \n",
      "_________________________________________________________________\n",
      "dense_5 (Dense)              (None, 1)                 33        \n",
      "=================================================================\n",
      "Total params: 5,633\n",
      "Trainable params: 5,633\n",
      "Non-trainable params: 0\n",
      "_________________________________________________________________\n"
     ]
    }
   ],
   "source": [
    "model.summary()"
   ]
  },
  {
   "cell_type": "code",
   "execution_count": 43,
   "id": "false-intervention",
   "metadata": {
    "id": "employed-paste"
   },
   "outputs": [],
   "source": [
    "model.compile(loss='binary_crossentropy', optimizer='adam', metrics=[\"accuracy\"])"
   ]
  },
  {
   "cell_type": "code",
   "execution_count": 44,
   "id": "greek-alfred",
   "metadata": {
    "colab": {
     "base_uri": "https://localhost:8080/"
    },
    "id": "universal-behavior",
    "outputId": "c523a511-88a3-468e-8227-38bde15261ee"
   },
   "outputs": [
    {
     "name": "stdout",
     "output_type": "stream",
     "text": [
      "Epoch 1/20\n",
      "2500/2500 [==============================] - 5s 2ms/step - loss: 0.0607 - accuracy: 0.9829 - val_loss: 0.0404 - val_accuracy: 0.9880\n",
      "Epoch 2/20\n",
      "2500/2500 [==============================] - 4s 2ms/step - loss: 0.0388 - accuracy: 0.9885 - val_loss: 0.0347 - val_accuracy: 0.9894\n",
      "Epoch 3/20\n",
      "2500/2500 [==============================] - 4s 2ms/step - loss: 0.0341 - accuracy: 0.9890 - val_loss: 0.0350 - val_accuracy: 0.9886\n",
      "Epoch 4/20\n",
      "2500/2500 [==============================] - 4s 2ms/step - loss: 0.0313 - accuracy: 0.9898 - val_loss: 0.0351 - val_accuracy: 0.9886\n",
      "Epoch 5/20\n",
      "2500/2500 [==============================] - 4s 2ms/step - loss: 0.0295 - accuracy: 0.9900 - val_loss: 0.0321 - val_accuracy: 0.9901\n",
      "Epoch 6/20\n",
      "2500/2500 [==============================] - 4s 2ms/step - loss: 0.0279 - accuracy: 0.9905 - val_loss: 0.0315 - val_accuracy: 0.9905\n",
      "Epoch 7/20\n",
      "2500/2500 [==============================] - 4s 2ms/step - loss: 0.0265 - accuracy: 0.9911 - val_loss: 0.0309 - val_accuracy: 0.9905\n",
      "Epoch 8/20\n",
      "2500/2500 [==============================] - 5s 2ms/step - loss: 0.0254 - accuracy: 0.9912 - val_loss: 0.0317 - val_accuracy: 0.9904\n",
      "Epoch 9/20\n",
      "2500/2500 [==============================] - 4s 2ms/step - loss: 0.0248 - accuracy: 0.9916 - val_loss: 0.0295 - val_accuracy: 0.9909\n",
      "Epoch 10/20\n",
      "2500/2500 [==============================] - 4s 2ms/step - loss: 0.0237 - accuracy: 0.9918 - val_loss: 0.0292 - val_accuracy: 0.9908\n",
      "Epoch 11/20\n",
      "2500/2500 [==============================] - 4s 2ms/step - loss: 0.0227 - accuracy: 0.9925 - val_loss: 0.0290 - val_accuracy: 0.9909\n",
      "Epoch 12/20\n",
      "2500/2500 [==============================] - 4s 2ms/step - loss: 0.0224 - accuracy: 0.9924 - val_loss: 0.0306 - val_accuracy: 0.9906\n",
      "Epoch 13/20\n",
      "2500/2500 [==============================] - 4s 2ms/step - loss: 0.0214 - accuracy: 0.9928 - val_loss: 0.0304 - val_accuracy: 0.9904\n",
      "Epoch 14/20\n",
      "2500/2500 [==============================] - 4s 2ms/step - loss: 0.0215 - accuracy: 0.9928 - val_loss: 0.0298 - val_accuracy: 0.9911\n",
      "Epoch 15/20\n",
      "2500/2500 [==============================] - 4s 2ms/step - loss: 0.0208 - accuracy: 0.9929 - val_loss: 0.0283 - val_accuracy: 0.9919\n",
      "Epoch 16/20\n",
      "2500/2500 [==============================] - 4s 2ms/step - loss: 0.0200 - accuracy: 0.9932 - val_loss: 0.0283 - val_accuracy: 0.9913\n",
      "Epoch 17/20\n",
      "2500/2500 [==============================] - 4s 2ms/step - loss: 0.0195 - accuracy: 0.9935 - val_loss: 0.0292 - val_accuracy: 0.9913\n",
      "Epoch 18/20\n",
      "2500/2500 [==============================] - 4s 2ms/step - loss: 0.0194 - accuracy: 0.9936 - val_loss: 0.0292 - val_accuracy: 0.9909\n",
      "Epoch 19/20\n",
      "2500/2500 [==============================] - 5s 2ms/step - loss: 0.0183 - accuracy: 0.9937 - val_loss: 0.0302 - val_accuracy: 0.9903\n",
      "Epoch 20/20\n",
      "2500/2500 [==============================] - 4s 2ms/step - loss: 0.0188 - accuracy: 0.9937 - val_loss: 0.0307 - val_accuracy: 0.9917\n"
     ]
    }
   ],
   "source": [
    "history = model.fit(X_train, y_train, epochs=20, \n",
    "                    validation_data=(X_test, y_test))"
   ]
  },
  {
   "cell_type": "code",
   "execution_count": 45,
   "id": "molecular-interaction",
   "metadata": {
    "colab": {
     "base_uri": "https://localhost:8080/"
    },
    "id": "illegal-boundary",
    "outputId": "b16cff2a-2e67-4cbf-a60c-66baa9b2cd6f"
   },
   "outputs": [
    {
     "name": "stdout",
     "output_type": "stream",
     "text": [
      "['loss', 'accuracy']\n",
      "Test score : 0.03\n",
      "Test accuracy : 0.99\n"
     ]
    }
   ],
   "source": [
    "score = model.evaluate(X_test, y_test, verbose=0)\n",
    "\n",
    "print(model.metrics_names)\n",
    "print(\"Test score : {:.2f}\".format(score[0]))\n",
    "print(\"Test accuracy : {:.2f}\".format(score[1]))"
   ]
  },
  {
   "cell_type": "code",
   "execution_count": 46,
   "id": "forced-visibility",
   "metadata": {
    "colab": {
     "base_uri": "https://localhost:8080/",
     "height": 312
    },
    "id": "adolescent-source",
    "outputId": "ae389ca9-f08a-49f1-c22b-fcf94d70be2d"
   },
   "outputs": [
    {
     "data": {
      "text/plain": [
       "<matplotlib.legend.Legend at 0x7fb40be33810>"
      ]
     },
     "execution_count": 46,
     "metadata": {
      "tags": []
     },
     "output_type": "execute_result"
    },
    {
     "data": {
      "image/png": "[encoded data removed]",
      "text/plain": [
       "<Figure size 864x288 with 2 Axes>"
      ]
     },
     "metadata": {
      "needs_background": "light",
      "tags": []
     },
     "output_type": "display_data"
    }
   ],
   "source": [
    "plt.figure(figsize=(12,4))\n",
    "plt.subplot(1, 2, 1)\n",
    "plt.plot(history.history['accuracy'])\n",
    "plt.plot(history.history['val_accuracy'])\n",
    "plt.title('model accuracy')\n",
    "plt.xlabel('epoch')\n",
    "plt.ylabel('accuracy')\n",
    "plt.legend(['train', 'test'])\n",
    "\n",
    "plt.subplot(1, 2, 2)\n",
    "plt.plot(history.history['loss'])\n",
    "plt.plot(history.history['val_loss'])\n",
    "plt.title('model loss')\n",
    "plt.xlabel('epoch')\n",
    "plt.ylabel('loss')\n",
    "plt.legend(['train', 'test'])"
   ]
  }
 ],
 "metadata": {
  "accelerator": "GPU",
  "colab": {
   "machine_shape": "hm",
   "name": "110_Malware Detection_binary_classification.ipynb",
   "provenance": []
  },
  "kernelspec": {
   "display_name": "Python 3",
   "language": "python",
   "name": "python3"
  },
  "language_info": {
   "codemirror_mode": {
    "name": "ipython",
    "version": 3
   },
   "file_extension": ".py",
   "mimetype": "text/x-python",
   "name": "python",
   "nbconvert_exporter": "python",
   "pygments_lexer": "ipython3",
   "version": "3.7.10"
  }
 },
 "nbformat": 4,
 "nbformat_minor": 5
}
