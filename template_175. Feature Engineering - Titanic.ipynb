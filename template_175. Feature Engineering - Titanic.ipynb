{
 "cells": [
  {
   "cell_type": "markdown",
   "metadata": {},
   "source": [
    "# Titanic 호 data 를 이용한 EDA 와 Feature Engineering 실습\n",
    "\n",
    "Pclass - Passenger Class (1 = 1st; 2 = 2nd; 3 = 3rd)  $\\rightarrow$ 객실 등급  \n",
    "survival -  Survival (0 = 사망; 1 = 생존)  $\\rightarrow$ 생존여부  \n",
    "name - Name  \n",
    "sex - Sex  \n",
    "age - Age  \n",
    "sibsp - Number of Siblings/Spouses Aboard  $\\rightarrow$ 함께 탑승한 형제 또는 배우자 수   \n",
    "parch - Number of Parents/Children Aboard  $\\rightarrow$ 함께 탑승한 부모 또는 자녀 수  \n",
    "ticket - Ticket Number  \n",
    "fare - Passenger Fare (British pound)  \n",
    "cabin - Cabin  $\\rightarrow$ 선실번호  \n",
    "embarked - Port of Embarkation (C = Cherbourg; Q = Queenstown; S = Southampton)  $\\rightarrow$ 탑승한 항구(얼마나 부유한지와 관련)"
   ]
  },
  {
   "cell_type": "markdown",
   "metadata": {},
   "source": [
    "- DataFrame의 정보 요약"
   ]
  },
  {
   "cell_type": "markdown",
   "metadata": {},
   "source": [
    "### numeric feature 의 기술 통계"
   ]
  },
  {
   "cell_type": "markdown",
   "metadata": {},
   "source": [
    "### categorical feature 의 통계\n",
    "\n",
    "**object column 만 desribe**"
   ]
  },
  {
   "cell_type": "markdown",
   "metadata": {},
   "source": [
    "### 생존자 비율 check\n",
    "\n",
    "\n",
    "- 38.4 % 가 생존 (사망 - 0, 생존 - 1)"
   ]
  },
  {
   "cell_type": "markdown",
   "metadata": {},
   "source": [
    "- explode는 부채꼴이 파이 차트의 중심에서 벗어나는 정도를 설정\n",
    "- autopct는 부채꼴 안에 표시될 숫자의 형식을 지정"
   ]
  },
  {
   "cell_type": "markdown",
   "metadata": {},
   "source": [
    "## outlier 검출\n",
    "\n",
    "- outlier 가 prediction(특히 regression) 에 영향을 큰 영향을 줄 수 있으므로, 연속 값으로 구성된 column 의 outlier 검출\n",
    "\n",
    "- outlier 의 정의는 일반적으로 `IQR(Inter-quartile range, Q3 - Q1) * 1.5` 보다 큰 경우로 한다.\n",
    "\n",
    "-  세개 이상의 outlier 값을 가진 row 를 drop 시킨다."
   ]
  },
  {
   "cell_type": "markdown",
   "metadata": {},
   "source": [
    "- 동시에 여러개의 outlier 를 threshold 갯수 가진 sample 검출"
   ]
  },
  {
   "cell_type": "markdown",
   "metadata": {},
   "source": [
    "## Feature type 별 분석\n",
    "### Categorical features (Nominal Variable, 범주형 변수)\n",
    "- Sex, Embarked\n",
    "\n",
    "### Ordinal features (순위 변수)\n",
    "- PClass\n",
    "\n",
    "### Continuous feature (연속 변수)\n",
    "- Age, Parch, Fare\n",
    "\n",
    "### Discrete feature (이산 변수)\n",
    "- SibSip"
   ]
  },
  {
   "cell_type": "markdown",
   "metadata": {},
   "source": [
    "### Sex $\\rightarrow$ Categorical features (Nominal Variable, 범주형 변수)\n",
    "\n",
    "- 성별이 생존 여부에 미치는 상관관계 분석"
   ]
  },
  {
   "cell_type": "markdown",
   "metadata": {},
   "source": [
    "- `barplot`을 이용하여 성별 생존자 수 시각화. (사망 0, 생존 1 이므로 평균 == 비율)\n",
    "- `countplot`을 이용하여 성별로 사망자/생존자 동시 시각화"
   ]
  },
  {
   "cell_type": "markdown",
   "metadata": {},
   "source": [
    "- 성별은 생존 여부 판단에 매우 중요한 feature 임"
   ]
  },
  {
   "cell_type": "markdown",
   "metadata": {},
   "source": [
    "### Pclass $\\rightarrow$ Ordinal features (순위 변수) \n",
    "\n",
    "- 객실 등급과 생존 여부의 상관 관계 분석"
   ]
  },
  {
   "cell_type": "markdown",
   "metadata": {},
   "source": [
    "- `barplot`을 이용하여 Pclass별 탑승자 수 시각화\n",
    "- `countplot`을 이용하여 Pclass별로 사망자/생존자 동시 시각화"
   ]
  },
  {
   "cell_type": "markdown",
   "metadata": {},
   "source": [
    "`pd.crosstab`을 이용하여 `[df.Sex, df.Survived]`를 index로 하는 `Pclass` 빈도 table 작성  \n",
    "- 성별, 생존여부의 Pclass 빈도 계산"
   ]
  },
  {
   "cell_type": "markdown",
   "metadata": {},
   "source": [
    "- 객실 등급과 생존율의 상관 관계가 높으므로 ordinal feature 로 유지"
   ]
  },
  {
   "cell_type": "markdown",
   "metadata": {},
   "source": [
    "### Age $\\rightarrow$ Continuous feature (연속 변수)\n",
    "\n",
    "- 나이과 생존 여부의 상관 관계 분석"
   ]
  },
  {
   "cell_type": "markdown",
   "metadata": {},
   "source": [
    "- `violinplot`을 이용하여 객실 등급 및 성별 연령 분포 시각화 "
   ]
  },
  {
   "cell_type": "markdown",
   "metadata": {},
   "source": [
    "- 객실 등급과 성별 모두 연령에 따라 생존여부 분포가 다르므로 연령은 생존 여부를 판단하기 좋은 특성으로 판단하여 연속 변수로 유지"
   ]
  },
  {
   "cell_type": "markdown",
   "metadata": {},
   "source": [
    "### Embarked $\\rightarrow$ Categoruical feature  \n",
    "\n",
    "- 출발 항구와 생존 여부의 상관 관계 분석 "
   ]
  },
  {
   "cell_type": "markdown",
   "metadata": {},
   "source": [
    "- `catplot`을 이용하여 `Embarked` category별 생존율 시각화"
   ]
  },
  {
   "cell_type": "markdown",
   "metadata": {},
   "source": [
    "- `barplot`을 이용하여 `Embarked` 별 생존자 비율 시각화 (사망 0, 생존 1 이므로 평균 == 비율)\n",
    "- `countplot`을 이용하여 성별로 사망자/생존자 동시 시각화"
   ]
  },
  {
   "cell_type": "markdown",
   "metadata": {},
   "source": [
    "- 출항 항구도 생존 여부와 상관 관계 있는 것으로 판단된다."
   ]
  },
  {
   "cell_type": "markdown",
   "metadata": {},
   "source": [
    "### SibSp $\\rightarrow$ Discrete feature (이산 변수)\n",
    "\n",
    "- SibSp 와 생존 여부의 상관 관계 분석"
   ]
  },
  {
   "cell_type": "markdown",
   "metadata": {},
   "source": [
    "- `barplot`을 이용하여 `SibSp` 별 생존자 비율 시각화 (사망 0, 생존 1 이므로 평균 == 비율)\n",
    "- `countplot`을 이용하여 성별로 사망자/생존자 동시 시각화"
   ]
  },
  {
   "cell_type": "markdown",
   "metadata": {},
   "source": [
    "- `SibSp (동승한 배우자, 형제, 자매)` 수는 생존율과 상관 관계 있는 것으로 보인다."
   ]
  },
  {
   "cell_type": "markdown",
   "metadata": {},
   "source": [
    "### Parch : Parent Child 가 함께 승선한 자녀수\n",
    "\n",
    "- Parch 와 Survival의 관계 분석"
   ]
  },
  {
   "cell_type": "markdown",
   "metadata": {},
   "source": [
    "- 자녀수 1~3 의 생존율이 0 인 경우보다 높은 것으로 보이므로 생존 예측에 도움되는 feature로 판단"
   ]
  },
  {
   "cell_type": "markdown",
   "metadata": {},
   "source": [
    "### Fare $\\rightarrow$ Continuous feature\n",
    "\n",
    "- Fare와 Pclass의 관계 분석"
   ]
  },
  {
   "cell_type": "markdown",
   "metadata": {},
   "source": [
    "- Pclass 와 Fare 간의 뚜렷한 상관 관계가 보임. Pclass 값이 작을 수록 Fare가 높다."
   ]
  },
  {
   "cell_type": "markdown",
   "metadata": {},
   "source": [
    "## Missing Value 처리"
   ]
  },
  {
   "cell_type": "markdown",
   "metadata": {},
   "source": [
    "### Age missing value 처리\n",
    "\n",
    "#### Name 안의 정보 추출"
   ]
  },
  {
   "cell_type": "markdown",
   "metadata": {},
   "source": [
    "- Mr, Miss, Mrs, Master 로 범주화 한 후 category별 평균 나이 계산하여 Age 의 null value 채움"
   ]
  },
  {
   "cell_type": "markdown",
   "metadata": {},
   "source": [
    "- `Initial`별로 평균 연령 계산"
   ]
  },
  {
   "cell_type": "markdown",
   "metadata": {},
   "source": [
    "- `Age` missing value를 `Initial`의 평균 나이로 채워줌"
   ]
  },
  {
   "cell_type": "markdown",
   "metadata": {},
   "source": [
    "- 남은 missing Age는 전체 Age의 평균으로 채움"
   ]
  },
  {
   "cell_type": "markdown",
   "metadata": {},
   "source": [
    "### Embarked null 처리\n",
    "- 'S' 에서 승선한 사람이 가장 많으므로 Embarked 의 null 을 'S' 로 채움"
   ]
  },
  {
   "cell_type": "markdown",
   "metadata": {},
   "source": [
    "## Feature Engineering\n",
    "### Age \n",
    "- Age 가 연속변수 이므로 Machine Learning model의 일반화를 위해 binning 을 통해 categorical value 로 convert\n",
    "- 소년, 청년, 중년, 장년, 노년으로 구분"
   ]
  },
  {
   "cell_type": "markdown",
   "metadata": {},
   "source": [
    "### Family_Size \n",
    "- Parch + SibSp 로 새로운 Famili_Size 변수 생성\n",
    "\n",
    "### Alone\n",
    "- Family_Size 가 0 면 Alone 변수에 1 assign"
   ]
  },
  {
   "cell_type": "markdown",
   "metadata": {},
   "source": [
    "- 새로이 생성한 `Alone` feature는 생존 여부 판단에 도움이 되는 것으로 보인다."
   ]
  },
  {
   "cell_type": "markdown",
   "metadata": {},
   "source": [
    "### Fare_Range Binning\n",
    "- Fare 역시 연속변수 이므로 pandas.qcut 함수를 이용하여 category 변수로 convert \n",
    "- 4분위 구간으로 binning"
   ]
  },
  {
   "cell_type": "markdown",
   "metadata": {},
   "source": [
    "### 불필요한 field drop\n",
    "\n",
    "- `Age -> Age_band`, `Fare/Fare_Rage -> Fare_cat` 으로 구간화 하였으므로 drop  \n",
    "- 생존 여부 판단에 불필요한 `Name`, `Ticker`, `Cabin` drop "
   ]
  },
  {
   "cell_type": "markdown",
   "metadata": {},
   "source": [
    "## Feature 들 간의 Correlation\n",
    "\n",
    "- Survived 와 각 Feature 간 상관관계 파악"
   ]
  },
  {
   "cell_type": "markdown",
   "metadata": {},
   "source": [
    "가장 상관 관계가 높은 feature 는 Fare-cut 이고 Pclass 는 가장 상관관계가 반대인 것으로 나타난다."
   ]
  },
  {
   "cell_type": "markdown",
   "metadata": {},
   "source": [
    "### One-Hot-Encoding \n",
    "\n",
    "- Category 변수의 one-hot-encoding"
   ]
  },
  {
   "cell_type": "markdown",
   "metadata": {},
   "source": [
    "## Train / Test dataset split"
   ]
  },
  {
   "cell_type": "markdown",
   "metadata": {},
   "source": [
    "## Standard Scaling"
   ]
  },
  {
   "cell_type": "markdown",
   "metadata": {},
   "source": [
    "## Modeling \n",
    "\n",
    "- 다양한 모델을 적용하고 ROC-AUC를 이용해 best model 선택"
   ]
  },
  {
   "cell_type": "markdown",
   "metadata": {},
   "source": [
    "### SVC"
   ]
  },
  {
   "cell_type": "markdown",
   "metadata": {},
   "source": [
    "### Logistic Regression"
   ]
  },
  {
   "cell_type": "markdown",
   "metadata": {},
   "source": [
    "### KNN"
   ]
  },
  {
   "cell_type": "markdown",
   "metadata": {},
   "source": [
    "- 시각화를 통해 최적의 K 값 선택"
   ]
  },
  {
   "cell_type": "markdown",
   "metadata": {},
   "source": [
    "### Random Forest"
   ]
  },
  {
   "cell_type": "markdown",
   "metadata": {},
   "source": [
    "- LogisticRegression model이 가장 우수한 것으로 나타남"
   ]
  },
  {
   "cell_type": "markdown",
   "metadata": {},
   "source": [
    "### Random Forest의 Feature Importance 시각화\n",
    "\n",
    "- RandomForest는 white-box model이므로 feature importance를 시각화할 수 있다."
   ]
  }
 ],
 "metadata": {
  "kernelspec": {
   "display_name": "Python 3",
   "language": "python",
   "name": "python3"
  },
  "language_info": {
   "codemirror_mode": {
    "name": "ipython",
    "version": 3
   },
   "file_extension": ".py",
   "mimetype": "text/x-python",
   "name": "python",
   "nbconvert_exporter": "python",
   "pygments_lexer": "ipython3",
   "version": "3.7.3"
  }
 },
 "nbformat": 4,
 "nbformat_minor": 2
}
