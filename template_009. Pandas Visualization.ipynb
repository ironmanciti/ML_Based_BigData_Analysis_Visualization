{
 "cells": [
  {
   "cell_type": "markdown",
   "metadata": {},
   "source": [
    "# 009. Pandas 를 이용한 시각화"
   ]
  },
  {
   "cell_type": "markdown",
   "metadata": {},
   "source": [
    "## DataFrame.plot"
   ]
  },
  {
   "cell_type": "markdown",
   "metadata": {},
   "source": [
    "- 2 차원 평면상의 3 차원 정보 plot"
   ]
  },
  {
   "cell_type": "markdown",
   "metadata": {},
   "source": [
    "가우스 커널을 사용하여 커널 밀도 추정 플롯 생성"
   ]
  },
  {
   "cell_type": "markdown",
   "metadata": {},
   "source": [
    "## The Dataset: Immigration to Canada from 1980 to 2013 <a id=\"2\"></a>\n",
    "\n",
    "Dataset Source: [International migration flows to and from selected countries - The 2015 revision](http://www.un.org/en/development/desa/population/migration/data/empirical2/migrationflows.shtml).\n",
    "\n",
    "이 데이터 세트에는 목적지 국가에서 기록한 국제 이민자의 흐름에 대한 연간 데이터가 포함되어 있습니다. 자료는 출생지, 시민권 또는 외국인과 국민 모두를위한 이전 / 다음 거주지에 따라 유입과 유출을 모두 나타냅니다. 현재 버전은 45 개국에 관한 데이터를 제공합니다.\n",
    "\n",
    "이 실습에서는 캐나다 이민 데이터에 중점을 둘 것입니다."
   ]
  },
  {
   "cell_type": "markdown",
   "metadata": {},
   "source": [
    "## Series or DataFrame 의 plotting\n",
    "\n",
    "- X 축 : index value   \n",
    "\n",
    "- Y 축 : 해당 index 의 value\n",
    "\n",
    "- plot 의 kind\n",
    "\n",
    "    * `line` (default)\n",
    "    * `bar` : vertical bar plots\n",
    "    * `barh` :  horizontal bar plots\n",
    "    * `hist` : histogram\n",
    "    * `box` : boxplot\n",
    "    * `kde` or `density` : density plots\n",
    "    * `area` : area plots\n",
    "    * `pie` : pie plots\n",
    "    * `scatter` : scatter plots\n",
    "    * `hexbin` : hexbin plot"
   ]
  },
  {
   "cell_type": "markdown",
   "metadata": {},
   "source": [
    "### Line Pots (Series/Dataframe) "
   ]
  },
  {
   "cell_type": "markdown",
   "metadata": {},
   "source": [
    "- Haiti 의 연도별 이민자 수 시각화"
   ]
  },
  {
   "cell_type": "markdown",
   "metadata": {},
   "source": [
    "### 다른 나라들 간의 이민자 수 비교를 위해 그래프에 더 많은 국가 추가 \n",
    "\n",
    "- 1980 년부터 2013 년까지 인도와 중국 이민자 수를 비교\n",
    "\n",
    "Step 1: China 와 India 를 dataframe 에서 따로 추출하여 plot 한다"
   ]
  },
  {
   "cell_type": "markdown",
   "metadata": {},
   "source": [
    "* *pandas*는 x 축의 인덱스와 y 축의 개별 라인으로의 열을 그려준다. `df_ci`는`country`를 인덱스로,`years`를 컬럼으로하는 데이터 프레임이기 때문에 행과 열을 바꾸기 위해 먼저`transpose ()`메소드를 사용하여 데이터 프레임을 변경한다."
   ]
  },
  {
   "cell_type": "markdown",
   "metadata": {},
   "source": [
    "### 캐나다 이민에 가장 많은 기여를 한 상위 5 개국의 추세를 비교"
   ]
  },
  {
   "cell_type": "markdown",
   "metadata": {},
   "source": [
    "- 상위 5 개의 인덱스 값을 정수형으로 변경하여 플로팅"
   ]
  },
  {
   "cell_type": "markdown",
   "metadata": {},
   "source": [
    "## Histogram\n",
    "\n",
    "- 발생 빈도 비교"
   ]
  },
  {
   "cell_type": "markdown",
   "metadata": {},
   "source": [
    "## Bar Chart"
   ]
  },
  {
   "cell_type": "markdown",
   "metadata": {},
   "source": [
    "## Bar Chart + 주석 달기\n",
    "\n",
    "- 그룹화된 범주형 변수의 크기를 표시\n",
    "\n",
    "- kind='bar' : 세로막대  \n",
    "- kind='barh' : 가로막대"
   ]
  },
  {
   "cell_type": "markdown",
   "metadata": {},
   "source": [
    "### 가로막대 plot\n",
    "\n",
    "- 가로로 표시할 경우 길이 제한을 받지 않아 더 실용적일 수 있음"
   ]
  },
  {
   "cell_type": "markdown",
   "metadata": {},
   "source": [
    "## Waffle Chart \n",
    "\n",
    "- [PyWaffle](https://github.com/ligyxy/PyWaffle) 를 이용한 waffle chart plot  \n",
    "\n",
    "\n",
    "- matplotlib.pyplot.figure 의 FigureClass parameter 로 지정   \n",
    "\n",
    "\n",
    "- pip install pywaffle  로 설치\n",
    "\n",
    "\n",
    "- 사용예\n",
    "```\n",
    "fig = plt.figure(\n",
    "    FigureClass=Waffle, \n",
    "    rows=5, \n",
    "    columns=10, \n",
    "    values=[48, 46, 3]\n",
    ")\n",
    "```"
   ]
  },
  {
   "cell_type": "markdown",
   "metadata": {},
   "source": [
    "**1 단계 :** 각 국가별 구성 비율 계산"
   ]
  },
  {
   "cell_type": "markdown",
   "metadata": {},
   "source": [
    "**2 단계 :**  `waffle` chart 의 size (tile 갯수) 결정"
   ]
  },
  {
   "cell_type": "markdown",
   "metadata": {},
   "source": [
    "**3단계:** 국가별 tile 수 결정"
   ]
  }
 ],
 "metadata": {
  "kernelspec": {
   "display_name": "Python 3",
   "language": "python",
   "name": "python3"
  },
  "language_info": {
   "codemirror_mode": {
    "name": "ipython",
    "version": 3
   },
   "file_extension": ".py",
   "mimetype": "text/x-python",
   "name": "python",
   "nbconvert_exporter": "python",
   "pygments_lexer": "ipython3",
   "version": "3.7.10"
  }
 },
 "nbformat": 4,
 "nbformat_minor": 2
}
