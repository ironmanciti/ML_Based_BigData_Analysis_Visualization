{
 "cells": [
  {
   "cell_type": "markdown",
   "metadata": {
    "slideshow": {
     "slide_type": "slide"
    }
   },
   "source": [
    "# 005. Advanced Pandas"
   ]
  },
  {
   "cell_type": "markdown",
   "metadata": {},
   "source": [
    "### DataFrame 을 csv file 로 write"
   ]
  },
  {
   "cell_type": "markdown",
   "metadata": {},
   "source": [
    "### df.apply + lambda \n",
    "- 특정 column 에 함수의 반환값 저장"
   ]
  },
  {
   "cell_type": "markdown",
   "metadata": {},
   "source": [
    "### lambda 보다 더 복잡한 함수 적용"
   ]
  },
  {
   "cell_type": "markdown",
   "metadata": {},
   "source": [
    "## Indexing of DataFrame"
   ]
  },
  {
   "cell_type": "markdown",
   "metadata": {},
   "source": [
    "### column 명 변경\n",
    "- column 명을 friendly 하게 변경"
   ]
  },
  {
   "cell_type": "markdown",
   "metadata": {},
   "source": [
    "### Boolean indexing\n",
    "\n",
    "- Boolean mask condition 으로 DataFrame을 검색하여 조건에 맞는 row 검색\n",
    "\n",
    "- where : no value 포함하여 return  \n",
    "\n",
    "- boolean indexing : no value 제외 return"
   ]
  },
  {
   "cell_type": "markdown",
   "metadata": {},
   "source": [
    "- where 를 이용하여 모든 row return"
   ]
  },
  {
   "cell_type": "markdown",
   "metadata": {},
   "source": [
    "- boolean indexing을 이용하여 조건에 맞는 row만 return"
   ]
  },
  {
   "cell_type": "markdown",
   "metadata": {},
   "source": [
    "### 복사본 만들기 - 얕은 복사(shallow copy) / 깊은 복사(deep copy)\n",
    "\n",
    "- 얕은 복사 : 원본과 index/data 공유  \n",
    "- 깊은 복사 : 별도의 index/data 생성"
   ]
  },
  {
   "cell_type": "markdown",
   "metadata": {},
   "source": [
    "## 다중인덱싱 (Multi Index)\n",
    "\n",
    "- index 가 여러개일 경우 다중 인덱싱이 가능하다."
   ]
  },
  {
   "cell_type": "markdown",
   "metadata": {},
   "source": [
    "## multi index practice\n",
    "\n",
    "- country / state / county level 의 summary 를 구하기 위해 사용  \n",
    "- STNAME : state 명 \n",
    "- CTYNAME : county 명  \n",
    "- SUMLEV 50 은 county level의 합계, 40 은 state level 의 합계"
   ]
  },
  {
   "cell_type": "markdown",
   "metadata": {},
   "source": [
    "- 필요한 column 외에는 삭제"
   ]
  },
  {
   "cell_type": "markdown",
   "metadata": {},
   "source": [
    "- (state 명, county 명)으로 multi index 생성"
   ]
  },
  {
   "cell_type": "markdown",
   "metadata": {},
   "source": [
    "- 특정 state, county 만 query"
   ]
  },
  {
   "cell_type": "markdown",
   "metadata": {},
   "source": [
    "### apply \n",
    "- county 별로 전체 column의 최대, 최소값 계산"
   ]
  },
  {
   "cell_type": "markdown",
   "metadata": {},
   "source": [
    "- 최대/최소값을 series 로 반환하는 경우 "
   ]
  },
  {
   "cell_type": "markdown",
   "metadata": {},
   "source": [
    "- new column을 반환하는 경우 "
   ]
  },
  {
   "cell_type": "markdown",
   "metadata": {},
   "source": [
    "## Column Value Update"
   ]
  },
  {
   "cell_type": "markdown",
   "metadata": {},
   "source": [
    "- 새로운 column 추가"
   ]
  },
  {
   "cell_type": "markdown",
   "metadata": {},
   "source": [
    "- broadcasting"
   ]
  },
  {
   "cell_type": "markdown",
   "metadata": {},
   "source": [
    "- reset index"
   ]
  },
  {
   "cell_type": "markdown",
   "metadata": {},
   "source": [
    "- 특정 column 의 값을 Series를 이용하여 update"
   ]
  },
  {
   "cell_type": "markdown",
   "metadata": {},
   "source": [
    "## method chaining\n",
    "\n",
    "- readability를 향상 시키는 코딩 관습"
   ]
  },
  {
   "cell_type": "markdown",
   "metadata": {},
   "source": [
    "- without method chaining"
   ]
  },
  {
   "cell_type": "markdown",
   "metadata": {},
   "source": [
    "- with method chaining \n",
    "\n",
    "- python은 `()`를 이용하면 여러 line 에 걸쳐 coding 가능"
   ]
  },
  {
   "cell_type": "markdown",
   "metadata": {},
   "source": [
    "### groupby 를 사용하지 않고 wine quaility 별 평균 fixed acidity 구하기"
   ]
  },
  {
   "cell_type": "markdown",
   "metadata": {},
   "source": [
    "###  group by 를 사용하여 wine quaility 별 평균 fixed acidity 구하기\n",
    "- without aggregate function"
   ]
  },
  {
   "cell_type": "markdown",
   "metadata": {},
   "source": [
    "### groupby + aggregate method 사용\n",
    "- agg : alias of aggretate"
   ]
  },
  {
   "cell_type": "markdown",
   "metadata": {},
   "source": [
    "# Date data 처리 기능\n",
    "\n",
    "### Timestamp\n",
    "\n",
    "- Python 의 datetime 과 대부분의 경우 호환  \n",
    "\n",
    "- DatetimeIndex 로 사용"
   ]
  },
  {
   "cell_type": "markdown",
   "metadata": {},
   "source": [
    "### DatetimeIndex"
   ]
  },
  {
   "cell_type": "markdown",
   "metadata": {},
   "source": [
    "### Datetime format 으로 convert\n",
    "\n",
    "- 다양한 현태의 날자 표현을 모두 `pd.to_datetime` method를 이용하여 DatetimeIndex로 변환"
   ]
  },
  {
   "cell_type": "markdown",
   "metadata": {},
   "source": [
    "### Timedelta\n",
    "\n",
    "- difference of time"
   ]
  }
 ],
 "metadata": {
  "kernelspec": {
   "display_name": "Python 3",
   "language": "python",
   "name": "python3"
  },
  "language_info": {
   "codemirror_mode": {
    "name": "ipython",
    "version": 3
   },
   "file_extension": ".py",
   "mimetype": "text/x-python",
   "name": "python",
   "nbconvert_exporter": "python",
   "pygments_lexer": "ipython3",
   "version": "3.7.10"
  }
 },
 "nbformat": 4,
 "nbformat_minor": 2
}
