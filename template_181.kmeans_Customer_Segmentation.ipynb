{
 "cells": [
  {
   "cell_type": "markdown",
   "metadata": {},
   "source": [
    "## 181. 실습 : KMeans Clustering을 이용한 Customer Segmentation"
   ]
  },
  {
   "cell_type": "markdown",
   "metadata": {},
   "source": [
    "고객 세분화(Customer segmentation)는 고객 기반을 유사한 특성을 가진 개인의 그룹으로 분할하는 관행입니다. 예를 들어 한 그룹에는 높은 수익을 올리고 위험이 적은, 즉 제품을 구매하거나 서비스에 가입할 가능성이 큰 고객이 있을 수 있습니다. 또 다른 그룹에는 수익이 나지 않는 고객 등이 포함될 수 있습니다.\n",
    "\n",
    "### Downloading Data\n",
    "\n",
    "'customer_segmentation.csv' https://ibm.box.com/shared/static/rdf2wtk4ozh21p2j2xpenrg4bb0lkgjr.csv"
   ]
  },
  {
   "cell_type": "markdown",
   "metadata": {},
   "source": [
    "### Pre-processing\n",
    "\n",
    "**Address**는 범주형 변수(categorical variable) 입니다. 이산 변수(discrete variable)는 유클리드 거리 계산을 할 수 없으므로 이 feature 를 삭제하고 클러스터링을 실행합니다."
   ]
  },
  {
   "cell_type": "markdown",
   "metadata": {},
   "source": [
    "**StandardScaler()** 를 사용하여 dataset 을 정규화 합니다."
   ]
  },
  {
   "cell_type": "markdown",
   "metadata": {},
   "source": [
    "### Insights\n",
    "\n",
    "dataset 의 각 행은 고객을 나타내므로 각 행에는 레이블이 assign 됩니다."
   ]
  },
  {
   "cell_type": "markdown",
   "metadata": {},
   "source": [
    "각 군집의 특징을 평균화하여 중심 값을 쉽게 확인할 수 있습니다."
   ]
  },
  {
   "cell_type": "markdown",
   "metadata": {},
   "source": [
    "### 연령과 소득에 따른 고객 분포를 살펴 봅니다."
   ]
  },
  {
   "cell_type": "markdown",
   "metadata": {},
   "source": [
    "### 교육, 연령,  소득에 따른 고객 분포를 3차원 시각화로 살펴 봅니다."
   ]
  },
  {
   "cell_type": "markdown",
   "metadata": {},
   "source": [
    "k-means는 고객을 상호 배타적인 그룹 (예 : 3 개의 클러스터)으로 분할합니다. 각 클러스터의 고객은 인구 통계학적으로 유사합니다.\n",
    "이제 각 클러스터의 공통적인 특성을 고려하여 각 그룹에 대한 프로필을 만들 수 있습니다.\n",
    "\n",
    "-소득이 높고 교육받은 고령자  \n",
    "-중년 및 중년 소득  \n",
    "-젊고 낮은 소득"
   ]
  }
 ],
 "metadata": {
  "kernelspec": {
   "display_name": "Python 3",
   "language": "python",
   "name": "python3"
  },
  "language_info": {
   "codemirror_mode": {
    "name": "ipython",
    "version": 3
   },
   "file_extension": ".py",
   "mimetype": "text/x-python",
   "name": "python",
   "nbconvert_exporter": "python",
   "pygments_lexer": "ipython3",
   "version": "3.7.3"
  }
 },
 "nbformat": 4,
 "nbformat_minor": 2
}
