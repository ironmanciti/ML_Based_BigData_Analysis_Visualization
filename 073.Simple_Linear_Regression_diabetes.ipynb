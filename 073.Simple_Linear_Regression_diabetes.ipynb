{
 "cells": [
  {
   "cell_type": "markdown",
   "metadata": {
    "slideshow": {
     "slide_type": "slide"
    }
   },
   "source": [
    "# Simple Linear Regression\n",
    "\n",
    "## Univariate Linear Regression (단변수 선형회귀)"
   ]
  },
  {
   "cell_type": "code",
   "execution_count": 1,
   "metadata": {
    "slideshow": {
     "slide_type": "subslide"
    }
   },
   "outputs": [],
   "source": [
    "import matplotlib.pyplot as plt\n",
    "import numpy as np\n",
    "from sklearn import datasets, linear_model\n",
    "from sklearn.metrics import mean_squared_error, r2_score\n",
    "import pandas as pd"
   ]
  },
  {
   "cell_type": "code",
   "execution_count": 2,
   "metadata": {
    "slideshow": {
     "slide_type": "subslide"
    }
   },
   "outputs": [
    {
     "data": {
      "text/plain": [
       "['age', 'sex', 'bmi', 'bp', 's1', 's2', 's3', 's4', 's5', 's6']"
      ]
     },
     "execution_count": 2,
     "metadata": {},
     "output_type": "execute_result"
    }
   ],
   "source": [
    "# Load the diabetes dataset\n",
    "# 나이, 성별, 체질량지수, 혈압, 6가지 혈청 수치  --> already scaled\n",
    "diabetes = datasets.load_diabetes()\n",
    "diabetes.feature_names"
   ]
  },
  {
   "cell_type": "code",
   "execution_count": 3,
   "metadata": {
    "slideshow": {
     "slide_type": "subslide"
    }
   },
   "outputs": [
    {
     "data": {
      "text/plain": [
       "(442, 10)"
      ]
     },
     "execution_count": 3,
     "metadata": {},
     "output_type": "execute_result"
    }
   ],
   "source": [
    "diabetes.data.shape"
   ]
  },
  {
   "cell_type": "code",
   "execution_count": 4,
   "metadata": {
    "slideshow": {
     "slide_type": "subslide"
    }
   },
   "outputs": [
    {
     "data": {
      "text/plain": [
       "array([[ 0.03807591,  0.05068012,  0.06169621,  0.02187235, -0.0442235 ,\n",
       "        -0.03482076, -0.04340085, -0.00259226,  0.01990842, -0.01764613],\n",
       "       [-0.00188202, -0.04464164, -0.05147406, -0.02632783, -0.00844872,\n",
       "        -0.01916334,  0.07441156, -0.03949338, -0.06832974, -0.09220405],\n",
       "       [ 0.08529891,  0.05068012,  0.04445121, -0.00567061, -0.04559945,\n",
       "        -0.03419447, -0.03235593, -0.00259226,  0.00286377, -0.02593034],\n",
       "       [-0.08906294, -0.04464164, -0.01159501, -0.03665645,  0.01219057,\n",
       "         0.02499059, -0.03603757,  0.03430886,  0.02269202, -0.00936191],\n",
       "       [ 0.00538306, -0.04464164, -0.03638469,  0.02187235,  0.00393485,\n",
       "         0.01559614,  0.00814208, -0.00259226, -0.03199144, -0.04664087]])"
      ]
     },
     "execution_count": 4,
     "metadata": {},
     "output_type": "execute_result"
    }
   ],
   "source": [
    "diabetes.data[:5]"
   ]
  },
  {
   "cell_type": "code",
   "execution_count": 5,
   "metadata": {
    "slideshow": {
     "slide_type": "subslide"
    }
   },
   "outputs": [
    {
     "data": {
      "text/plain": [
       "array([151.,  75., 141., 206., 135.])"
      ]
     },
     "execution_count": 5,
     "metadata": {},
     "output_type": "execute_result"
    }
   ],
   "source": [
    "#1년 뒤 측정한 당뇨병의 진행률 - target(label)\n",
    "diabetes.target[:5]"
   ]
  },
  {
   "cell_type": "code",
   "execution_count": 6,
   "metadata": {
    "slideshow": {
     "slide_type": "subslide"
    }
   },
   "outputs": [],
   "source": [
    "df_diab  = pd.DataFrame(data=diabetes.data, \n",
    "                        columns=diabetes.feature_names)"
   ]
  },
  {
   "cell_type": "code",
   "execution_count": 7,
   "metadata": {
    "slideshow": {
     "slide_type": "subslide"
    }
   },
   "outputs": [
    {
     "data": {
      "text/html": [
       "<div>\n",
       "<style scoped>\n",
       "    .dataframe tbody tr th:only-of-type {\n",
       "        vertical-align: middle;\n",
       "    }\n",
       "\n",
       "    .dataframe tbody tr th {\n",
       "        vertical-align: top;\n",
       "    }\n",
       "\n",
       "    .dataframe thead th {\n",
       "        text-align: right;\n",
       "    }\n",
       "</style>\n",
       "<table border=\"1\" class=\"dataframe\">\n",
       "  <thead>\n",
       "    <tr style=\"text-align: right;\">\n",
       "      <th></th>\n",
       "      <th>age</th>\n",
       "      <th>sex</th>\n",
       "      <th>bmi</th>\n",
       "      <th>bp</th>\n",
       "      <th>s1</th>\n",
       "      <th>s2</th>\n",
       "      <th>s3</th>\n",
       "      <th>s4</th>\n",
       "      <th>s5</th>\n",
       "      <th>s6</th>\n",
       "    </tr>\n",
       "  </thead>\n",
       "  <tbody>\n",
       "    <tr>\n",
       "      <th>0</th>\n",
       "      <td>0.038076</td>\n",
       "      <td>0.050680</td>\n",
       "      <td>0.061696</td>\n",
       "      <td>0.021872</td>\n",
       "      <td>-0.044223</td>\n",
       "      <td>-0.034821</td>\n",
       "      <td>-0.043401</td>\n",
       "      <td>-0.002592</td>\n",
       "      <td>0.019908</td>\n",
       "      <td>-0.017646</td>\n",
       "    </tr>\n",
       "    <tr>\n",
       "      <th>1</th>\n",
       "      <td>-0.001882</td>\n",
       "      <td>-0.044642</td>\n",
       "      <td>-0.051474</td>\n",
       "      <td>-0.026328</td>\n",
       "      <td>-0.008449</td>\n",
       "      <td>-0.019163</td>\n",
       "      <td>0.074412</td>\n",
       "      <td>-0.039493</td>\n",
       "      <td>-0.068330</td>\n",
       "      <td>-0.092204</td>\n",
       "    </tr>\n",
       "    <tr>\n",
       "      <th>2</th>\n",
       "      <td>0.085299</td>\n",
       "      <td>0.050680</td>\n",
       "      <td>0.044451</td>\n",
       "      <td>-0.005671</td>\n",
       "      <td>-0.045599</td>\n",
       "      <td>-0.034194</td>\n",
       "      <td>-0.032356</td>\n",
       "      <td>-0.002592</td>\n",
       "      <td>0.002864</td>\n",
       "      <td>-0.025930</td>\n",
       "    </tr>\n",
       "    <tr>\n",
       "      <th>3</th>\n",
       "      <td>-0.089063</td>\n",
       "      <td>-0.044642</td>\n",
       "      <td>-0.011595</td>\n",
       "      <td>-0.036656</td>\n",
       "      <td>0.012191</td>\n",
       "      <td>0.024991</td>\n",
       "      <td>-0.036038</td>\n",
       "      <td>0.034309</td>\n",
       "      <td>0.022692</td>\n",
       "      <td>-0.009362</td>\n",
       "    </tr>\n",
       "    <tr>\n",
       "      <th>4</th>\n",
       "      <td>0.005383</td>\n",
       "      <td>-0.044642</td>\n",
       "      <td>-0.036385</td>\n",
       "      <td>0.021872</td>\n",
       "      <td>0.003935</td>\n",
       "      <td>0.015596</td>\n",
       "      <td>0.008142</td>\n",
       "      <td>-0.002592</td>\n",
       "      <td>-0.031991</td>\n",
       "      <td>-0.046641</td>\n",
       "    </tr>\n",
       "  </tbody>\n",
       "</table>\n",
       "</div>"
      ],
      "text/plain": [
       "        age       sex       bmi        bp        s1        s2        s3  \\\n",
       "0  0.038076  0.050680  0.061696  0.021872 -0.044223 -0.034821 -0.043401   \n",
       "1 -0.001882 -0.044642 -0.051474 -0.026328 -0.008449 -0.019163  0.074412   \n",
       "2  0.085299  0.050680  0.044451 -0.005671 -0.045599 -0.034194 -0.032356   \n",
       "3 -0.089063 -0.044642 -0.011595 -0.036656  0.012191  0.024991 -0.036038   \n",
       "4  0.005383 -0.044642 -0.036385  0.021872  0.003935  0.015596  0.008142   \n",
       "\n",
       "         s4        s5        s6  \n",
       "0 -0.002592  0.019908 -0.017646  \n",
       "1 -0.039493 -0.068330 -0.092204  \n",
       "2 -0.002592  0.002864 -0.025930  \n",
       "3  0.034309  0.022692 -0.009362  \n",
       "4 -0.002592 -0.031991 -0.046641  "
      ]
     },
     "execution_count": 7,
     "metadata": {},
     "output_type": "execute_result"
    }
   ],
   "source": [
    "df_diab.head()"
   ]
  },
  {
   "cell_type": "markdown",
   "metadata": {},
   "source": [
    "## univariate linear regression data 생성"
   ]
  },
  {
   "cell_type": "code",
   "execution_count": 8,
   "metadata": {
    "slideshow": {
     "slide_type": "subslide"
    }
   },
   "outputs": [],
   "source": [
    "# Use only one feature (단변수 선형회귀)\n",
    "X = df_diab['bmi'].values.reshape(-1, 1)"
   ]
  },
  {
   "cell_type": "code",
   "execution_count": 9,
   "metadata": {
    "slideshow": {
     "slide_type": "subslide"
    }
   },
   "outputs": [],
   "source": [
    "# training/testing data set 분할\n",
    "X_train = X[:-20]\n",
    "X_test  = X[-20:]"
   ]
  },
  {
   "cell_type": "code",
   "execution_count": 10,
   "metadata": {
    "slideshow": {
     "slide_type": "subslide"
    }
   },
   "outputs": [],
   "source": [
    "# targets data 를 training/testing set 으로 분리\n",
    "\n",
    "y_train = diabetes.target[:-20]\n",
    "y_test = diabetes.target[-20:]"
   ]
  },
  {
   "cell_type": "markdown",
   "metadata": {},
   "source": [
    "## sklearn model 이용"
   ]
  },
  {
   "cell_type": "code",
   "execution_count": 11,
   "metadata": {
    "slideshow": {
     "slide_type": "subslide"
    }
   },
   "outputs": [],
   "source": [
    "# regression object 생성\n",
    "regr = linear_model.LinearRegression()"
   ]
  },
  {
   "cell_type": "code",
   "execution_count": 12,
   "metadata": {
    "slideshow": {
     "slide_type": "subslide"
    }
   },
   "outputs": [
    {
     "data": {
      "text/plain": [
       "LinearRegression()"
      ]
     },
     "execution_count": 12,
     "metadata": {},
     "output_type": "execute_result"
    }
   ],
   "source": [
    "# training set 을 이용하여 model 훈련\n",
    "\n",
    "regr.fit(X_train, y_train)"
   ]
  },
  {
   "cell_type": "code",
   "execution_count": 13,
   "metadata": {
    "slideshow": {
     "slide_type": "subslide"
    }
   },
   "outputs": [
    {
     "name": "stdout",
     "output_type": "stream",
     "text": [
      "Coefficients: \n",
      " [938.23786125]\n",
      "Intercept: \n",
      " 152.91886182616167\n"
     ]
    }
   ],
   "source": [
    "# The coefficients\n",
    "print('Coefficients: \\n', regr.coef_)\n",
    "print('Intercept: \\n', regr.intercept_)"
   ]
  },
  {
   "cell_type": "markdown",
   "metadata": {},
   "source": [
    "- 훈련된 model 을 이용하여 new data 예측"
   ]
  },
  {
   "cell_type": "code",
   "execution_count": 14,
   "metadata": {},
   "outputs": [
    {
     "name": "stdout",
     "output_type": "stream",
     "text": [
      "[106.00696876]\n",
      "[176.37480836]\n"
     ]
    }
   ],
   "source": [
    "print(regr.predict(np.array([[-0.050]])))\n",
    "print(regr.predict(np.array([[0.025]])))"
   ]
  },
  {
   "cell_type": "code",
   "execution_count": 15,
   "metadata": {},
   "outputs": [],
   "source": [
    "y_pred = regr.predict(X_test)"
   ]
  },
  {
   "cell_type": "code",
   "execution_count": 16,
   "metadata": {
    "scrolled": true,
    "slideshow": {
     "slide_type": "subslide"
    }
   },
   "outputs": [
    {
     "data": {
      "image/png": "[encoded data removed]",
      "text/plain": [
       "<Figure size 432x288 with 1 Axes>"
      ]
     },
     "metadata": {
      "needs_background": "light"
     },
     "output_type": "display_data"
    }
   ],
   "source": [
    "# visualization\n",
    "\n",
    "plt.scatter(X_test, y_test,  color='black')\n",
    "plt.plot(X_test, y_pred, color='blue', linewidth=3)\n",
    "\n",
    "plt.xlabel('bmi') \n",
    "plt.ylabel('progress')\n",
    "plt.show()"
   ]
  },
  {
   "cell_type": "markdown",
   "metadata": {},
   "source": [
    "## R2 계산"
   ]
  },
  {
   "cell_type": "code",
   "execution_count": 17,
   "metadata": {},
   "outputs": [
    {
     "name": "stdout",
     "output_type": "stream",
     "text": [
      "결정계수 : 0.47\n"
     ]
    }
   ],
   "source": [
    "print(\"결정계수 : {:.2f}\".format(r2_score(y_test, y_pred)))"
   ]
  },
  {
   "cell_type": "markdown",
   "metadata": {
    "slideshow": {
     "slide_type": "slide"
    }
   },
   "source": [
    "## Multivariate Linear Regression (다변수 선형회귀)\n",
    "\n",
    "bmi, bp 두가지 변수를 이용한 Linear Regression"
   ]
  },
  {
   "cell_type": "code",
   "execution_count": 18,
   "metadata": {
    "slideshow": {
     "slide_type": "subslide"
    }
   },
   "outputs": [
    {
     "data": {
      "text/html": [
       "<div>\n",
       "<style scoped>\n",
       "    .dataframe tbody tr th:only-of-type {\n",
       "        vertical-align: middle;\n",
       "    }\n",
       "\n",
       "    .dataframe tbody tr th {\n",
       "        vertical-align: top;\n",
       "    }\n",
       "\n",
       "    .dataframe thead th {\n",
       "        text-align: right;\n",
       "    }\n",
       "</style>\n",
       "<table border=\"1\" class=\"dataframe\">\n",
       "  <thead>\n",
       "    <tr style=\"text-align: right;\">\n",
       "      <th></th>\n",
       "      <th>age</th>\n",
       "      <th>sex</th>\n",
       "      <th>bmi</th>\n",
       "      <th>bp</th>\n",
       "      <th>s1</th>\n",
       "      <th>s2</th>\n",
       "      <th>s3</th>\n",
       "      <th>s4</th>\n",
       "      <th>s5</th>\n",
       "      <th>s6</th>\n",
       "    </tr>\n",
       "  </thead>\n",
       "  <tbody>\n",
       "    <tr>\n",
       "      <th>0</th>\n",
       "      <td>0.038076</td>\n",
       "      <td>0.050680</td>\n",
       "      <td>0.061696</td>\n",
       "      <td>0.021872</td>\n",
       "      <td>-0.044223</td>\n",
       "      <td>-0.034821</td>\n",
       "      <td>-0.043401</td>\n",
       "      <td>-0.002592</td>\n",
       "      <td>0.019908</td>\n",
       "      <td>-0.017646</td>\n",
       "    </tr>\n",
       "    <tr>\n",
       "      <th>1</th>\n",
       "      <td>-0.001882</td>\n",
       "      <td>-0.044642</td>\n",
       "      <td>-0.051474</td>\n",
       "      <td>-0.026328</td>\n",
       "      <td>-0.008449</td>\n",
       "      <td>-0.019163</td>\n",
       "      <td>0.074412</td>\n",
       "      <td>-0.039493</td>\n",
       "      <td>-0.068330</td>\n",
       "      <td>-0.092204</td>\n",
       "    </tr>\n",
       "    <tr>\n",
       "      <th>2</th>\n",
       "      <td>0.085299</td>\n",
       "      <td>0.050680</td>\n",
       "      <td>0.044451</td>\n",
       "      <td>-0.005671</td>\n",
       "      <td>-0.045599</td>\n",
       "      <td>-0.034194</td>\n",
       "      <td>-0.032356</td>\n",
       "      <td>-0.002592</td>\n",
       "      <td>0.002864</td>\n",
       "      <td>-0.025930</td>\n",
       "    </tr>\n",
       "    <tr>\n",
       "      <th>3</th>\n",
       "      <td>-0.089063</td>\n",
       "      <td>-0.044642</td>\n",
       "      <td>-0.011595</td>\n",
       "      <td>-0.036656</td>\n",
       "      <td>0.012191</td>\n",
       "      <td>0.024991</td>\n",
       "      <td>-0.036038</td>\n",
       "      <td>0.034309</td>\n",
       "      <td>0.022692</td>\n",
       "      <td>-0.009362</td>\n",
       "    </tr>\n",
       "    <tr>\n",
       "      <th>4</th>\n",
       "      <td>0.005383</td>\n",
       "      <td>-0.044642</td>\n",
       "      <td>-0.036385</td>\n",
       "      <td>0.021872</td>\n",
       "      <td>0.003935</td>\n",
       "      <td>0.015596</td>\n",
       "      <td>0.008142</td>\n",
       "      <td>-0.002592</td>\n",
       "      <td>-0.031991</td>\n",
       "      <td>-0.046641</td>\n",
       "    </tr>\n",
       "  </tbody>\n",
       "</table>\n",
       "</div>"
      ],
      "text/plain": [
       "        age       sex       bmi        bp        s1        s2        s3  \\\n",
       "0  0.038076  0.050680  0.061696  0.021872 -0.044223 -0.034821 -0.043401   \n",
       "1 -0.001882 -0.044642 -0.051474 -0.026328 -0.008449 -0.019163  0.074412   \n",
       "2  0.085299  0.050680  0.044451 -0.005671 -0.045599 -0.034194 -0.032356   \n",
       "3 -0.089063 -0.044642 -0.011595 -0.036656  0.012191  0.024991 -0.036038   \n",
       "4  0.005383 -0.044642 -0.036385  0.021872  0.003935  0.015596  0.008142   \n",
       "\n",
       "         s4        s5        s6  \n",
       "0 -0.002592  0.019908 -0.017646  \n",
       "1 -0.039493 -0.068330 -0.092204  \n",
       "2 -0.002592  0.002864 -0.025930  \n",
       "3  0.034309  0.022692 -0.009362  \n",
       "4 -0.002592 -0.031991 -0.046641  "
      ]
     },
     "execution_count": 18,
     "metadata": {},
     "output_type": "execute_result"
    }
   ],
   "source": [
    "df_diab.head()"
   ]
  },
  {
   "cell_type": "code",
   "execution_count": 19,
   "metadata": {
    "slideshow": {
     "slide_type": "subslide"
    }
   },
   "outputs": [],
   "source": [
    "# 2 개의 feature 를 사용\n",
    "X = df_diab[['bmi', 'bp']].values"
   ]
  },
  {
   "cell_type": "code",
   "execution_count": 20,
   "metadata": {
    "slideshow": {
     "slide_type": "subslide"
    }
   },
   "outputs": [
    {
     "data": {
      "text/plain": [
       "(442, 2)"
      ]
     },
     "execution_count": 20,
     "metadata": {},
     "output_type": "execute_result"
    }
   ],
   "source": [
    "X.shape"
   ]
  },
  {
   "cell_type": "code",
   "execution_count": 21,
   "metadata": {
    "slideshow": {
     "slide_type": "subslide"
    }
   },
   "outputs": [
    {
     "data": {
      "text/plain": [
       "((422, 2), (20, 2), (422,), (20,))"
      ]
     },
     "execution_count": 21,
     "metadata": {},
     "output_type": "execute_result"
    }
   ],
   "source": [
    "# Split the data into training/testing sets\n",
    "X_train = X[:-20]\n",
    "X_test  = X[-20:]\n",
    "\n",
    "# Split the targets into training/testing sets\n",
    "y_train = diabetes.target[:-20]\n",
    "y_test = diabetes.target[-20:]\n",
    "\n",
    "X_train.shape, X_test.shape, y_train.shape, y_test.shape"
   ]
  },
  {
   "cell_type": "code",
   "execution_count": 22,
   "metadata": {
    "slideshow": {
     "slide_type": "subslide"
    }
   },
   "outputs": [],
   "source": [
    "# Create linear regression object\n",
    "regr = linear_model.LinearRegression()"
   ]
  },
  {
   "cell_type": "code",
   "execution_count": 23,
   "metadata": {
    "slideshow": {
     "slide_type": "subslide"
    }
   },
   "outputs": [
    {
     "data": {
      "text/plain": [
       "LinearRegression()"
      ]
     },
     "execution_count": 23,
     "metadata": {},
     "output_type": "execute_result"
    }
   ],
   "source": [
    "# Train the model using the training sets\n",
    "regr.fit(X_train, y_train)"
   ]
  },
  {
   "cell_type": "code",
   "execution_count": 24,
   "metadata": {
    "slideshow": {
     "slide_type": "subslide"
    }
   },
   "outputs": [],
   "source": [
    "# Make predictions using the testing set\n",
    "y_pred = regr.predict(X_test)"
   ]
  },
  {
   "cell_type": "code",
   "execution_count": 25,
   "metadata": {
    "slideshow": {
     "slide_type": "subslide"
    }
   },
   "outputs": [
    {
     "name": "stdout",
     "output_type": "stream",
     "text": [
      "Coefficients: \n",
      " [781.17008831 410.14503587]\n",
      "Intercept: \n",
      " 152.86283685571757\n"
     ]
    }
   ],
   "source": [
    "# The coefficients\n",
    "print('Coefficients: \\n', regr.coef_)\n",
    "print('Intercept: \\n', regr.intercept_)"
   ]
  },
  {
   "cell_type": "markdown",
   "metadata": {},
   "source": [
    "- 훈련된 model 을 이용하여 new data 예측"
   ]
  },
  {
   "cell_type": "code",
   "execution_count": 26,
   "metadata": {},
   "outputs": [
    {
     "data": {
      "text/plain": [
       "array([184.59556623])"
      ]
     },
     "execution_count": 26,
     "metadata": {},
     "output_type": "execute_result"
    }
   ],
   "source": [
    "regr.predict(np.array([[0.08, -0.075]]))"
   ]
  },
  {
   "cell_type": "code",
   "execution_count": 27,
   "metadata": {
    "slideshow": {
     "slide_type": "subslide"
    }
   },
   "outputs": [
    {
     "name": "stdout",
     "output_type": "stream",
     "text": [
      "결정계수: 0.47\n"
     ]
    }
   ],
   "source": [
    "# R2 계산 \n",
    "print(\"결정계수: {:.2f}\".format(r2_score(y_test, y_pred)))"
   ]
  },
  {
   "cell_type": "markdown",
   "metadata": {},
   "source": [
    "## meshgrid 를 이용한 3 차원 공간의 regression surface 시각화"
   ]
  },
  {
   "cell_type": "code",
   "execution_count": 28,
   "metadata": {},
   "outputs": [
    {
     "data": {
      "text/plain": [
       "((5, 5), (5, 5))"
      ]
     },
     "execution_count": 28,
     "metadata": {},
     "output_type": "execute_result"
    }
   ],
   "source": [
    "# 3 차원 표현을 위한 meshgrid 작성\n",
    "x1_min  = X_test[:, 0].min()\n",
    "x1_max = X_test[:, 0].max()\n",
    "x2_min  = X_test[:, 1].min()\n",
    "x2_max = X_test[:, 1].max()\n",
    "                                 \n",
    "X1, X2 = np.meshgrid(np.linspace(x1_min, x1_max, 5), \n",
    "                     np.linspace(x2_min, x2_max, 5))\n",
    "\n",
    "X1.shape, X2.shape"
   ]
  },
  {
   "cell_type": "code",
   "execution_count": 29,
   "metadata": {},
   "outputs": [
    {
     "name": "stdout",
     "output_type": "stream",
     "text": [
      "(25, 2)\n"
     ]
    },
    {
     "data": {
      "text/plain": [
       "array([[-0.07410811, -0.08141377],\n",
       "       [-0.03342071, -0.08141377],\n",
       "       [ 0.0072667 , -0.08141377],\n",
       "       [ 0.0479541 , -0.08141377],\n",
       "       [ 0.08864151, -0.08141377],\n",
       "       [-0.07410811, -0.0392386 ],\n",
       "       [-0.03342071, -0.0392386 ],\n",
       "       [ 0.0072667 , -0.0392386 ],\n",
       "       [ 0.0479541 , -0.0392386 ],\n",
       "       [ 0.08864151, -0.0392386 ]])"
      ]
     },
     "execution_count": 29,
     "metadata": {},
     "output_type": "execute_result"
    }
   ],
   "source": [
    "XX = np.column_stack([X1.ravel(), X2.ravel()])\n",
    "print(XX.shape)\n",
    "XX[:10]"
   ]
  },
  {
   "cell_type": "markdown",
   "metadata": {},
   "source": [
    "- 3차원 상의 평면 시각화"
   ]
  },
  {
   "cell_type": "code",
   "execution_count": 30,
   "metadata": {
    "slideshow": {
     "slide_type": "fragment"
    }
   },
   "outputs": [
    {
     "data": {
      "text/plain": [
       "(25,)"
      ]
     },
     "execution_count": 30,
     "metadata": {},
     "output_type": "execute_result"
    }
   ],
   "source": [
    "Y = regr.predict(XX)\n",
    "Y.shape"
   ]
  },
  {
   "cell_type": "code",
   "execution_count": 31,
   "metadata": {
    "scrolled": true,
    "slideshow": {
     "slide_type": "subslide"
    }
   },
   "outputs": [
    {
     "data": {
      "application/javascript": [
       "/* Put everything inside the global mpl namespace */\n",
       "/* global mpl */\n",
       "window.mpl = {};\n",
       "\n",
       "mpl.get_websocket_type = function () {\n",
       "    if (typeof WebSocket !== 'undefined') {\n",
       "        return WebSocket;\n",
       "    } else if (typeof MozWebSocket !== 'undefined') {\n",
       "        return MozWebSocket;\n",
       "    } else {\n",
       "        alert(\n",
       "            'Your browser does not have WebSocket support. ' +\n",
       "                'Please try Chrome, Safari or Firefox ≥ 6. ' +\n",
       "                'Firefox 4 and 5 are also supported but you ' +\n",
       "                'have to enable WebSockets in about:config.'\n",
       "        );\n",
       "    }\n",
       "};\n",
       "\n",
       "mpl.figure = function (figure_id, websocket, ondownload, parent_element) {\n",
       "    this.id = figure_id;\n",
       "\n",
       "    this.ws = websocket;\n",
       "\n",
       "    this.supports_binary = this.ws.binaryType !== undefined;\n",
       "\n",
       "    if (!this.supports_binary) {\n",
       "        var warnings = document.getElementById('mpl-warnings');\n",
       "        if (warnings) {\n",
       "            warnings.style.display = 'block';\n",
       "            warnings.textContent =\n",
       "                'This browser does not support binary websocket messages. ' +\n",
       "                'Performance may be slow.';\n",
       "        }\n",
       "    }\n",
       "\n",
       "    this.imageObj = new Image();\n",
       "\n",
       "    this.context = undefined;\n",
       "    this.message = undefined;\n",
       "    this.canvas = undefined;\n",
       "    this.rubberband_canvas = undefined;\n",
       "    this.rubberband_context = undefined;\n",
       "    this.format_dropdown = undefined;\n",
       "\n",
       "    this.image_mode = 'full';\n",
       "\n",
       "    this.root = document.createElement('div');\n",
       "    this.root.setAttribute('style', 'display: inline-block');\n",
       "    this._root_extra_style(this.root);\n",
       "\n",
       "    parent_element.appendChild(this.root);\n",
       "\n",
       "    this._init_header(this);\n",
       "    this._init_canvas(this);\n",
       "    this._init_toolbar(this);\n",
       "\n",
       "    var fig = this;\n",
       "\n",
       "    this.waiting = false;\n",
       "\n",
       "    this.ws.onopen = function () {\n",
       "        fig.send_message('supports_binary', { value: fig.supports_binary });\n",
       "        fig.send_message('send_image_mode', {});\n",
       "        if (fig.ratio !== 1) {\n",
       "            fig.send_message('set_dpi_ratio', { dpi_ratio: fig.ratio });\n",
       "        }\n",
       "        fig.send_message('refresh', {});\n",
       "    };\n",
       "\n",
       "    this.imageObj.onload = function () {\n",
       "        if (fig.image_mode === 'full') {\n",
       "            // Full images could contain transparency (where diff images\n",
       "            // almost always do), so we need to clear the canvas so that\n",
       "            // there is no ghosting.\n",
       "            fig.context.clearRect(0, 0, fig.canvas.width, fig.canvas.height);\n",
       "        }\n",
       "        fig.context.drawImage(fig.imageObj, 0, 0);\n",
       "    };\n",
       "\n",
       "    this.imageObj.onunload = function () {\n",
       "        fig.ws.close();\n",
       "    };\n",
       "\n",
       "    this.ws.onmessage = this._make_on_message_function(this);\n",
       "\n",
       "    this.ondownload = ondownload;\n",
       "};\n",
       "\n",
       "mpl.figure.prototype._init_header = function () {\n",
       "    var titlebar = document.createElement('div');\n",
       "    titlebar.classList =\n",
       "        'ui-dialog-titlebar ui-widget-header ui-corner-all ui-helper-clearfix';\n",
       "    var titletext = document.createElement('div');\n",
       "    titletext.classList = 'ui-dialog-title';\n",
       "    titletext.setAttribute(\n",
       "        'style',\n",
       "        'width: 100%; text-align: center; padding: 3px;'\n",
       "    );\n",
       "    titlebar.appendChild(titletext);\n",
       "    this.root.appendChild(titlebar);\n",
       "    this.header = titletext;\n",
       "};\n",
       "\n",
       "mpl.figure.prototype._canvas_extra_style = function (_canvas_div) {};\n",
       "\n",
       "mpl.figure.prototype._root_extra_style = function (_canvas_div) {};\n",
       "\n",
       "mpl.figure.prototype._init_canvas = function () {\n",
       "    var fig = this;\n",
       "\n",
       "    var canvas_div = (this.canvas_div = document.createElement('div'));\n",
       "    canvas_div.setAttribute(\n",
       "        'style',\n",
       "        'border: 1px solid #ddd;' +\n",
       "            'box-sizing: content-box;' +\n",
       "            'clear: both;' +\n",
       "            'min-height: 1px;' +\n",
       "            'min-width: 1px;' +\n",
       "            'outline: 0;' +\n",
       "            'overflow: hidden;' +\n",
       "            'position: relative;' +\n",
       "            'resize: both;'\n",
       "    );\n",
       "\n",
       "    function on_keyboard_event_closure(name) {\n",
       "        return function (event) {\n",
       "            return fig.key_event(event, name);\n",
       "        };\n",
       "    }\n",
       "\n",
       "    canvas_div.addEventListener(\n",
       "        'keydown',\n",
       "        on_keyboard_event_closure('key_press')\n",
       "    );\n",
       "    canvas_div.addEventListener(\n",
       "        'keyup',\n",
       "        on_keyboard_event_closure('key_release')\n",
       "    );\n",
       "\n",
       "    this._canvas_extra_style(canvas_div);\n",
       "    this.root.appendChild(canvas_div);\n",
       "\n",
       "    var canvas = (this.canvas = document.createElement('canvas'));\n",
       "    canvas.classList.add('mpl-canvas');\n",
       "    canvas.setAttribute('style', 'box-sizing: content-box;');\n",
       "\n",
       "    this.context = canvas.getContext('2d');\n",
       "\n",
       "    var backingStore =\n",
       "        this.context.backingStorePixelRatio ||\n",
       "        this.context.webkitBackingStorePixelRatio ||\n",
       "        this.context.mozBackingStorePixelRatio ||\n",
       "        this.context.msBackingStorePixelRatio ||\n",
       "        this.context.oBackingStorePixelRatio ||\n",
       "        this.context.backingStorePixelRatio ||\n",
       "        1;\n",
       "\n",
       "    this.ratio = (window.devicePixelRatio || 1) / backingStore;\n",
       "\n",
       "    var rubberband_canvas = (this.rubberband_canvas = document.createElement(\n",
       "        'canvas'\n",
       "    ));\n",
       "    rubberband_canvas.setAttribute(\n",
       "        'style',\n",
       "        'box-sizing: content-box; position: absolute; left: 0; top: 0; z-index: 1;'\n",
       "    );\n",
       "\n",
       "    // Apply a ponyfill if ResizeObserver is not implemented by browser.\n",
       "    if (this.ResizeObserver === undefined) {\n",
       "        if (window.ResizeObserver !== undefined) {\n",
       "            this.ResizeObserver = window.ResizeObserver;\n",
       "        } else {\n",
       "            var obs = _JSXTOOLS_RESIZE_OBSERVER({});\n",
       "            this.ResizeObserver = obs.ResizeObserver;\n",
       "        }\n",
       "    }\n",
       "\n",
       "    this.resizeObserverInstance = new this.ResizeObserver(function (entries) {\n",
       "        var nentries = entries.length;\n",
       "        for (var i = 0; i < nentries; i++) {\n",
       "            var entry = entries[i];\n",
       "            var width, height;\n",
       "            if (entry.contentBoxSize) {\n",
       "                if (entry.contentBoxSize instanceof Array) {\n",
       "                    // Chrome 84 implements new version of spec.\n",
       "                    width = entry.contentBoxSize[0].inlineSize;\n",
       "                    height = entry.contentBoxSize[0].blockSize;\n",
       "                } else {\n",
       "                    // Firefox implements old version of spec.\n",
       "                    width = entry.contentBoxSize.inlineSize;\n",
       "                    height = entry.contentBoxSize.blockSize;\n",
       "                }\n",
       "            } else {\n",
       "                // Chrome <84 implements even older version of spec.\n",
       "                width = entry.contentRect.width;\n",
       "                height = entry.contentRect.height;\n",
       "            }\n",
       "\n",
       "            // Keep the size of the canvas and rubber band canvas in sync with\n",
       "            // the canvas container.\n",
       "            if (entry.devicePixelContentBoxSize) {\n",
       "                // Chrome 84 implements new version of spec.\n",
       "                canvas.setAttribute(\n",
       "                    'width',\n",
       "                    entry.devicePixelContentBoxSize[0].inlineSize\n",
       "                );\n",
       "                canvas.setAttribute(\n",
       "                    'height',\n",
       "                    entry.devicePixelContentBoxSize[0].blockSize\n",
       "                );\n",
       "            } else {\n",
       "                canvas.setAttribute('width', width * fig.ratio);\n",
       "                canvas.setAttribute('height', height * fig.ratio);\n",
       "            }\n",
       "            canvas.setAttribute(\n",
       "                'style',\n",
       "                'width: ' + width + 'px; height: ' + height + 'px;'\n",
       "            );\n",
       "\n",
       "            rubberband_canvas.setAttribute('width', width);\n",
       "            rubberband_canvas.setAttribute('height', height);\n",
       "\n",
       "            // And update the size in Python. We ignore the initial 0/0 size\n",
       "            // that occurs as the element is placed into the DOM, which should\n",
       "            // otherwise not happen due to the minimum size styling.\n",
       "            if (fig.ws.readyState == 1 && width != 0 && height != 0) {\n",
       "                fig.request_resize(width, height);\n",
       "            }\n",
       "        }\n",
       "    });\n",
       "    this.resizeObserverInstance.observe(canvas_div);\n",
       "\n",
       "    function on_mouse_event_closure(name) {\n",
       "        return function (event) {\n",
       "            return fig.mouse_event(event, name);\n",
       "        };\n",
       "    }\n",
       "\n",
       "    rubberband_canvas.addEventListener(\n",
       "        'mousedown',\n",
       "        on_mouse_event_closure('button_press')\n",
       "    );\n",
       "    rubberband_canvas.addEventListener(\n",
       "        'mouseup',\n",
       "        on_mouse_event_closure('button_release')\n",
       "    );\n",
       "    // Throttle sequential mouse events to 1 every 20ms.\n",
       "    rubberband_canvas.addEventListener(\n",
       "        'mousemove',\n",
       "        on_mouse_event_closure('motion_notify')\n",
       "    );\n",
       "\n",
       "    rubberband_canvas.addEventListener(\n",
       "        'mouseenter',\n",
       "        on_mouse_event_closure('figure_enter')\n",
       "    );\n",
       "    rubberband_canvas.addEventListener(\n",
       "        'mouseleave',\n",
       "        on_mouse_event_closure('figure_leave')\n",
       "    );\n",
       "\n",
       "    canvas_div.addEventListener('wheel', function (event) {\n",
       "        if (event.deltaY < 0) {\n",
       "            event.step = 1;\n",
       "        } else {\n",
       "            event.step = -1;\n",
       "        }\n",
       "        on_mouse_event_closure('scroll')(event);\n",
       "    });\n",
       "\n",
       "    canvas_div.appendChild(canvas);\n",
       "    canvas_div.appendChild(rubberband_canvas);\n",
       "\n",
       "    this.rubberband_context = rubberband_canvas.getContext('2d');\n",
       "    this.rubberband_context.strokeStyle = '#000000';\n",
       "\n",
       "    this._resize_canvas = function (width, height, forward) {\n",
       "        if (forward) {\n",
       "            canvas_div.style.width = width + 'px';\n",
       "            canvas_div.style.height = height + 'px';\n",
       "        }\n",
       "    };\n",
       "\n",
       "    // Disable right mouse context menu.\n",
       "    this.rubberband_canvas.addEventListener('contextmenu', function (_e) {\n",
       "        event.preventDefault();\n",
       "        return false;\n",
       "    });\n",
       "\n",
       "    function set_focus() {\n",
       "        canvas.focus();\n",
       "        canvas_div.focus();\n",
       "    }\n",
       "\n",
       "    window.setTimeout(set_focus, 100);\n",
       "};\n",
       "\n",
       "mpl.figure.prototype._init_toolbar = function () {\n",
       "    var fig = this;\n",
       "\n",
       "    var toolbar = document.createElement('div');\n",
       "    toolbar.classList = 'mpl-toolbar';\n",
       "    this.root.appendChild(toolbar);\n",
       "\n",
       "    function on_click_closure(name) {\n",
       "        return function (_event) {\n",
       "            return fig.toolbar_button_onclick(name);\n",
       "        };\n",
       "    }\n",
       "\n",
       "    function on_mouseover_closure(tooltip) {\n",
       "        return function (event) {\n",
       "            if (!event.currentTarget.disabled) {\n",
       "                return fig.toolbar_button_onmouseover(tooltip);\n",
       "            }\n",
       "        };\n",
       "    }\n",
       "\n",
       "    fig.buttons = {};\n",
       "    var buttonGroup = document.createElement('div');\n",
       "    buttonGroup.classList = 'mpl-button-group';\n",
       "    for (var toolbar_ind in mpl.toolbar_items) {\n",
       "        var name = mpl.toolbar_items[toolbar_ind][0];\n",
       "        var tooltip = mpl.toolbar_items[toolbar_ind][1];\n",
       "        var image = mpl.toolbar_items[toolbar_ind][2];\n",
       "        var method_name = mpl.toolbar_items[toolbar_ind][3];\n",
       "\n",
       "        if (!name) {\n",
       "            /* Instead of a spacer, we start a new button group. */\n",
       "            if (buttonGroup.hasChildNodes()) {\n",
       "                toolbar.appendChild(buttonGroup);\n",
       "            }\n",
       "            buttonGroup = document.createElement('div');\n",
       "            buttonGroup.classList = 'mpl-button-group';\n",
       "            continue;\n",
       "        }\n",
       "\n",
       "        var button = (fig.buttons[name] = document.createElement('button'));\n",
       "        button.classList = 'mpl-widget';\n",
       "        button.setAttribute('role', 'button');\n",
       "        button.setAttribute('aria-disabled', 'false');\n",
       "        button.addEventListener('click', on_click_closure(method_name));\n",
       "        button.addEventListener('mouseover', on_mouseover_closure(tooltip));\n",
       "\n",
       "        var icon_img = document.createElement('img');\n",
       "        icon_img.src = '_images/' + image + '.png';\n",
       "        icon_img.srcset = '_images/' + image + '_large.png 2x';\n",
       "        icon_img.alt = tooltip;\n",
       "        button.appendChild(icon_img);\n",
       "\n",
       "        buttonGroup.appendChild(button);\n",
       "    }\n",
       "\n",
       "    if (buttonGroup.hasChildNodes()) {\n",
       "        toolbar.appendChild(buttonGroup);\n",
       "    }\n",
       "\n",
       "    var fmt_picker = document.createElement('select');\n",
       "    fmt_picker.classList = 'mpl-widget';\n",
       "    toolbar.appendChild(fmt_picker);\n",
       "    this.format_dropdown = fmt_picker;\n",
       "\n",
       "    for (var ind in mpl.extensions) {\n",
       "        var fmt = mpl.extensions[ind];\n",
       "        var option = document.createElement('option');\n",
       "        option.selected = fmt === mpl.default_extension;\n",
       "        option.innerHTML = fmt;\n",
       "        fmt_picker.appendChild(option);\n",
       "    }\n",
       "\n",
       "    var status_bar = document.createElement('span');\n",
       "    status_bar.classList = 'mpl-message';\n",
       "    toolbar.appendChild(status_bar);\n",
       "    this.message = status_bar;\n",
       "};\n",
       "\n",
       "mpl.figure.prototype.request_resize = function (x_pixels, y_pixels) {\n",
       "    // Request matplotlib to resize the figure. Matplotlib will then trigger a resize in the client,\n",
       "    // which will in turn request a refresh of the image.\n",
       "    this.send_message('resize', { width: x_pixels, height: y_pixels });\n",
       "};\n",
       "\n",
       "mpl.figure.prototype.send_message = function (type, properties) {\n",
       "    properties['type'] = type;\n",
       "    properties['figure_id'] = this.id;\n",
       "    this.ws.send(JSON.stringify(properties));\n",
       "};\n",
       "\n",
       "mpl.figure.prototype.send_draw_message = function () {\n",
       "    if (!this.waiting) {\n",
       "        this.waiting = true;\n",
       "        this.ws.send(JSON.stringify({ type: 'draw', figure_id: this.id }));\n",
       "    }\n",
       "};\n",
       "\n",
       "mpl.figure.prototype.handle_save = function (fig, _msg) {\n",
       "    var format_dropdown = fig.format_dropdown;\n",
       "    var format = format_dropdown.options[format_dropdown.selectedIndex].value;\n",
       "    fig.ondownload(fig, format);\n",
       "};\n",
       "\n",
       "mpl.figure.prototype.handle_resize = function (fig, msg) {\n",
       "    var size = msg['size'];\n",
       "    if (size[0] !== fig.canvas.width || size[1] !== fig.canvas.height) {\n",
       "        fig._resize_canvas(size[0], size[1], msg['forward']);\n",
       "        fig.send_message('refresh', {});\n",
       "    }\n",
       "};\n",
       "\n",
       "mpl.figure.prototype.handle_rubberband = function (fig, msg) {\n",
       "    var x0 = msg['x0'] / fig.ratio;\n",
       "    var y0 = (fig.canvas.height - msg['y0']) / fig.ratio;\n",
       "    var x1 = msg['x1'] / fig.ratio;\n",
       "    var y1 = (fig.canvas.height - msg['y1']) / fig.ratio;\n",
       "    x0 = Math.floor(x0) + 0.5;\n",
       "    y0 = Math.floor(y0) + 0.5;\n",
       "    x1 = Math.floor(x1) + 0.5;\n",
       "    y1 = Math.floor(y1) + 0.5;\n",
       "    var min_x = Math.min(x0, x1);\n",
       "    var min_y = Math.min(y0, y1);\n",
       "    var width = Math.abs(x1 - x0);\n",
       "    var height = Math.abs(y1 - y0);\n",
       "\n",
       "    fig.rubberband_context.clearRect(\n",
       "        0,\n",
       "        0,\n",
       "        fig.canvas.width / fig.ratio,\n",
       "        fig.canvas.height / fig.ratio\n",
       "    );\n",
       "\n",
       "    fig.rubberband_context.strokeRect(min_x, min_y, width, height);\n",
       "};\n",
       "\n",
       "mpl.figure.prototype.handle_figure_label = function (fig, msg) {\n",
       "    // Updates the figure title.\n",
       "    fig.header.textContent = msg['label'];\n",
       "};\n",
       "\n",
       "mpl.figure.prototype.handle_cursor = function (fig, msg) {\n",
       "    var cursor = msg['cursor'];\n",
       "    switch (cursor) {\n",
       "        case 0:\n",
       "            cursor = 'pointer';\n",
       "            break;\n",
       "        case 1:\n",
       "            cursor = 'default';\n",
       "            break;\n",
       "        case 2:\n",
       "            cursor = 'crosshair';\n",
       "            break;\n",
       "        case 3:\n",
       "            cursor = 'move';\n",
       "            break;\n",
       "    }\n",
       "    fig.rubberband_canvas.style.cursor = cursor;\n",
       "};\n",
       "\n",
       "mpl.figure.prototype.handle_message = function (fig, msg) {\n",
       "    fig.message.textContent = msg['message'];\n",
       "};\n",
       "\n",
       "mpl.figure.prototype.handle_draw = function (fig, _msg) {\n",
       "    // Request the server to send over a new figure.\n",
       "    fig.send_draw_message();\n",
       "};\n",
       "\n",
       "mpl.figure.prototype.handle_image_mode = function (fig, msg) {\n",
       "    fig.image_mode = msg['mode'];\n",
       "};\n",
       "\n",
       "mpl.figure.prototype.handle_history_buttons = function (fig, msg) {\n",
       "    for (var key in msg) {\n",
       "        if (!(key in fig.buttons)) {\n",
       "            continue;\n",
       "        }\n",
       "        fig.buttons[key].disabled = !msg[key];\n",
       "        fig.buttons[key].setAttribute('aria-disabled', !msg[key]);\n",
       "    }\n",
       "};\n",
       "\n",
       "mpl.figure.prototype.handle_navigate_mode = function (fig, msg) {\n",
       "    if (msg['mode'] === 'PAN') {\n",
       "        fig.buttons['Pan'].classList.add('active');\n",
       "        fig.buttons['Zoom'].classList.remove('active');\n",
       "    } else if (msg['mode'] === 'ZOOM') {\n",
       "        fig.buttons['Pan'].classList.remove('active');\n",
       "        fig.buttons['Zoom'].classList.add('active');\n",
       "    } else {\n",
       "        fig.buttons['Pan'].classList.remove('active');\n",
       "        fig.buttons['Zoom'].classList.remove('active');\n",
       "    }\n",
       "};\n",
       "\n",
       "mpl.figure.prototype.updated_canvas_event = function () {\n",
       "    // Called whenever the canvas gets updated.\n",
       "    this.send_message('ack', {});\n",
       "};\n",
       "\n",
       "// A function to construct a web socket function for onmessage handling.\n",
       "// Called in the figure constructor.\n",
       "mpl.figure.prototype._make_on_message_function = function (fig) {\n",
       "    return function socket_on_message(evt) {\n",
       "        if (evt.data instanceof Blob) {\n",
       "            /* FIXME: We get \"Resource interpreted as Image but\n",
       "             * transferred with MIME type text/plain:\" errors on\n",
       "             * Chrome.  But how to set the MIME type?  It doesn't seem\n",
       "             * to be part of the websocket stream */\n",
       "            evt.data.type = 'image/png';\n",
       "\n",
       "            /* Free the memory for the previous frames */\n",
       "            if (fig.imageObj.src) {\n",
       "                (window.URL || window.webkitURL).revokeObjectURL(\n",
       "                    fig.imageObj.src\n",
       "                );\n",
       "            }\n",
       "\n",
       "            fig.imageObj.src = (window.URL || window.webkitURL).createObjectURL(\n",
       "                evt.data\n",
       "            );\n",
       "            fig.updated_canvas_event();\n",
       "            fig.waiting = false;\n",
       "            return;\n",
       "        } else if (\n",
       "            typeof evt.data === 'string' &&\n",
       "            evt.data.slice(0, 21) === 'data:image/png;base64'\n",
       "        ) {\n",
       "            fig.imageObj.src = evt.data;\n",
       "            fig.updated_canvas_event();\n",
       "            fig.waiting = false;\n",
       "            return;\n",
       "        }\n",
       "\n",
       "        var msg = JSON.parse(evt.data);\n",
       "        var msg_type = msg['type'];\n",
       "\n",
       "        // Call the  \"handle_{type}\" callback, which takes\n",
       "        // the figure and JSON message as its only arguments.\n",
       "        try {\n",
       "            var callback = fig['handle_' + msg_type];\n",
       "        } catch (e) {\n",
       "            console.log(\n",
       "                \"No handler for the '\" + msg_type + \"' message type: \",\n",
       "                msg\n",
       "            );\n",
       "            return;\n",
       "        }\n",
       "\n",
       "        if (callback) {\n",
       "            try {\n",
       "                // console.log(\"Handling '\" + msg_type + \"' message: \", msg);\n",
       "                callback(fig, msg);\n",
       "            } catch (e) {\n",
       "                console.log(\n",
       "                    \"Exception inside the 'handler_\" + msg_type + \"' callback:\",\n",
       "                    e,\n",
       "                    e.stack,\n",
       "                    msg\n",
       "                );\n",
       "            }\n",
       "        }\n",
       "    };\n",
       "};\n",
       "\n",
       "// from http://stackoverflow.com/questions/1114465/getting-mouse-location-in-canvas\n",
       "mpl.findpos = function (e) {\n",
       "    //this section is from http://www.quirksmode.org/js/events_properties.html\n",
       "    var targ;\n",
       "    if (!e) {\n",
       "        e = window.event;\n",
       "    }\n",
       "    if (e.target) {\n",
       "        targ = e.target;\n",
       "    } else if (e.srcElement) {\n",
       "        targ = e.srcElement;\n",
       "    }\n",
       "    if (targ.nodeType === 3) {\n",
       "        // defeat Safari bug\n",
       "        targ = targ.parentNode;\n",
       "    }\n",
       "\n",
       "    // pageX,Y are the mouse positions relative to the document\n",
       "    var boundingRect = targ.getBoundingClientRect();\n",
       "    var x = e.pageX - (boundingRect.left + document.body.scrollLeft);\n",
       "    var y = e.pageY - (boundingRect.top + document.body.scrollTop);\n",
       "\n",
       "    return { x: x, y: y };\n",
       "};\n",
       "\n",
       "/*\n",
       " * return a copy of an object with only non-object keys\n",
       " * we need this to avoid circular references\n",
       " * http://stackoverflow.com/a/24161582/3208463\n",
       " */\n",
       "function simpleKeys(original) {\n",
       "    return Object.keys(original).reduce(function (obj, key) {\n",
       "        if (typeof original[key] !== 'object') {\n",
       "            obj[key] = original[key];\n",
       "        }\n",
       "        return obj;\n",
       "    }, {});\n",
       "}\n",
       "\n",
       "mpl.figure.prototype.mouse_event = function (event, name) {\n",
       "    var canvas_pos = mpl.findpos(event);\n",
       "\n",
       "    if (name === 'button_press') {\n",
       "        this.canvas.focus();\n",
       "        this.canvas_div.focus();\n",
       "    }\n",
       "\n",
       "    var x = canvas_pos.x * this.ratio;\n",
       "    var y = canvas_pos.y * this.ratio;\n",
       "\n",
       "    this.send_message(name, {\n",
       "        x: x,\n",
       "        y: y,\n",
       "        button: event.button,\n",
       "        step: event.step,\n",
       "        guiEvent: simpleKeys(event),\n",
       "    });\n",
       "\n",
       "    /* This prevents the web browser from automatically changing to\n",
       "     * the text insertion cursor when the button is pressed.  We want\n",
       "     * to control all of the cursor setting manually through the\n",
       "     * 'cursor' event from matplotlib */\n",
       "    event.preventDefault();\n",
       "    return false;\n",
       "};\n",
       "\n",
       "mpl.figure.prototype._key_event_extra = function (_event, _name) {\n",
       "    // Handle any extra behaviour associated with a key event\n",
       "};\n",
       "\n",
       "mpl.figure.prototype.key_event = function (event, name) {\n",
       "    // Prevent repeat events\n",
       "    if (name === 'key_press') {\n",
       "        if (event.which === this._key) {\n",
       "            return;\n",
       "        } else {\n",
       "            this._key = event.which;\n",
       "        }\n",
       "    }\n",
       "    if (name === 'key_release') {\n",
       "        this._key = null;\n",
       "    }\n",
       "\n",
       "    var value = '';\n",
       "    if (event.ctrlKey && event.which !== 17) {\n",
       "        value += 'ctrl+';\n",
       "    }\n",
       "    if (event.altKey && event.which !== 18) {\n",
       "        value += 'alt+';\n",
       "    }\n",
       "    if (event.shiftKey && event.which !== 16) {\n",
       "        value += 'shift+';\n",
       "    }\n",
       "\n",
       "    value += 'k';\n",
       "    value += event.which.toString();\n",
       "\n",
       "    this._key_event_extra(event, name);\n",
       "\n",
       "    this.send_message(name, { key: value, guiEvent: simpleKeys(event) });\n",
       "    return false;\n",
       "};\n",
       "\n",
       "mpl.figure.prototype.toolbar_button_onclick = function (name) {\n",
       "    if (name === 'download') {\n",
       "        this.handle_save(this, null);\n",
       "    } else {\n",
       "        this.send_message('toolbar_button', { name: name });\n",
       "    }\n",
       "};\n",
       "\n",
       "mpl.figure.prototype.toolbar_button_onmouseover = function (tooltip) {\n",
       "    this.message.textContent = tooltip;\n",
       "};\n",
       "\n",
       "///////////////// REMAINING CONTENT GENERATED BY embed_js.py /////////////////\n",
       "// prettier-ignore\n",
       "var _JSXTOOLS_RESIZE_OBSERVER=function(A){var t,i=new WeakMap,n=new WeakMap,a=new WeakMap,r=new WeakMap,o=new Set;function s(e){if(!(this instanceof s))throw new TypeError(\"Constructor requires 'new' operator\");i.set(this,e)}function h(){throw new TypeError(\"Function is not a constructor\")}function c(e,t,i,n){e=0 in arguments?Number(arguments[0]):0,t=1 in arguments?Number(arguments[1]):0,i=2 in arguments?Number(arguments[2]):0,n=3 in arguments?Number(arguments[3]):0,this.right=(this.x=this.left=e)+(this.width=i),this.bottom=(this.y=this.top=t)+(this.height=n),Object.freeze(this)}function d(){t=requestAnimationFrame(d);var s=new WeakMap,p=new Set;o.forEach((function(t){r.get(t).forEach((function(i){var r=t instanceof window.SVGElement,o=a.get(t),d=r?0:parseFloat(o.paddingTop),f=r?0:parseFloat(o.paddingRight),l=r?0:parseFloat(o.paddingBottom),u=r?0:parseFloat(o.paddingLeft),g=r?0:parseFloat(o.borderTopWidth),m=r?0:parseFloat(o.borderRightWidth),w=r?0:parseFloat(o.borderBottomWidth),b=u+f,F=d+l,v=(r?0:parseFloat(o.borderLeftWidth))+m,W=g+w,y=r?0:t.offsetHeight-W-t.clientHeight,E=r?0:t.offsetWidth-v-t.clientWidth,R=b+v,z=F+W,M=r?t.width:parseFloat(o.width)-R-E,O=r?t.height:parseFloat(o.height)-z-y;if(n.has(t)){var k=n.get(t);if(k[0]===M&&k[1]===O)return}n.set(t,[M,O]);var S=Object.create(h.prototype);S.target=t,S.contentRect=new c(u,d,M,O),s.has(i)||(s.set(i,[]),p.add(i)),s.get(i).push(S)}))})),p.forEach((function(e){i.get(e).call(e,s.get(e),e)}))}return s.prototype.observe=function(i){if(i instanceof window.Element){r.has(i)||(r.set(i,new Set),o.add(i),a.set(i,window.getComputedStyle(i)));var n=r.get(i);n.has(this)||n.add(this),cancelAnimationFrame(t),t=requestAnimationFrame(d)}},s.prototype.unobserve=function(i){if(i instanceof window.Element&&r.has(i)){var n=r.get(i);n.has(this)&&(n.delete(this),n.size||(r.delete(i),o.delete(i))),n.size||r.delete(i),o.size||cancelAnimationFrame(t)}},A.DOMRectReadOnly=c,A.ResizeObserver=s,A.ResizeObserverEntry=h,A}; // eslint-disable-line\n",
       "mpl.toolbar_items = [[\"Home\", \"Reset original view\", \"fa fa-home icon-home\", \"home\"], [\"Back\", \"Back to previous view\", \"fa fa-arrow-left icon-arrow-left\", \"back\"], [\"Forward\", \"Forward to next view\", \"fa fa-arrow-right icon-arrow-right\", \"forward\"], [\"\", \"\", \"\", \"\"], [\"Pan\", \"Left button pans, Right button zooms\\nx/y fixes axis, CTRL fixes aspect\", \"fa fa-arrows icon-move\", \"pan\"], [\"Zoom\", \"Zoom to rectangle\\nx/y fixes axis, CTRL fixes aspect\", \"fa fa-square-o icon-check-empty\", \"zoom\"], [\"\", \"\", \"\", \"\"], [\"Download\", \"Download plot\", \"fa fa-floppy-o icon-save\", \"download\"]];\n",
       "\n",
       "mpl.extensions = [\"eps\", \"jpeg\", \"pdf\", \"png\", \"ps\", \"raw\", \"svg\", \"tif\"];\n",
       "\n",
       "mpl.default_extension = \"png\";/* global mpl */\n",
       "\n",
       "var comm_websocket_adapter = function (comm) {\n",
       "    // Create a \"websocket\"-like object which calls the given IPython comm\n",
       "    // object with the appropriate methods. Currently this is a non binary\n",
       "    // socket, so there is still some room for performance tuning.\n",
       "    var ws = {};\n",
       "\n",
       "    ws.close = function () {\n",
       "        comm.close();\n",
       "    };\n",
       "    ws.send = function (m) {\n",
       "        //console.log('sending', m);\n",
       "        comm.send(m);\n",
       "    };\n",
       "    // Register the callback with on_msg.\n",
       "    comm.on_msg(function (msg) {\n",
       "        //console.log('receiving', msg['content']['data'], msg);\n",
       "        // Pass the mpl event to the overridden (by mpl) onmessage function.\n",
       "        ws.onmessage(msg['content']['data']);\n",
       "    });\n",
       "    return ws;\n",
       "};\n",
       "\n",
       "mpl.mpl_figure_comm = function (comm, msg) {\n",
       "    // This is the function which gets called when the mpl process\n",
       "    // starts-up an IPython Comm through the \"matplotlib\" channel.\n",
       "\n",
       "    var id = msg.content.data.id;\n",
       "    // Get hold of the div created by the display call when the Comm\n",
       "    // socket was opened in Python.\n",
       "    var element = document.getElementById(id);\n",
       "    var ws_proxy = comm_websocket_adapter(comm);\n",
       "\n",
       "    function ondownload(figure, _format) {\n",
       "        window.open(figure.canvas.toDataURL());\n",
       "    }\n",
       "\n",
       "    var fig = new mpl.figure(id, ws_proxy, ondownload, element);\n",
       "\n",
       "    // Call onopen now - mpl needs it, as it is assuming we've passed it a real\n",
       "    // web socket which is closed, not our websocket->open comm proxy.\n",
       "    ws_proxy.onopen();\n",
       "\n",
       "    fig.parent_element = element;\n",
       "    fig.cell_info = mpl.find_output_cell(\"<div id='\" + id + \"'></div>\");\n",
       "    if (!fig.cell_info) {\n",
       "        console.error('Failed to find cell for figure', id, fig);\n",
       "        return;\n",
       "    }\n",
       "    fig.cell_info[0].output_area.element.on(\n",
       "        'cleared',\n",
       "        { fig: fig },\n",
       "        fig._remove_fig_handler\n",
       "    );\n",
       "};\n",
       "\n",
       "mpl.figure.prototype.handle_close = function (fig, msg) {\n",
       "    var width = fig.canvas.width / fig.ratio;\n",
       "    fig.cell_info[0].output_area.element.off(\n",
       "        'cleared',\n",
       "        fig._remove_fig_handler\n",
       "    );\n",
       "    fig.resizeObserverInstance.unobserve(fig.canvas_div);\n",
       "\n",
       "    // Update the output cell to use the data from the current canvas.\n",
       "    fig.push_to_output();\n",
       "    var dataURL = fig.canvas.toDataURL();\n",
       "    // Re-enable the keyboard manager in IPython - without this line, in FF,\n",
       "    // the notebook keyboard shortcuts fail.\n",
       "    IPython.keyboard_manager.enable();\n",
       "    fig.parent_element.innerHTML =\n",
       "        '<img src=\"' + dataURL + '\" width=\"' + width + '\">';\n",
       "    fig.close_ws(fig, msg);\n",
       "};\n",
       "\n",
       "mpl.figure.prototype.close_ws = function (fig, msg) {\n",
       "    fig.send_message('closing', msg);\n",
       "    // fig.ws.close()\n",
       "};\n",
       "\n",
       "mpl.figure.prototype.push_to_output = function (_remove_interactive) {\n",
       "    // Turn the data on the canvas into data in the output cell.\n",
       "    var width = this.canvas.width / this.ratio;\n",
       "    var dataURL = this.canvas.toDataURL();\n",
       "    this.cell_info[1]['text/html'] =\n",
       "        '<img src=\"' + dataURL + '\" width=\"' + width + '\">';\n",
       "};\n",
       "\n",
       "mpl.figure.prototype.updated_canvas_event = function () {\n",
       "    // Tell IPython that the notebook contents must change.\n",
       "    IPython.notebook.set_dirty(true);\n",
       "    this.send_message('ack', {});\n",
       "    var fig = this;\n",
       "    // Wait a second, then push the new image to the DOM so\n",
       "    // that it is saved nicely (might be nice to debounce this).\n",
       "    setTimeout(function () {\n",
       "        fig.push_to_output();\n",
       "    }, 1000);\n",
       "};\n",
       "\n",
       "mpl.figure.prototype._init_toolbar = function () {\n",
       "    var fig = this;\n",
       "\n",
       "    var toolbar = document.createElement('div');\n",
       "    toolbar.classList = 'btn-toolbar';\n",
       "    this.root.appendChild(toolbar);\n",
       "\n",
       "    function on_click_closure(name) {\n",
       "        return function (_event) {\n",
       "            return fig.toolbar_button_onclick(name);\n",
       "        };\n",
       "    }\n",
       "\n",
       "    function on_mouseover_closure(tooltip) {\n",
       "        return function (event) {\n",
       "            if (!event.currentTarget.disabled) {\n",
       "                return fig.toolbar_button_onmouseover(tooltip);\n",
       "            }\n",
       "        };\n",
       "    }\n",
       "\n",
       "    fig.buttons = {};\n",
       "    var buttonGroup = document.createElement('div');\n",
       "    buttonGroup.classList = 'btn-group';\n",
       "    var button;\n",
       "    for (var toolbar_ind in mpl.toolbar_items) {\n",
       "        var name = mpl.toolbar_items[toolbar_ind][0];\n",
       "        var tooltip = mpl.toolbar_items[toolbar_ind][1];\n",
       "        var image = mpl.toolbar_items[toolbar_ind][2];\n",
       "        var method_name = mpl.toolbar_items[toolbar_ind][3];\n",
       "\n",
       "        if (!name) {\n",
       "            /* Instead of a spacer, we start a new button group. */\n",
       "            if (buttonGroup.hasChildNodes()) {\n",
       "                toolbar.appendChild(buttonGroup);\n",
       "            }\n",
       "            buttonGroup = document.createElement('div');\n",
       "            buttonGroup.classList = 'btn-group';\n",
       "            continue;\n",
       "        }\n",
       "\n",
       "        button = fig.buttons[name] = document.createElement('button');\n",
       "        button.classList = 'btn btn-default';\n",
       "        button.href = '#';\n",
       "        button.title = name;\n",
       "        button.innerHTML = '<i class=\"fa ' + image + ' fa-lg\"></i>';\n",
       "        button.addEventListener('click', on_click_closure(method_name));\n",
       "        button.addEventListener('mouseover', on_mouseover_closure(tooltip));\n",
       "        buttonGroup.appendChild(button);\n",
       "    }\n",
       "\n",
       "    if (buttonGroup.hasChildNodes()) {\n",
       "        toolbar.appendChild(buttonGroup);\n",
       "    }\n",
       "\n",
       "    // Add the status bar.\n",
       "    var status_bar = document.createElement('span');\n",
       "    status_bar.classList = 'mpl-message pull-right';\n",
       "    toolbar.appendChild(status_bar);\n",
       "    this.message = status_bar;\n",
       "\n",
       "    // Add the close button to the window.\n",
       "    var buttongrp = document.createElement('div');\n",
       "    buttongrp.classList = 'btn-group inline pull-right';\n",
       "    button = document.createElement('button');\n",
       "    button.classList = 'btn btn-mini btn-primary';\n",
       "    button.href = '#';\n",
       "    button.title = 'Stop Interaction';\n",
       "    button.innerHTML = '<i class=\"fa fa-power-off icon-remove icon-large\"></i>';\n",
       "    button.addEventListener('click', function (_evt) {\n",
       "        fig.handle_close(fig, {});\n",
       "    });\n",
       "    button.addEventListener(\n",
       "        'mouseover',\n",
       "        on_mouseover_closure('Stop Interaction')\n",
       "    );\n",
       "    buttongrp.appendChild(button);\n",
       "    var titlebar = this.root.querySelector('.ui-dialog-titlebar');\n",
       "    titlebar.insertBefore(buttongrp, titlebar.firstChild);\n",
       "};\n",
       "\n",
       "mpl.figure.prototype._remove_fig_handler = function (event) {\n",
       "    var fig = event.data.fig;\n",
       "    if (event.target !== this) {\n",
       "        // Ignore bubbled events from children.\n",
       "        return;\n",
       "    }\n",
       "    fig.close_ws(fig, {});\n",
       "};\n",
       "\n",
       "mpl.figure.prototype._root_extra_style = function (el) {\n",
       "    el.style.boxSizing = 'content-box'; // override notebook setting of border-box.\n",
       "};\n",
       "\n",
       "mpl.figure.prototype._canvas_extra_style = function (el) {\n",
       "    // this is important to make the div 'focusable\n",
       "    el.setAttribute('tabindex', 0);\n",
       "    // reach out to IPython and tell the keyboard manager to turn it's self\n",
       "    // off when our div gets focus\n",
       "\n",
       "    // location in version 3\n",
       "    if (IPython.notebook.keyboard_manager) {\n",
       "        IPython.notebook.keyboard_manager.register_events(el);\n",
       "    } else {\n",
       "        // location in version 2\n",
       "        IPython.keyboard_manager.register_events(el);\n",
       "    }\n",
       "};\n",
       "\n",
       "mpl.figure.prototype._key_event_extra = function (event, _name) {\n",
       "    var manager = IPython.notebook.keyboard_manager;\n",
       "    if (!manager) {\n",
       "        manager = IPython.keyboard_manager;\n",
       "    }\n",
       "\n",
       "    // Check for shift+enter\n",
       "    if (event.shiftKey && event.which === 13) {\n",
       "        this.canvas_div.blur();\n",
       "        // select the cell after this one\n",
       "        var index = IPython.notebook.find_cell_index(this.cell_info[0]);\n",
       "        IPython.notebook.select(index + 1);\n",
       "    }\n",
       "};\n",
       "\n",
       "mpl.figure.prototype.handle_save = function (fig, _msg) {\n",
       "    fig.ondownload(fig, null);\n",
       "};\n",
       "\n",
       "mpl.find_output_cell = function (html_output) {\n",
       "    // Return the cell and output element which can be found *uniquely* in the notebook.\n",
       "    // Note - this is a bit hacky, but it is done because the \"notebook_saving.Notebook\"\n",
       "    // IPython event is triggered only after the cells have been serialised, which for\n",
       "    // our purposes (turning an active figure into a static one), is too late.\n",
       "    var cells = IPython.notebook.get_cells();\n",
       "    var ncells = cells.length;\n",
       "    for (var i = 0; i < ncells; i++) {\n",
       "        var cell = cells[i];\n",
       "        if (cell.cell_type === 'code') {\n",
       "            for (var j = 0; j < cell.output_area.outputs.length; j++) {\n",
       "                var data = cell.output_area.outputs[j];\n",
       "                if (data.data) {\n",
       "                    // IPython >= 3 moved mimebundle to data attribute of output\n",
       "                    data = data.data;\n",
       "                }\n",
       "                if (data['text/html'] === html_output) {\n",
       "                    return [cell, data, j];\n",
       "                }\n",
       "            }\n",
       "        }\n",
       "    }\n",
       "};\n",
       "\n",
       "// Register the function which deals with the matplotlib target/channel.\n",
       "// The kernel may be null if the page has been refreshed.\n",
       "if (IPython.notebook.kernel !== null) {\n",
       "    IPython.notebook.kernel.comm_manager.register_target(\n",
       "        'matplotlib',\n",
       "        mpl.mpl_figure_comm\n",
       "    );\n",
       "}\n"
      ],
      "text/plain": [
       "<IPython.core.display.Javascript object>"
      ]
     },
     "metadata": {},
     "output_type": "display_data"
    },
    {
     "data": {
      "text/html": [
       "<img src=\"data:image/png;base64,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\" width=\"599.9999869953505\">"
      ],
      "text/plain": [
       "<IPython.core.display.HTML object>"
      ]
     },
     "metadata": {},
     "output_type": "display_data"
    }
   ],
   "source": [
    "%matplotlib notebook\n",
    "from mpl_toolkits.mplot3d import Axes3D\n",
    "\n",
    "fig = plt.figure(figsize=(6, 4))\n",
    "ax = fig.add_subplot(111, projection='3d')\n",
    "\n",
    "ax.scatter(X_test[:,0], X_test[:,1], y_test, c='blue', marker='o')\n",
    "ax.plot_surface(X1, X2, Y.reshape(X1.shape), color='y', alpha=0.3)\n",
    "\n",
    "ax.set_xlabel('bmi')\n",
    "ax.set_ylabel('bp')\n",
    "ax.set_zlabel('progress')\n",
    "plt.show()"
   ]
  },
  {
   "cell_type": "markdown",
   "metadata": {},
   "source": [
    "# 실습\n",
    "\n",
    "- 모든 변수를 사용한 다변수 선형회귀  \n",
    "- 이전 결과들과 r2 score 비교"
   ]
  }
 ],
 "metadata": {
  "kernelspec": {
   "display_name": "Python 3",
   "language": "python",
   "name": "python3"
  },
  "language_info": {
   "codemirror_mode": {
    "name": "ipython",
    "version": 3
   },
   "file_extension": ".py",
   "mimetype": "text/x-python",
   "name": "python",
   "nbconvert_exporter": "python",
   "pygments_lexer": "ipython3",
   "version": "3.7.10"
  }
 },
 "nbformat": 4,
 "nbformat_minor": 2
}
