{
 "cells": [
  {
   "cell_type": "markdown",
   "id": "excellent-animation",
   "metadata": {},
   "source": [
    "# XGBoost 를 이용한 통신사의 고객 이탈 여부 예측  \n",
    "\n",
    "### xgboost 설치\n",
    "\n",
    "```\n",
    "conda install -c conda-forge xgboost\n",
    "```"
   ]
  },
  {
   "cell_type": "markdown",
   "id": "public-tunisia",
   "metadata": {},
   "source": [
    "### Data 불러오기"
   ]
  },
  {
   "cell_type": "markdown",
   "id": "entitled-gateway",
   "metadata": {},
   "source": [
    "- 'Churn Label', 'Churn Score', 'CLTV', 'Churn Reason'의 4 개 column은 탈회 이유를 사후에 interview한 것이므로 column 삭제"
   ]
  },
  {
   "cell_type": "markdown",
   "id": "isolated-shape",
   "metadata": {},
   "source": [
    "- object column 의 통계 조회"
   ]
  },
  {
   "cell_type": "markdown",
   "id": "excellent-organization",
   "metadata": {},
   "source": [
    "- unique value를 가진 column 은 분류에 도움되지 않으므로 삭제"
   ]
  },
  {
   "cell_type": "markdown",
   "id": "dying-figure",
   "metadata": {},
   "source": [
    "- 'Customer ID' 도 분류에 도움되지 않으므로 삭제\n",
    "\n",
    "- 'Lat Long'은 'Latitude'와 'Longitude' 별도 column으로 구분되어 있으므로 삭제"
   ]
  },
  {
   "cell_type": "markdown",
   "id": "optical-vision",
   "metadata": {},
   "source": [
    "### Column 명 내의 white space 처리"
   ]
  },
  {
   "cell_type": "markdown",
   "id": "capable-employer",
   "metadata": {},
   "source": [
    "### Missing Value 존재 check"
   ]
  },
  {
   "cell_type": "markdown",
   "id": "temporal-picture",
   "metadata": {},
   "source": [
    "- Total_Charges는 numeric data 인데 object로 되어 있으므로 numeric column으로 바꾸어 준다.  \n",
    "\n",
    "- space 의 경우 0 으로 채움"
   ]
  },
  {
   "cell_type": "markdown",
   "id": "automated-vermont",
   "metadata": {},
   "source": [
    "XGBoost tree 시각화를 위해 모든 data의 space를 `_`로 바꾸어 준다."
   ]
  },
  {
   "cell_type": "markdown",
   "id": "known-timing",
   "metadata": {},
   "source": [
    "### XGBoost 에 맞도록  Data Formatting\n",
    "- 독립, 종속 변수 분리  \n",
    "\n",
    "- One-hot-encoding\n",
    "\n",
    "- 모든 column 들을 int, float, bool 로 convert"
   ]
  },
  {
   "cell_type": "markdown",
   "id": "honey-runner",
   "metadata": {},
   "source": [
    "- label value의 편향성을 check하여 불균형이 클 경우 train set과 test set의 분포를 동일하게 유지하기 위해 층화추출법을 적용"
   ]
  },
  {
   "cell_type": "markdown",
   "id": "sexual-application",
   "metadata": {},
   "source": [
    "`label = 1`의 비율이 유지 되었는지 확인"
   ]
  },
  {
   "cell_type": "markdown",
   "id": "proud-treatment",
   "metadata": {},
   "source": [
    "### XGBoost 초기 model 작성"
   ]
  },
  {
   "cell_type": "markdown",
   "id": "independent-elder",
   "metadata": {},
   "source": [
    "- `balanced_accuracy_score` : \n",
    "불균형 데이터 세트를 처리하기 위한 이진 및 다중 클래스 분류 문제의 균형 잡힌 정확도. 각 클래스에서 얻은 recall의 평균으로 정의됩니다."
   ]
  },
  {
   "cell_type": "markdown",
   "id": "earned-lending",
   "metadata": {},
   "source": [
    "### Cross Validation 과 Grid Search로 Parameter 최적화\n",
    "- learning rate, tree 깊이, tree 수, gamma(pruning), lambda (regularization)"
   ]
  },
  {
   "cell_type": "markdown",
   "id": "professional-europe",
   "metadata": {},
   "source": [
    "- 초기 grid search"
   ]
  },
  {
   "cell_type": "markdown",
   "id": "divine-philosophy",
   "metadata": {},
   "source": [
    "- grid search (약 3~5 분 소요)"
   ]
  },
  {
   "cell_type": "markdown",
   "id": "damaged-holmes",
   "metadata": {},
   "source": [
    "- 초기 search 결과를 바탕으로 범위를 좁혀서 search"
   ]
  },
  {
   "cell_type": "markdown",
   "id": "legislative-deficit",
   "metadata": {},
   "source": [
    "### Optimal XGBoost model 작성 및 평가, 시각화"
   ]
  },
  {
   "cell_type": "markdown",
   "id": "matched-lying",
   "metadata": {},
   "source": [
    "- optimize 된 model 은 `탈회 고객(Left)`을 더 잘 예측하는 대신 이전 model에 비해 `Did not leave` 도 `Left`로 더 많이 분류  \n",
    "\n",
    "- 회사 입장에서 탈회 않을 고객을 미리 잘 해주어 크게 손해 볼 것 없으므로 이전 model 보다 지금의 model이 더 탈회 고객 사전 관리에 유리하다."
   ]
  },
  {
   "cell_type": "markdown",
   "id": "digital-chancellor",
   "metadata": {},
   "source": [
    "### XGBoost Tree 시각화\n",
    "\n",
    "- first tree 만 생성"
   ]
  },
  {
   "cell_type": "markdown",
   "id": "correct-temperature",
   "metadata": {},
   "source": [
    "* 'weight': 모든 트리에서 데이터를 분할하는 데 특성이 사용된 횟수입니다.\n",
    "* 'gain': 특성이 사용되는 모든 분할에 대한 평균 gain.\n",
    "* 'cover': 그 특성이 사용되는 모든 분할에 대한 평균 적용 범위.\n",
    "* 'total_gain': 특성이 사용되는 모든 분할에 대한 총 이득.\n",
    "* 'total_cover': 특성이 사용되는 모든 분할에 대한 총 적용 범위."
   ]
  }
 ],
 "metadata": {
  "kernelspec": {
   "display_name": "Python 3",
   "language": "python",
   "name": "python3"
  },
  "language_info": {
   "codemirror_mode": {
    "name": "ipython",
    "version": 3
   },
   "file_extension": ".py",
   "mimetype": "text/x-python",
   "name": "python",
   "nbconvert_exporter": "python",
   "pygments_lexer": "ipython3",
   "version": "3.7.10"
  }
 },
 "nbformat": 4,
 "nbformat_minor": 5
}
