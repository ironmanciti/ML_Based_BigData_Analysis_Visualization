{
 "cells": [
  {
   "cell_type": "markdown",
   "metadata": {
    "slideshow": {
     "slide_type": "slide"
    }
   },
   "source": [
    "## meshgrid (3 차원 자료의 2 차원 공간 표현)\n",
    "\n",
    "- 입력 변수가 x, y 두 개이고 출력 변수가 z 하나인 경우에는 3차원 자료가 됨   \n",
    "\n",
    "\n",
    "- 3차원 자료를 2차원 평면에 시각화하는 방법 \n",
    "\n",
    "\n",
    "    - 색(color)로 구분  \n",
    "    - 입력 변수 x, y는 그대로 사용할 수 없고 meshgrid 명령으로 `그리드 포인트 행렬`을 만들어야 함\n",
    "    \n",
    "\n",
    "- meshgrid : coordinate vector 를 이용하여 coordinate matrix 구성\n",
    "\n",
    "<img src=\"meshgrid.png\" width=\"600\">"
   ]
  },
  {
   "cell_type": "markdown",
   "metadata": {},
   "source": [
    "## meshgrid 를 이용한 x, y 의 조합\n",
    "```\n",
    "x = [0, 1, 2]\n",
    "y = [0, 1, 2]\n",
    "\n",
    "X1= [[0 1 2]\n",
    "     [0 1 2]\n",
    "     [0 1 2]]\n",
    "x2= [[0 0 0]\n",
    "     [1 1 1]\n",
    "     [2 2 2]]\n",
    "```\n",
    "<img src=\"meshgrid1.png\" width=\"250\">"
   ]
  },
  {
   "cell_type": "markdown",
   "metadata": {},
   "source": [
    "## 시각화를 통한 결정 경계 표시\n",
    "\n",
    "- `matplotlib.pyplot.pcolormesh(X, Y, C, cmap=)`  \n",
    "    - 직사각형 그리드로 색상 플롯을 생성합니다.\n",
    "    - X: x 좌표  \n",
    "    - Y: y 좌표  \n",
    "    - C: color mapping 될 value\n",
    "    \n",
    "<img src=\"pcolormesh.png\" width=\"400\">"
   ]
  },
  {
   "cell_type": "markdown",
   "metadata": {},
   "source": [
    "### 이진 분류의 결정 경계 표시"
   ]
  },
  {
   "cell_type": "markdown",
   "metadata": {},
   "source": [
    "- Y 가 0, 1 인 결정 경계 표시\n",
    "- 실제 data 표시"
   ]
  }
 ],
 "metadata": {
  "kernelspec": {
   "display_name": "Python 3",
   "language": "python",
   "name": "python3"
  },
  "language_info": {
   "codemirror_mode": {
    "name": "ipython",
    "version": 3
   },
   "file_extension": ".py",
   "mimetype": "text/x-python",
   "name": "python",
   "nbconvert_exporter": "python",
   "pygments_lexer": "ipython3",
   "version": "3.7.3"
  }
 },
 "nbformat": 4,
 "nbformat_minor": 2
}
